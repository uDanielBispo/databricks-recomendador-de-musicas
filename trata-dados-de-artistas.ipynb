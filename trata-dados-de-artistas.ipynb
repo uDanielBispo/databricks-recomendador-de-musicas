{
 "cells": [
  {
   "cell_type": "code",
   "execution_count": 0,
   "metadata": {
    "application/vnd.databricks.v1+cell": {
     "cellMetadata": {
      "byteLimit": 2048000,
      "rowLimit": 10000
     },
     "inputWidgets": {},
     "nuid": "cfd46d7b-7a16-4b0f-af96-2bab150e4b68",
     "showTitle": false,
     "tableResultSettingsMap": {},
     "title": ""
    }
   },
   "outputs": [],
   "source": [
    "data_path = '/FileStore/dados/data_by_artist.csv'"
   ]
  },
  {
   "cell_type": "code",
   "execution_count": 0,
   "metadata": {
    "application/vnd.databricks.v1+cell": {
     "cellMetadata": {
      "byteLimit": 2048000,
      "rowLimit": 10000
     },
     "inputWidgets": {},
     "nuid": "e11f6f84-44d7-46a3-87a7-3db95a95190a",
     "showTitle": false,
     "tableResultSettingsMap": {},
     "title": ""
    }
   },
   "outputs": [
    {
     "output_type": "stream",
     "name": "stdout",
     "output_type": "stream",
     "text": [
      "Out[10]: [FileInfo(path='dbfs:/FileStore/dados/data.csv', name='data.csv', size=29654587, modificationTime=1739827659000),\n FileInfo(path='dbfs:/FileStore/dados/data_by_artist.csv', name='data_by_artist.csv', size=4315607, modificationTime=1739827652000),\n FileInfo(path='dbfs:/FileStore/dados/data_by_genres.csv', name='data_by_genres.csv', size=576456, modificationTime=1739827652000),\n FileInfo(path='dbfs:/FileStore/dados/data_by_year.csv', name='data_by_year.csv', size=21194, modificationTime=1739827653000),\n FileInfo(path='dbfs:/FileStore/dados/data_w_genres.csv', name='data_w_genres.csv', size=5224673, modificationTime=1739827655000)]"
     ]
    }
   ],
   "source": [
    "dbutils.fs.ls('/FileStore/dados/')"
   ]
  },
  {
   "cell_type": "code",
   "execution_count": 0,
   "metadata": {
    "application/vnd.databricks.v1+cell": {
     "cellMetadata": {
      "byteLimit": 2048000,
      "rowLimit": 10000
     },
     "inputWidgets": {},
     "nuid": "62e1e06e-a001-4966-aa17-0fbc27e629d1",
     "showTitle": false,
     "tableResultSettingsMap": {},
     "title": ""
    }
   },
   "outputs": [],
   "source": [
    "df_data_artists = spark.read.csv(data_path, sep=',', inferSchema=True, header=True)"
   ]
  },
  {
   "cell_type": "code",
   "execution_count": 0,
   "metadata": {
    "application/vnd.databricks.v1+cell": {
     "cellMetadata": {
      "byteLimit": 2048000,
      "rowLimit": 10000
     },
     "inputWidgets": {},
     "nuid": "6a7ed2c1-a48d-471f-8d01-026a60ce86b0",
     "showTitle": false,
     "tableResultSettingsMap": {},
     "title": ""
    }
   },
   "outputs": [],
   "source": [
    "df_data_artists = df_data_artists.pandas_api()"
   ]
  },
  {
   "cell_type": "code",
   "execution_count": 0,
   "metadata": {
    "application/vnd.databricks.v1+cell": {
     "cellMetadata": {},
     "inputWidgets": {},
     "nuid": "76cbb5f7-59f2-4529-87bf-4c464c8e114e",
     "showTitle": false,
     "tableResultSettingsMap": {},
     "title": ""
    }
   },
   "outputs": [],
   "source": [
    "df_data_artists['artists'] = df_data_artists.artists.str.replace('\"', '')"
   ]
  },
  {
   "cell_type": "code",
   "execution_count": 0,
   "metadata": {
    "application/vnd.databricks.v1+cell": {
     "cellMetadata": {
      "byteLimit": 2048000,
      "rowLimit": 10000
     },
     "inputWidgets": {},
     "nuid": "5fdba589-d332-46a6-9f83-de3b93ed5f2c",
     "showTitle": false,
     "tableResultSettingsMap": {},
     "title": ""
    }
   },
   "outputs": [
    {
     "output_type": "display_data",
     "data": {
      "text/html": [
       "<style scoped>\n",
       "  .table-result-container {\n",
       "    max-height: 300px;\n",
       "    overflow: auto;\n",
       "  }\n",
       "  table, th, td {\n",
       "    border: 1px solid black;\n",
       "    border-collapse: collapse;\n",
       "  }\n",
       "  th, td {\n",
       "    padding: 5px;\n",
       "  }\n",
       "  th {\n",
       "    text-align: left;\n",
       "  }\n",
       "</style><div class='table-result-container'><table class='table-result'><thead style='background-color: white'><tr><th>mode</th><th>count</th><th>acousticness</th><th>artists</th><th>danceability</th><th>duration_ms</th><th>energy</th><th>instrumentalness</th><th>liveness</th><th>loudness</th><th>speechiness</th><th>tempo</th><th>valence</th><th>popularity</th><th>key</th></tr></thead><tbody><tr><td>1</td><td>9</td><td>0.5901111111111111</td><td>\"\"\"Cats\"\" 1981 Original London Cast\"</td><td>0.4672222222222222</td><td>250318.5555555556</td><td>0.3940033333333333</td><td>0.011399851111111107</td><td>0.2908333333333333</td><td>-14.448</td><td>0.21038888888888888</td><td>117.51811111111112</td><td>0.3895</td><td>38.333333333333336</td><td>5</td></tr><tr><td>1</td><td>26</td><td>0.8625384615384617</td><td>\"\"\"Cats\"\" 1983 Broadway Cast\"</td><td>0.4417307692307693</td><td>287280.0</td><td>0.4068076923076923</td><td>0.08115826423076923</td><td>0.3152153846153846</td><td>-10.69</td><td>0.17621153846153847</td><td>103.04415384615385</td><td>0.2688653846153846</td><td>30.57692307692308</td><td>5</td></tr><tr><td>1</td><td>7</td><td>0.8565714285714285</td><td>\"\"\"Fiddler On The Roof” Motion Picture Chorus\"</td><td>0.34828571428571425</td><td>328920.0</td><td>0.2865714285714285</td><td>0.024592948571428568</td><td>0.3257857142857143</td><td>-15.230714285714285</td><td>0.1185142857142857</td><td>77.37585714285714</td><td>0.3548571428571429</td><td>34.857142857142854</td><td>0</td></tr><tr><td>1</td><td>27</td><td>0.884925925925926</td><td>\"\"\"Fiddler On The Roof” Motion Picture Orchestra\"</td><td>0.4250740740740739</td><td>262890.96296296304</td><td>0.2457703703703704</td><td>0.07358727925925927</td><td>0.2754814814814815</td><td>-15.639370370370367</td><td>0.12320000000000005</td><td>88.66762962962959</td><td>0.3720296296296296</td><td>34.85185185185185</td><td>0</td></tr><tr><td>1</td><td>7</td><td>0.5107142857142857</td><td>\"\"\"Joseph And The Amazing Technicolor Dreamcoat\"\" 1991 London Cast\"</td><td>0.4671428571428572</td><td>270436.14285714284</td><td>0.4882857142857143</td><td>0.00940029142857143</td><td>0.195</td><td>-10.236714285714287</td><td>0.09854285714285717</td><td>122.83585714285714</td><td>0.4822857142857143</td><td>43.0</td><td>5</td></tr></tbody></table></div>"
      ]
     },
     "metadata": {
      "application/vnd.databricks.v1+output": {
       "addedWidgets": {},
       "aggData": [],
       "aggError": "",
       "aggOverflow": false,
       "aggSchema": [],
       "aggSeriesLimitReached": false,
       "aggType": "",
       "arguments": {},
       "columnCustomDisplayInfos": {},
       "data": [
        [
         1,
         9,
         0.5901111111111111,
         "\"\"\"Cats\"\" 1981 Original London Cast\"",
         0.4672222222222222,
         250318.5555555556,
         0.3940033333333333,
         0.011399851111111107,
         0.2908333333333333,
         -14.448,
         0.21038888888888888,
         117.51811111111112,
         0.3895,
         38.333333333333336,
         5
        ],
        [
         1,
         26,
         0.8625384615384617,
         "\"\"\"Cats\"\" 1983 Broadway Cast\"",
         0.4417307692307693,
         287280.0,
         0.4068076923076923,
         0.08115826423076923,
         0.3152153846153846,
         -10.69,
         0.17621153846153847,
         103.04415384615385,
         0.2688653846153846,
         30.57692307692308,
         5
        ],
        [
         1,
         7,
         0.8565714285714285,
         "\"\"\"Fiddler On The Roof” Motion Picture Chorus\"",
         0.34828571428571425,
         328920.0,
         0.2865714285714285,
         0.024592948571428568,
         0.3257857142857143,
         -15.230714285714285,
         0.1185142857142857,
         77.37585714285714,
         0.3548571428571429,
         34.857142857142854,
         0
        ],
        [
         1,
         27,
         0.884925925925926,
         "\"\"\"Fiddler On The Roof” Motion Picture Orchestra\"",
         0.4250740740740739,
         262890.96296296304,
         0.2457703703703704,
         0.07358727925925927,
         0.2754814814814815,
         -15.639370370370367,
         0.12320000000000005,
         88.66762962962959,
         0.3720296296296296,
         34.85185185185185,
         0
        ],
        [
         1,
         7,
         0.5107142857142857,
         "\"\"\"Joseph And The Amazing Technicolor Dreamcoat\"\" 1991 London Cast\"",
         0.4671428571428572,
         270436.14285714284,
         0.4882857142857143,
         0.00940029142857143,
         0.195,
         -10.236714285714287,
         0.09854285714285717,
         122.83585714285714,
         0.4822857142857143,
         43.0,
         5
        ]
       ],
       "datasetInfos": [],
       "dbfsResultPath": null,
       "isJsonSchema": true,
       "metadata": {},
       "overflow": false,
       "plotOptions": {
        "customPlotOptions": {},
        "displayType": "table",
        "pivotAggregation": null,
        "pivotColumns": null,
        "xColumns": null,
        "yColumns": null
       },
       "removedWidgets": [],
       "schema": [
        {
         "metadata": "{}",
         "name": "mode",
         "type": "\"integer\""
        },
        {
         "metadata": "{}",
         "name": "count",
         "type": "\"integer\""
        },
        {
         "metadata": "{}",
         "name": "acousticness",
         "type": "\"double\""
        },
        {
         "metadata": "{}",
         "name": "artists",
         "type": "\"string\""
        },
        {
         "metadata": "{}",
         "name": "danceability",
         "type": "\"double\""
        },
        {
         "metadata": "{}",
         "name": "duration_ms",
         "type": "\"double\""
        },
        {
         "metadata": "{}",
         "name": "energy",
         "type": "\"double\""
        },
        {
         "metadata": "{}",
         "name": "instrumentalness",
         "type": "\"double\""
        },
        {
         "metadata": "{}",
         "name": "liveness",
         "type": "\"double\""
        },
        {
         "metadata": "{}",
         "name": "loudness",
         "type": "\"double\""
        },
        {
         "metadata": "{}",
         "name": "speechiness",
         "type": "\"double\""
        },
        {
         "metadata": "{}",
         "name": "tempo",
         "type": "\"double\""
        },
        {
         "metadata": "{}",
         "name": "valence",
         "type": "\"double\""
        },
        {
         "metadata": "{}",
         "name": "popularity",
         "type": "\"double\""
        },
        {
         "metadata": "{}",
         "name": "key",
         "type": "\"integer\""
        }
       ],
       "type": "table"
      }
     },
     "output_type": "display_data"
    }
   ],
   "source": [
    "display(df_data_artists.head())"
   ]
  },
  {
   "cell_type": "code",
   "execution_count": 0,
   "metadata": {
    "application/vnd.databricks.v1+cell": {
     "cellMetadata": {
      "byteLimit": 2048000,
      "rowLimit": 10000
     },
     "inputWidgets": {},
     "nuid": "54f6ef19-7a3a-497f-b19f-7b33722af2be",
     "showTitle": false,
     "tableResultSettingsMap": {},
     "title": ""
    }
   },
   "outputs": [],
   "source": [
    "df_data_artists.to_parquet('dbfs:/FileStore/dados_tratados/data_artists.parquet')"
   ]
  }
 ],
 "metadata": {
  "application/vnd.databricks.v1+notebook": {
   "computePreferences": null,
   "dashboards": [],
   "environmentMetadata": {
    "base_environment": "",
    "client": "1"
   },
   "language": "python",
   "notebookMetadata": {
    "pythonIndentUnit": 4
   },
   "notebookName": "trata-dados-de-artistas",
   "widgets": {}
  }
 },
 "nbformat": 4,
 "nbformat_minor": 0
}
