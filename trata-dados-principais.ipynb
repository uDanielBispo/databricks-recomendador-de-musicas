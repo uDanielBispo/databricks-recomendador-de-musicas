{
 "cells": [
  {
   "cell_type": "code",
   "execution_count": 0,
   "metadata": {
    "application/vnd.databricks.v1+cell": {
     "cellMetadata": {
      "byteLimit": 2048000,
      "rowLimit": 10000
     },
     "inputWidgets": {},
     "nuid": "e70f6f52-7087-4969-b2fb-3ad88a0a44e1",
     "showTitle": false,
     "tableResultSettingsMap": {},
     "title": ""
    }
   },
   "outputs": [],
   "source": [
    "data_path = '/FileStore/dados/data.csv'"
   ]
  },
  {
   "cell_type": "code",
   "execution_count": 0,
   "metadata": {
    "application/vnd.databricks.v1+cell": {
     "cellMetadata": {
      "byteLimit": 2048000,
      "rowLimit": 10000
     },
     "inputWidgets": {},
     "nuid": "8de075c2-8fa5-490d-8fd0-eb93fa403734",
     "showTitle": false,
     "tableResultSettingsMap": {},
     "title": ""
    }
   },
   "outputs": [],
   "source": [
    "df_data = spark.read.csv(data_path, sep=',', inferSchema=True, header=True)"
   ]
  },
  {
   "cell_type": "code",
   "execution_count": 0,
   "metadata": {
    "application/vnd.databricks.v1+cell": {
     "cellMetadata": {
      "byteLimit": 2048000,
      "rowLimit": 10000
     },
     "inputWidgets": {},
     "nuid": "20f1e920-5216-413d-b734-fbb15e8cc365",
     "showTitle": false,
     "tableResultSettingsMap": {},
     "title": ""
    }
   },
   "outputs": [
    {
     "output_type": "stream",
     "name": "stdout",
     "output_type": "stream",
     "text": [
      "Out[87]: pyspark.sql.dataframe.DataFrame"
     ]
    }
   ],
   "source": [
    "type(df_data)"
   ]
  },
  {
   "cell_type": "code",
   "execution_count": 0,
   "metadata": {
    "application/vnd.databricks.v1+cell": {
     "cellMetadata": {
      "byteLimit": 2048000,
      "rowLimit": 10000
     },
     "inputWidgets": {},
     "nuid": "31fa559c-a455-4408-b795-01078c7e6e14",
     "showTitle": false,
     "tableResultSettingsMap": {},
     "title": ""
    }
   },
   "outputs": [],
   "source": [
    "df_data = df_data.pandas_api()"
   ]
  },
  {
   "cell_type": "code",
   "execution_count": 0,
   "metadata": {
    "application/vnd.databricks.v1+cell": {
     "cellMetadata": {
      "byteLimit": 2048000,
      "rowLimit": 10000
     },
     "inputWidgets": {},
     "nuid": "8fa6fb99-b345-4690-957d-61ac8f6cc2f8",
     "showTitle": false,
     "tableResultSettingsMap": {},
     "title": ""
    }
   },
   "outputs": [
    {
     "output_type": "display_data",
     "data": {
      "text/html": [
       "<div>\n",
       "<style scoped>\n",
       "    .dataframe tbody tr th:only-of-type {\n",
       "        vertical-align: middle;\n",
       "    }\n",
       "\n",
       "    .dataframe tbody tr th {\n",
       "        vertical-align: top;\n",
       "    }\n",
       "\n",
       "    .dataframe thead th {\n",
       "        text-align: right;\n",
       "    }\n",
       "</style>\n",
       "<table border=\"1\" class=\"dataframe\">\n",
       "  <thead>\n",
       "    <tr style=\"text-align: right;\">\n",
       "      <th></th>\n",
       "      <th>valence</th>\n",
       "      <th>year</th>\n",
       "      <th>acousticness</th>\n",
       "      <th>artists</th>\n",
       "      <th>danceability</th>\n",
       "      <th>duration_ms</th>\n",
       "      <th>energy</th>\n",
       "      <th>explicit</th>\n",
       "      <th>id</th>\n",
       "      <th>instrumentalness</th>\n",
       "      <th>key</th>\n",
       "      <th>liveness</th>\n",
       "      <th>loudness</th>\n",
       "      <th>mode</th>\n",
       "      <th>name</th>\n",
       "      <th>popularity</th>\n",
       "      <th>release_date</th>\n",
       "      <th>speechiness</th>\n",
       "      <th>tempo</th>\n",
       "    </tr>\n",
       "  </thead>\n",
       "  <tbody>\n",
       "    <tr>\n",
       "      <th>0</th>\n",
       "      <td>0.0594</td>\n",
       "      <td>1921</td>\n",
       "      <td>0.982</td>\n",
       "      <td>['Sergei Rachmaninoff', 'James Levine', 'Berli...</td>\n",
       "      <td>0.279</td>\n",
       "      <td>831667</td>\n",
       "      <td>0.211</td>\n",
       "      <td>0</td>\n",
       "      <td>4BJqT0PrAfrxzMOxytFOIz</td>\n",
       "      <td>0.878</td>\n",
       "      <td>10</td>\n",
       "      <td>0.665</td>\n",
       "      <td>-20.096</td>\n",
       "      <td>1</td>\n",
       "      <td>Piano Concerto No. 3 in D Minor, Op. 30: III. ...</td>\n",
       "      <td>4</td>\n",
       "      <td>1921</td>\n",
       "      <td>0.0366</td>\n",
       "      <td>80.954</td>\n",
       "    </tr>\n",
       "    <tr>\n",
       "      <th>1</th>\n",
       "      <td>0.9630</td>\n",
       "      <td>1921</td>\n",
       "      <td>0.732</td>\n",
       "      <td>['Dennis Day']</td>\n",
       "      <td>0.8190000000000001</td>\n",
       "      <td>180533</td>\n",
       "      <td>0.341</td>\n",
       "      <td>0</td>\n",
       "      <td>7xPhfUan2yNtyFG0cUWkt8</td>\n",
       "      <td>0.0</td>\n",
       "      <td>7</td>\n",
       "      <td>0.16</td>\n",
       "      <td>-12.441</td>\n",
       "      <td>1</td>\n",
       "      <td>Clancy Lowered the Boom</td>\n",
       "      <td>5</td>\n",
       "      <td>1921</td>\n",
       "      <td>0.415</td>\n",
       "      <td>60.93600000000001</td>\n",
       "    </tr>\n",
       "    <tr>\n",
       "      <th>2</th>\n",
       "      <td>0.0394</td>\n",
       "      <td>1921</td>\n",
       "      <td>0.961</td>\n",
       "      <td>['KHP Kridhamardawa Karaton Ngayogyakarta Hadi...</td>\n",
       "      <td>0.328</td>\n",
       "      <td>500062</td>\n",
       "      <td>0.166</td>\n",
       "      <td>0</td>\n",
       "      <td>1o6I8BglA6ylDMrIELygv1</td>\n",
       "      <td>0.913</td>\n",
       "      <td>3</td>\n",
       "      <td>0.101</td>\n",
       "      <td>-14.85</td>\n",
       "      <td>1</td>\n",
       "      <td>Gati Bali</td>\n",
       "      <td>5</td>\n",
       "      <td>1921</td>\n",
       "      <td>0.0339</td>\n",
       "      <td>110.339</td>\n",
       "    </tr>\n",
       "    <tr>\n",
       "      <th>3</th>\n",
       "      <td>0.1650</td>\n",
       "      <td>1921</td>\n",
       "      <td>0.967</td>\n",
       "      <td>['Frank Parker']</td>\n",
       "      <td>0.275</td>\n",
       "      <td>210000</td>\n",
       "      <td>0.309</td>\n",
       "      <td>0</td>\n",
       "      <td>3ftBPsC5vPBKxYSee08FDH</td>\n",
       "      <td>2.77e-05</td>\n",
       "      <td>5</td>\n",
       "      <td>0.381</td>\n",
       "      <td>-9.316</td>\n",
       "      <td>1</td>\n",
       "      <td>Danny Boy</td>\n",
       "      <td>3</td>\n",
       "      <td>1921</td>\n",
       "      <td>0.0354</td>\n",
       "      <td>100.109</td>\n",
       "    </tr>\n",
       "    <tr>\n",
       "      <th>4</th>\n",
       "      <td>0.2530</td>\n",
       "      <td>1921</td>\n",
       "      <td>0.957</td>\n",
       "      <td>['Phil Regan']</td>\n",
       "      <td>0.418</td>\n",
       "      <td>166693</td>\n",
       "      <td>0.193</td>\n",
       "      <td>0</td>\n",
       "      <td>4d6HGyGT8e121BsdKmw9v6</td>\n",
       "      <td>1.68e-06</td>\n",
       "      <td>3</td>\n",
       "      <td>0.229</td>\n",
       "      <td>-10.096</td>\n",
       "      <td>1</td>\n",
       "      <td>When Irish Eyes Are Smiling</td>\n",
       "      <td>2</td>\n",
       "      <td>1921</td>\n",
       "      <td>0.038</td>\n",
       "      <td>101.665</td>\n",
       "    </tr>\n",
       "  </tbody>\n",
       "</table>\n",
       "</div>"
      ]
     },
     "metadata": {
      "application/vnd.databricks.v1+output": {
       "addedWidgets": {},
       "arguments": {},
       "data": "<div>\n<style scoped>\n    .dataframe tbody tr th:only-of-type {\n        vertical-align: middle;\n    }\n\n    .dataframe tbody tr th {\n        vertical-align: top;\n    }\n\n    .dataframe thead th {\n        text-align: right;\n    }\n</style>\n<table border=\"1\" class=\"dataframe\">\n  <thead>\n    <tr style=\"text-align: right;\">\n      <th></th>\n      <th>valence</th>\n      <th>year</th>\n      <th>acousticness</th>\n      <th>artists</th>\n      <th>danceability</th>\n      <th>duration_ms</th>\n      <th>energy</th>\n      <th>explicit</th>\n      <th>id</th>\n      <th>instrumentalness</th>\n      <th>key</th>\n      <th>liveness</th>\n      <th>loudness</th>\n      <th>mode</th>\n      <th>name</th>\n      <th>popularity</th>\n      <th>release_date</th>\n      <th>speechiness</th>\n      <th>tempo</th>\n    </tr>\n  </thead>\n  <tbody>\n    <tr>\n      <th>0</th>\n      <td>0.0594</td>\n      <td>1921</td>\n      <td>0.982</td>\n      <td>['Sergei Rachmaninoff', 'James Levine', 'Berli...</td>\n      <td>0.279</td>\n      <td>831667</td>\n      <td>0.211</td>\n      <td>0</td>\n      <td>4BJqT0PrAfrxzMOxytFOIz</td>\n      <td>0.878</td>\n      <td>10</td>\n      <td>0.665</td>\n      <td>-20.096</td>\n      <td>1</td>\n      <td>Piano Concerto No. 3 in D Minor, Op. 30: III. ...</td>\n      <td>4</td>\n      <td>1921</td>\n      <td>0.0366</td>\n      <td>80.954</td>\n    </tr>\n    <tr>\n      <th>1</th>\n      <td>0.9630</td>\n      <td>1921</td>\n      <td>0.732</td>\n      <td>['Dennis Day']</td>\n      <td>0.8190000000000001</td>\n      <td>180533</td>\n      <td>0.341</td>\n      <td>0</td>\n      <td>7xPhfUan2yNtyFG0cUWkt8</td>\n      <td>0.0</td>\n      <td>7</td>\n      <td>0.16</td>\n      <td>-12.441</td>\n      <td>1</td>\n      <td>Clancy Lowered the Boom</td>\n      <td>5</td>\n      <td>1921</td>\n      <td>0.415</td>\n      <td>60.93600000000001</td>\n    </tr>\n    <tr>\n      <th>2</th>\n      <td>0.0394</td>\n      <td>1921</td>\n      <td>0.961</td>\n      <td>['KHP Kridhamardawa Karaton Ngayogyakarta Hadi...</td>\n      <td>0.328</td>\n      <td>500062</td>\n      <td>0.166</td>\n      <td>0</td>\n      <td>1o6I8BglA6ylDMrIELygv1</td>\n      <td>0.913</td>\n      <td>3</td>\n      <td>0.101</td>\n      <td>-14.85</td>\n      <td>1</td>\n      <td>Gati Bali</td>\n      <td>5</td>\n      <td>1921</td>\n      <td>0.0339</td>\n      <td>110.339</td>\n    </tr>\n    <tr>\n      <th>3</th>\n      <td>0.1650</td>\n      <td>1921</td>\n      <td>0.967</td>\n      <td>['Frank Parker']</td>\n      <td>0.275</td>\n      <td>210000</td>\n      <td>0.309</td>\n      <td>0</td>\n      <td>3ftBPsC5vPBKxYSee08FDH</td>\n      <td>2.77e-05</td>\n      <td>5</td>\n      <td>0.381</td>\n      <td>-9.316</td>\n      <td>1</td>\n      <td>Danny Boy</td>\n      <td>3</td>\n      <td>1921</td>\n      <td>0.0354</td>\n      <td>100.109</td>\n    </tr>\n    <tr>\n      <th>4</th>\n      <td>0.2530</td>\n      <td>1921</td>\n      <td>0.957</td>\n      <td>['Phil Regan']</td>\n      <td>0.418</td>\n      <td>166693</td>\n      <td>0.193</td>\n      <td>0</td>\n      <td>4d6HGyGT8e121BsdKmw9v6</td>\n      <td>1.68e-06</td>\n      <td>3</td>\n      <td>0.229</td>\n      <td>-10.096</td>\n      <td>1</td>\n      <td>When Irish Eyes Are Smiling</td>\n      <td>2</td>\n      <td>1921</td>\n      <td>0.038</td>\n      <td>101.665</td>\n    </tr>\n  </tbody>\n</table>\n</div>",
       "datasetInfos": [],
       "metadata": {},
       "removedWidgets": [],
       "textData": null,
       "type": "htmlSandbox"
      }
     },
     "output_type": "display_data"
    }
   ],
   "source": [
    "df_data.head()"
   ]
  },
  {
   "cell_type": "code",
   "execution_count": 0,
   "metadata": {
    "application/vnd.databricks.v1+cell": {
     "cellMetadata": {
      "byteLimit": 2048000,
      "rowLimit": 10000
     },
     "inputWidgets": {},
     "nuid": "1d298e8b-19b6-4d52-837b-9ef1f5c13bd6",
     "showTitle": false,
     "tableResultSettingsMap": {},
     "title": ""
    },
    "jupyter": {
     "outputs_hidden": true
    }
   },
   "outputs": [
    {
     "output_type": "stream",
     "name": "stdout",
     "output_type": "stream",
     "text": [
      "Out[90]: valence             float64\nyear                  int32\nacousticness        float64\nartists              object\ndanceability         object\nduration_ms          object\nenergy               object\nexplicit             object\nid                   object\ninstrumentalness     object\nkey                  object\nliveness             object\nloudness             object\nmode                 object\nname                 object\npopularity           object\nrelease_date         object\nspeechiness          object\ntempo                object\ndtype: object"
     ]
    }
   ],
   "source": [
    "df_data.dtypes"
   ]
  },
  {
   "cell_type": "code",
   "execution_count": 0,
   "metadata": {
    "application/vnd.databricks.v1+cell": {
     "cellMetadata": {
      "byteLimit": 2048000,
      "rowLimit": 10000
     },
     "inputWidgets": {},
     "nuid": "8fb050d0-b194-4d8a-b1fb-051774a1cdf5",
     "showTitle": false,
     "tableResultSettingsMap": {},
     "title": ""
    }
   },
   "outputs": [],
   "source": [
    "colunas_float = ['acousticness', 'danceability', 'energy', 'instrumentalness', 'liveness', 'loudness', 'speechiness', 'tempo', 'valence']"
   ]
  },
  {
   "cell_type": "code",
   "execution_count": 0,
   "metadata": {
    "application/vnd.databricks.v1+cell": {
     "cellMetadata": {
      "byteLimit": 2048000,
      "rowLimit": 10000
     },
     "inputWidgets": {},
     "nuid": "5a032cff-9c24-44f5-9477-0ad0cbbb5f11",
     "showTitle": false,
     "tableResultSettingsMap": {},
     "title": ""
    }
   },
   "outputs": [],
   "source": [
    "colunas_int = ['duration_ms', 'mode', 'key', 'explicit', 'popularity']"
   ]
  },
  {
   "cell_type": "code",
   "execution_count": 0,
   "metadata": {
    "application/vnd.databricks.v1+cell": {
     "cellMetadata": {
      "byteLimit": 2048000,
      "rowLimit": 10000
     },
     "inputWidgets": {},
     "nuid": "219c790b-0bd4-4f86-a03f-5abfb46e9fd4",
     "showTitle": false,
     "tableResultSettingsMap": {},
     "title": ""
    }
   },
   "outputs": [],
   "source": [
    "df_data[colunas_float] = df_data[colunas_float].astype(float)"
   ]
  },
  {
   "cell_type": "code",
   "execution_count": 0,
   "metadata": {
    "application/vnd.databricks.v1+cell": {
     "cellMetadata": {
      "byteLimit": 2048000,
      "rowLimit": 10000
     },
     "inputWidgets": {},
     "nuid": "b06e5039-033a-4cbc-a407-1eaafc318240",
     "showTitle": false,
     "tableResultSettingsMap": {},
     "title": ""
    }
   },
   "outputs": [],
   "source": [
    "df_data[colunas_int] = df_data[colunas_int].astype(int)"
   ]
  },
  {
   "cell_type": "code",
   "execution_count": 0,
   "metadata": {
    "application/vnd.databricks.v1+cell": {
     "cellMetadata": {
      "byteLimit": 2048000,
      "rowLimit": 10000
     },
     "inputWidgets": {},
     "nuid": "5df5ad11-dabc-478a-9e17-5eae36261dab",
     "showTitle": false,
     "tableResultSettingsMap": {},
     "title": ""
    }
   },
   "outputs": [
    {
     "output_type": "stream",
     "name": "stdout",
     "output_type": "stream",
     "text": [
      "Out[95]: valence             float64\nyear                  int32\nacousticness        float64\nartists              object\ndanceability        float64\nduration_ms           int64\nenergy              float64\nexplicit              int64\nid                   object\ninstrumentalness    float64\nkey                   int64\nliveness            float64\nloudness            float64\nmode                  int64\nname                 object\npopularity            int64\nrelease_date         object\nspeechiness         float64\ntempo               float64\ndtype: object"
     ]
    }
   ],
   "source": [
    "df_data.dtypes"
   ]
  },
  {
   "cell_type": "code",
   "execution_count": 0,
   "metadata": {
    "application/vnd.databricks.v1+cell": {
     "cellMetadata": {
      "byteLimit": 2048000,
      "rowLimit": 10000
     },
     "inputWidgets": {},
     "nuid": "e99a8400-2cae-4147-bc79-9cce98f7756e",
     "showTitle": false,
     "tableResultSettingsMap": {},
     "title": ""
    }
   },
   "outputs": [],
   "source": [
    "df_data['artists'] = df_data.artists.str.replace(\"\\[|\\]|\\'\", '')\n",
    "df_data['artists'] = df_data.artists.str.replace(\",\", ';')"
   ]
  },
  {
   "cell_type": "code",
   "execution_count": 0,
   "metadata": {
    "application/vnd.databricks.v1+cell": {
     "cellMetadata": {
      "byteLimit": 2048000,
      "rowLimit": 10000
     },
     "inputWidgets": {},
     "nuid": "3608e2d1-a185-40df-83ca-f89e3c1dca2a",
     "showTitle": false,
     "tableResultSettingsMap": {},
     "title": ""
    }
   },
   "outputs": [
    {
     "output_type": "stream",
     "name": "stdout",
     "output_type": "stream",
     "text": [
      "Out[97]: (170653, 19)"
     ]
    }
   ],
   "source": [
    "df_data.shape"
   ]
  },
  {
   "cell_type": "code",
   "execution_count": 0,
   "metadata": {
    "application/vnd.databricks.v1+cell": {
     "cellMetadata": {
      "byteLimit": 2048000,
      "rowLimit": 10000
     },
     "inputWidgets": {},
     "nuid": "7f4f1c06-a54e-4e6f-acc5-5b7eed053b55",
     "showTitle": false,
     "tableResultSettingsMap": {},
     "title": ""
    }
   },
   "outputs": [
    {
     "output_type": "stream",
     "name": "stdout",
     "output_type": "stream",
     "text": [
      "Out[98]: [FileInfo(path='dbfs:/FileStore/dados_tratados/data.parquet/', name='data.parquet/', size=0, modificationTime=0),\n FileInfo(path='dbfs:/FileStore/dados_tratados/data_artists.parquet/', name='data_artists.parquet/', size=0, modificationTime=0),\n FileInfo(path='dbfs:/FileStore/dados_tratados/data_genres.parquet/', name='data_genres.parquet/', size=0, modificationTime=0),\n FileInfo(path='dbfs:/FileStore/dados_tratados/data_w_genres.parquet/', name='data_w_genres.parquet/', size=0, modificationTime=0),\n FileInfo(path='dbfs:/FileStore/dados_tratados/data_year.parquet/', name='data_year.parquet/', size=0, modificationTime=0)]"
     ]
    }
   ],
   "source": [
    "dbutils.fs.ls('dbfs:/FileStore/dados_tratados')"
   ]
  },
  {
   "cell_type": "code",
   "execution_count": 0,
   "metadata": {
    "application/vnd.databricks.v1+cell": {
     "cellMetadata": {
      "byteLimit": 2048000,
      "rowLimit": 10000
     },
     "inputWidgets": {},
     "nuid": "b67e3be1-7944-447d-960f-7bac8a5ce58d",
     "showTitle": false,
     "tableResultSettingsMap": {},
     "title": ""
    }
   },
   "outputs": [
    {
     "output_type": "stream",
     "name": "stdout",
     "output_type": "stream",
     "text": [
      "Out[99]: True"
     ]
    }
   ],
   "source": [
    "dbutils.fs.mkdirs('dbfs:/FileStore/dados_tratados')"
   ]
  },
  {
   "cell_type": "code",
   "execution_count": 0,
   "metadata": {
    "application/vnd.databricks.v1+cell": {
     "cellMetadata": {
      "byteLimit": 2048000,
      "rowLimit": 10000
     },
     "inputWidgets": {},
     "nuid": "68832c10-4f8e-47c0-b6d5-e55b446d16de",
     "showTitle": false,
     "tableResultSettingsMap": {},
     "title": ""
    }
   },
   "outputs": [],
   "source": [
    "df_data.to_parquet('dbfs:/FileStore/dados_tratados/data.parquet')"
   ]
  },
  {
   "cell_type": "code",
   "execution_count": 0,
   "metadata": {
    "application/vnd.databricks.v1+cell": {
     "cellMetadata": {
      "byteLimit": 2048000,
      "rowLimit": 10000
     },
     "inputWidgets": {},
     "nuid": "11a20e61-5dae-47d8-a8d4-ba359b3148f0",
     "showTitle": false,
     "tableResultSettingsMap": {},
     "title": ""
    }
   },
   "outputs": [],
   "source": [
    "import pyspark.pandas as ps"
   ]
  },
  {
   "cell_type": "code",
   "execution_count": 0,
   "metadata": {
    "application/vnd.databricks.v1+cell": {
     "cellMetadata": {
      "byteLimit": 2048000,
      "rowLimit": 10000
     },
     "inputWidgets": {},
     "nuid": "2a48af1f-1c62-4f5a-99f6-d5f740a61409",
     "showTitle": false,
     "tableResultSettingsMap": {},
     "title": ""
    }
   },
   "outputs": [
    {
     "output_type": "display_data",
     "data": {
      "text/html": [
       "<div>\n",
       "<style scoped>\n",
       "    .dataframe tbody tr th:only-of-type {\n",
       "        vertical-align: middle;\n",
       "    }\n",
       "\n",
       "    .dataframe tbody tr th {\n",
       "        vertical-align: top;\n",
       "    }\n",
       "\n",
       "    .dataframe thead th {\n",
       "        text-align: right;\n",
       "    }\n",
       "</style>\n",
       "<table border=\"1\" class=\"dataframe\">\n",
       "  <thead>\n",
       "    <tr style=\"text-align: right;\">\n",
       "      <th></th>\n",
       "      <th>valence</th>\n",
       "      <th>year</th>\n",
       "      <th>acousticness</th>\n",
       "      <th>artists</th>\n",
       "      <th>danceability</th>\n",
       "      <th>duration_ms</th>\n",
       "      <th>energy</th>\n",
       "      <th>explicit</th>\n",
       "      <th>id</th>\n",
       "      <th>instrumentalness</th>\n",
       "      <th>key</th>\n",
       "      <th>liveness</th>\n",
       "      <th>loudness</th>\n",
       "      <th>mode</th>\n",
       "      <th>name</th>\n",
       "      <th>popularity</th>\n",
       "      <th>release_date</th>\n",
       "      <th>speechiness</th>\n",
       "      <th>tempo</th>\n",
       "    </tr>\n",
       "  </thead>\n",
       "  <tbody>\n",
       "    <tr>\n",
       "      <th>0</th>\n",
       "      <td>0.917</td>\n",
       "      <td>1970</td>\n",
       "      <td>0.096000</td>\n",
       "      <td>The Velvet Underground</td>\n",
       "      <td>0.624</td>\n",
       "      <td>201440</td>\n",
       "      <td>0.774</td>\n",
       "      <td>0</td>\n",
       "      <td>60ZyiL4lmWzZyGfqyECTqp</td>\n",
       "      <td>0.030900</td>\n",
       "      <td>7</td>\n",
       "      <td>0.0960</td>\n",
       "      <td>-10.391</td>\n",
       "      <td>1</td>\n",
       "      <td>Train Round the Bend - 2015 Remaster</td>\n",
       "      <td>24</td>\n",
       "      <td>1970</td>\n",
       "      <td>0.0315</td>\n",
       "      <td>117.006</td>\n",
       "    </tr>\n",
       "    <tr>\n",
       "      <th>1</th>\n",
       "      <td>0.511</td>\n",
       "      <td>1970</td>\n",
       "      <td>0.001900</td>\n",
       "      <td>Ten Years After</td>\n",
       "      <td>0.405</td>\n",
       "      <td>458463</td>\n",
       "      <td>0.543</td>\n",
       "      <td>0</td>\n",
       "      <td>6DYyyUdHzI6RdSx0swUR1i</td>\n",
       "      <td>0.720000</td>\n",
       "      <td>2</td>\n",
       "      <td>0.1860</td>\n",
       "      <td>-9.313</td>\n",
       "      <td>1</td>\n",
       "      <td>Love Like a Man - 2017 Remaster</td>\n",
       "      <td>34</td>\n",
       "      <td>1970-04-01</td>\n",
       "      <td>0.0290</td>\n",
       "      <td>107.598</td>\n",
       "    </tr>\n",
       "    <tr>\n",
       "      <th>2</th>\n",
       "      <td>0.466</td>\n",
       "      <td>1970</td>\n",
       "      <td>0.052800</td>\n",
       "      <td>The Mothers Of Invention</td>\n",
       "      <td>0.444</td>\n",
       "      <td>105587</td>\n",
       "      <td>0.568</td>\n",
       "      <td>0</td>\n",
       "      <td>6HJAS8XZO0ctUcN2KsbLRa</td>\n",
       "      <td>0.000010</td>\n",
       "      <td>11</td>\n",
       "      <td>0.5120</td>\n",
       "      <td>-8.800</td>\n",
       "      <td>0</td>\n",
       "      <td>Oh No</td>\n",
       "      <td>24</td>\n",
       "      <td>1970-08-10</td>\n",
       "      <td>0.0327</td>\n",
       "      <td>124.319</td>\n",
       "    </tr>\n",
       "    <tr>\n",
       "      <th>3</th>\n",
       "      <td>0.523</td>\n",
       "      <td>1970</td>\n",
       "      <td>0.081100</td>\n",
       "      <td>Three Dog Night</td>\n",
       "      <td>0.502</td>\n",
       "      <td>174707</td>\n",
       "      <td>0.669</td>\n",
       "      <td>0</td>\n",
       "      <td>7sZ74qmKb1nyGKUgHROJ1n</td>\n",
       "      <td>0.000945</td>\n",
       "      <td>7</td>\n",
       "      <td>0.0906</td>\n",
       "      <td>-11.725</td>\n",
       "      <td>1</td>\n",
       "      <td>One Man Band</td>\n",
       "      <td>19</td>\n",
       "      <td>1970-01-01</td>\n",
       "      <td>0.0912</td>\n",
       "      <td>121.089</td>\n",
       "    </tr>\n",
       "    <tr>\n",
       "      <th>4</th>\n",
       "      <td>0.501</td>\n",
       "      <td>1970</td>\n",
       "      <td>0.000128</td>\n",
       "      <td>The Rolling Stones</td>\n",
       "      <td>0.273</td>\n",
       "      <td>246413</td>\n",
       "      <td>0.866</td>\n",
       "      <td>0</td>\n",
       "      <td>095WtNlSHE8TMB2gQ1fdTx</td>\n",
       "      <td>0.790000</td>\n",
       "      <td>11</td>\n",
       "      <td>0.9610</td>\n",
       "      <td>-7.598</td>\n",
       "      <td>1</td>\n",
       "      <td>Street Fighting Man - Live</td>\n",
       "      <td>25</td>\n",
       "      <td>1970-09-04</td>\n",
       "      <td>0.0347</td>\n",
       "      <td>134.891</td>\n",
       "    </tr>\n",
       "  </tbody>\n",
       "</table>\n",
       "</div>"
      ]
     },
     "metadata": {
      "application/vnd.databricks.v1+output": {
       "addedWidgets": {},
       "arguments": {},
       "data": "<div>\n<style scoped>\n    .dataframe tbody tr th:only-of-type {\n        vertical-align: middle;\n    }\n\n    .dataframe tbody tr th {\n        vertical-align: top;\n    }\n\n    .dataframe thead th {\n        text-align: right;\n    }\n</style>\n<table border=\"1\" class=\"dataframe\">\n  <thead>\n    <tr style=\"text-align: right;\">\n      <th></th>\n      <th>valence</th>\n      <th>year</th>\n      <th>acousticness</th>\n      <th>artists</th>\n      <th>danceability</th>\n      <th>duration_ms</th>\n      <th>energy</th>\n      <th>explicit</th>\n      <th>id</th>\n      <th>instrumentalness</th>\n      <th>key</th>\n      <th>liveness</th>\n      <th>loudness</th>\n      <th>mode</th>\n      <th>name</th>\n      <th>popularity</th>\n      <th>release_date</th>\n      <th>speechiness</th>\n      <th>tempo</th>\n    </tr>\n  </thead>\n  <tbody>\n    <tr>\n      <th>0</th>\n      <td>0.917</td>\n      <td>1970</td>\n      <td>0.096000</td>\n      <td>The Velvet Underground</td>\n      <td>0.624</td>\n      <td>201440</td>\n      <td>0.774</td>\n      <td>0</td>\n      <td>60ZyiL4lmWzZyGfqyECTqp</td>\n      <td>0.030900</td>\n      <td>7</td>\n      <td>0.0960</td>\n      <td>-10.391</td>\n      <td>1</td>\n      <td>Train Round the Bend - 2015 Remaster</td>\n      <td>24</td>\n      <td>1970</td>\n      <td>0.0315</td>\n      <td>117.006</td>\n    </tr>\n    <tr>\n      <th>1</th>\n      <td>0.511</td>\n      <td>1970</td>\n      <td>0.001900</td>\n      <td>Ten Years After</td>\n      <td>0.405</td>\n      <td>458463</td>\n      <td>0.543</td>\n      <td>0</td>\n      <td>6DYyyUdHzI6RdSx0swUR1i</td>\n      <td>0.720000</td>\n      <td>2</td>\n      <td>0.1860</td>\n      <td>-9.313</td>\n      <td>1</td>\n      <td>Love Like a Man - 2017 Remaster</td>\n      <td>34</td>\n      <td>1970-04-01</td>\n      <td>0.0290</td>\n      <td>107.598</td>\n    </tr>\n    <tr>\n      <th>2</th>\n      <td>0.466</td>\n      <td>1970</td>\n      <td>0.052800</td>\n      <td>The Mothers Of Invention</td>\n      <td>0.444</td>\n      <td>105587</td>\n      <td>0.568</td>\n      <td>0</td>\n      <td>6HJAS8XZO0ctUcN2KsbLRa</td>\n      <td>0.000010</td>\n      <td>11</td>\n      <td>0.5120</td>\n      <td>-8.800</td>\n      <td>0</td>\n      <td>Oh No</td>\n      <td>24</td>\n      <td>1970-08-10</td>\n      <td>0.0327</td>\n      <td>124.319</td>\n    </tr>\n    <tr>\n      <th>3</th>\n      <td>0.523</td>\n      <td>1970</td>\n      <td>0.081100</td>\n      <td>Three Dog Night</td>\n      <td>0.502</td>\n      <td>174707</td>\n      <td>0.669</td>\n      <td>0</td>\n      <td>7sZ74qmKb1nyGKUgHROJ1n</td>\n      <td>0.000945</td>\n      <td>7</td>\n      <td>0.0906</td>\n      <td>-11.725</td>\n      <td>1</td>\n      <td>One Man Band</td>\n      <td>19</td>\n      <td>1970-01-01</td>\n      <td>0.0912</td>\n      <td>121.089</td>\n    </tr>\n    <tr>\n      <th>4</th>\n      <td>0.501</td>\n      <td>1970</td>\n      <td>0.000128</td>\n      <td>The Rolling Stones</td>\n      <td>0.273</td>\n      <td>246413</td>\n      <td>0.866</td>\n      <td>0</td>\n      <td>095WtNlSHE8TMB2gQ1fdTx</td>\n      <td>0.790000</td>\n      <td>11</td>\n      <td>0.9610</td>\n      <td>-7.598</td>\n      <td>1</td>\n      <td>Street Fighting Man - Live</td>\n      <td>25</td>\n      <td>1970-09-04</td>\n      <td>0.0347</td>\n      <td>134.891</td>\n    </tr>\n  </tbody>\n</table>\n</div>",
       "datasetInfos": [],
       "metadata": {},
       "removedWidgets": [],
       "textData": null,
       "type": "htmlSandbox"
      }
     },
     "output_type": "display_data"
    }
   ],
   "source": [
    "path = 'dbfs:/FileStore/dados_tratados/data.parquet/'\n",
    "df_data = ps.read_parquet(path)\n",
    "df_data.head()"
   ]
  },
  {
   "cell_type": "code",
   "execution_count": 0,
   "metadata": {
    "application/vnd.databricks.v1+cell": {
     "cellMetadata": {
      "byteLimit": 2048000,
      "rowLimit": 10000
     },
     "inputWidgets": {},
     "nuid": "dec680ea-c000-4775-8a07-ada6043a5d3b",
     "showTitle": false,
     "tableResultSettingsMap": {},
     "title": ""
    }
   },
   "outputs": [
    {
     "output_type": "display_data",
     "data": {
      "text/html": [
       "<div>\n",
       "<style scoped>\n",
       "    .dataframe tbody tr th:only-of-type {\n",
       "        vertical-align: middle;\n",
       "    }\n",
       "\n",
       "    .dataframe tbody tr th {\n",
       "        vertical-align: top;\n",
       "    }\n",
       "\n",
       "    .dataframe thead th {\n",
       "        text-align: right;\n",
       "    }\n",
       "</style>\n",
       "<table border=\"1\" class=\"dataframe\">\n",
       "  <thead>\n",
       "    <tr style=\"text-align: right;\">\n",
       "      <th></th>\n",
       "      <th>valence</th>\n",
       "      <th>year</th>\n",
       "      <th>acousticness</th>\n",
       "      <th>danceability</th>\n",
       "      <th>duration_ms</th>\n",
       "      <th>energy</th>\n",
       "      <th>explicit</th>\n",
       "      <th>instrumentalness</th>\n",
       "      <th>key</th>\n",
       "      <th>liveness</th>\n",
       "      <th>loudness</th>\n",
       "      <th>mode</th>\n",
       "      <th>popularity</th>\n",
       "      <th>speechiness</th>\n",
       "      <th>tempo</th>\n",
       "    </tr>\n",
       "  </thead>\n",
       "  <tbody>\n",
       "    <tr>\n",
       "      <th>count</th>\n",
       "      <td>170653.000000</td>\n",
       "      <td>170653.000000</td>\n",
       "      <td>170653.000000</td>\n",
       "      <td>170080.000000</td>\n",
       "      <td>1.704540e+05</td>\n",
       "      <td>1.705730e+05</td>\n",
       "      <td>170606.000000</td>\n",
       "      <td>170270.000000</td>\n",
       "      <td>170451.000000</td>\n",
       "      <td>170613.000000</td>\n",
       "      <td>170621.000000</td>\n",
       "      <td>170635.000000</td>\n",
       "      <td>169496.000000</td>\n",
       "      <td>170042.000000</td>\n",
       "      <td>170404.000000</td>\n",
       "    </tr>\n",
       "    <tr>\n",
       "      <th>mean</th>\n",
       "      <td>0.528587</td>\n",
       "      <td>1976.787241</td>\n",
       "      <td>0.502115</td>\n",
       "      <td>0.537640</td>\n",
       "      <td>2.304044e+05</td>\n",
       "      <td>5.332695e+02</td>\n",
       "      <td>161.708058</td>\n",
       "      <td>36.464539</td>\n",
       "      <td>20.310635</td>\n",
       "      <td>3.575240</td>\n",
       "      <td>-11.417018</td>\n",
       "      <td>7.382782</td>\n",
       "      <td>31.543547</td>\n",
       "      <td>5.064387</td>\n",
       "      <td>118.226091</td>\n",
       "    </tr>\n",
       "    <tr>\n",
       "      <th>std</th>\n",
       "      <td>0.263171</td>\n",
       "      <td>25.917853</td>\n",
       "      <td>0.376032</td>\n",
       "      <td>0.175959</td>\n",
       "      <td>1.263665e+05</td>\n",
       "      <td>1.350096e+04</td>\n",
       "      <td>6984.208830</td>\n",
       "      <td>3139.122132</td>\n",
       "      <td>2119.315151</td>\n",
       "      <td>981.333683</td>\n",
       "      <td>5.729827</td>\n",
       "      <td>1867.348785</td>\n",
       "      <td>21.803031</td>\n",
       "      <td>98.121279</td>\n",
       "      <td>67.002730</td>\n",
       "    </tr>\n",
       "    <tr>\n",
       "      <th>min</th>\n",
       "      <td>0.000000</td>\n",
       "      <td>1921.000000</td>\n",
       "      <td>0.000000</td>\n",
       "      <td>0.000000</td>\n",
       "      <td>0.000000e+00</td>\n",
       "      <td>0.000000e+00</td>\n",
       "      <td>0.000000</td>\n",
       "      <td>0.000000</td>\n",
       "      <td>0.000000</td>\n",
       "      <td>0.000000</td>\n",
       "      <td>-60.000000</td>\n",
       "      <td>-36.000000</td>\n",
       "      <td>-39.000000</td>\n",
       "      <td>-30.073000</td>\n",
       "      <td>-8.331000</td>\n",
       "    </tr>\n",
       "    <tr>\n",
       "      <th>25%</th>\n",
       "      <td>0.317000</td>\n",
       "      <td>1956.000000</td>\n",
       "      <td>0.101000</td>\n",
       "      <td>0.416000</td>\n",
       "      <td>1.695350e+05</td>\n",
       "      <td>2.560000e-01</td>\n",
       "      <td>0.000000</td>\n",
       "      <td>0.000000</td>\n",
       "      <td>2.000000</td>\n",
       "      <td>0.098700</td>\n",
       "      <td>-14.584000</td>\n",
       "      <td>0.000000</td>\n",
       "      <td>12.000000</td>\n",
       "      <td>0.034900</td>\n",
       "      <td>93.206000</td>\n",
       "    </tr>\n",
       "    <tr>\n",
       "      <th>50%</th>\n",
       "      <td>0.539000</td>\n",
       "      <td>1977.000000</td>\n",
       "      <td>0.516000</td>\n",
       "      <td>0.548000</td>\n",
       "      <td>2.072000e+05</td>\n",
       "      <td>4.730000e-01</td>\n",
       "      <td>0.000000</td>\n",
       "      <td>0.000215</td>\n",
       "      <td>5.000000</td>\n",
       "      <td>0.136000</td>\n",
       "      <td>-10.549000</td>\n",
       "      <td>1.000000</td>\n",
       "      <td>34.000000</td>\n",
       "      <td>0.045000</td>\n",
       "      <td>114.636000</td>\n",
       "    </tr>\n",
       "    <tr>\n",
       "      <th>75%</th>\n",
       "      <td>0.747000</td>\n",
       "      <td>1999.000000</td>\n",
       "      <td>0.893000</td>\n",
       "      <td>0.668000</td>\n",
       "      <td>2.621550e+05</td>\n",
       "      <td>7.050000e-01</td>\n",
       "      <td>0.000000</td>\n",
       "      <td>0.102000</td>\n",
       "      <td>8.000000</td>\n",
       "      <td>0.262000</td>\n",
       "      <td>-7.146000</td>\n",
       "      <td>1.000000</td>\n",
       "      <td>48.000000</td>\n",
       "      <td>0.076200</td>\n",
       "      <td>135.552000</td>\n",
       "    </tr>\n",
       "    <tr>\n",
       "      <th>max</th>\n",
       "      <td>1.000000</td>\n",
       "      <td>2020.000000</td>\n",
       "      <td>0.996000</td>\n",
       "      <td>0.988000</td>\n",
       "      <td>5.403500e+06</td>\n",
       "      <td>1.622000e+06</td>\n",
       "      <td>693933.000000</td>\n",
       "      <td>475880.000000</td>\n",
       "      <td>503320.000000</td>\n",
       "      <td>290627.000000</td>\n",
       "      <td>11.000000</td>\n",
       "      <td>701187.000000</td>\n",
       "      <td>100.000000</td>\n",
       "      <td>2009.000000</td>\n",
       "      <td>2010.000000</td>\n",
       "    </tr>\n",
       "  </tbody>\n",
       "</table>\n",
       "</div>"
      ]
     },
     "metadata": {
      "application/vnd.databricks.v1+output": {
       "addedWidgets": {},
       "arguments": {},
       "data": "<div>\n<style scoped>\n    .dataframe tbody tr th:only-of-type {\n        vertical-align: middle;\n    }\n\n    .dataframe tbody tr th {\n        vertical-align: top;\n    }\n\n    .dataframe thead th {\n        text-align: right;\n    }\n</style>\n<table border=\"1\" class=\"dataframe\">\n  <thead>\n    <tr style=\"text-align: right;\">\n      <th></th>\n      <th>valence</th>\n      <th>year</th>\n      <th>acousticness</th>\n      <th>danceability</th>\n      <th>duration_ms</th>\n      <th>energy</th>\n      <th>explicit</th>\n      <th>instrumentalness</th>\n      <th>key</th>\n      <th>liveness</th>\n      <th>loudness</th>\n      <th>mode</th>\n      <th>popularity</th>\n      <th>speechiness</th>\n      <th>tempo</th>\n    </tr>\n  </thead>\n  <tbody>\n    <tr>\n      <th>count</th>\n      <td>170653.000000</td>\n      <td>170653.000000</td>\n      <td>170653.000000</td>\n      <td>170080.000000</td>\n      <td>1.704540e+05</td>\n      <td>1.705730e+05</td>\n      <td>170606.000000</td>\n      <td>170270.000000</td>\n      <td>170451.000000</td>\n      <td>170613.000000</td>\n      <td>170621.000000</td>\n      <td>170635.000000</td>\n      <td>169496.000000</td>\n      <td>170042.000000</td>\n      <td>170404.000000</td>\n    </tr>\n    <tr>\n      <th>mean</th>\n      <td>0.528587</td>\n      <td>1976.787241</td>\n      <td>0.502115</td>\n      <td>0.537640</td>\n      <td>2.304044e+05</td>\n      <td>5.332695e+02</td>\n      <td>161.708058</td>\n      <td>36.464539</td>\n      <td>20.310635</td>\n      <td>3.575240</td>\n      <td>-11.417018</td>\n      <td>7.382782</td>\n      <td>31.543547</td>\n      <td>5.064387</td>\n      <td>118.226091</td>\n    </tr>\n    <tr>\n      <th>std</th>\n      <td>0.263171</td>\n      <td>25.917853</td>\n      <td>0.376032</td>\n      <td>0.175959</td>\n      <td>1.263665e+05</td>\n      <td>1.350096e+04</td>\n      <td>6984.208830</td>\n      <td>3139.122132</td>\n      <td>2119.315151</td>\n      <td>981.333683</td>\n      <td>5.729827</td>\n      <td>1867.348785</td>\n      <td>21.803031</td>\n      <td>98.121279</td>\n      <td>67.002730</td>\n    </tr>\n    <tr>\n      <th>min</th>\n      <td>0.000000</td>\n      <td>1921.000000</td>\n      <td>0.000000</td>\n      <td>0.000000</td>\n      <td>0.000000e+00</td>\n      <td>0.000000e+00</td>\n      <td>0.000000</td>\n      <td>0.000000</td>\n      <td>0.000000</td>\n      <td>0.000000</td>\n      <td>-60.000000</td>\n      <td>-36.000000</td>\n      <td>-39.000000</td>\n      <td>-30.073000</td>\n      <td>-8.331000</td>\n    </tr>\n    <tr>\n      <th>25%</th>\n      <td>0.317000</td>\n      <td>1956.000000</td>\n      <td>0.101000</td>\n      <td>0.416000</td>\n      <td>1.695350e+05</td>\n      <td>2.560000e-01</td>\n      <td>0.000000</td>\n      <td>0.000000</td>\n      <td>2.000000</td>\n      <td>0.098700</td>\n      <td>-14.584000</td>\n      <td>0.000000</td>\n      <td>12.000000</td>\n      <td>0.034900</td>\n      <td>93.206000</td>\n    </tr>\n    <tr>\n      <th>50%</th>\n      <td>0.539000</td>\n      <td>1977.000000</td>\n      <td>0.516000</td>\n      <td>0.548000</td>\n      <td>2.072000e+05</td>\n      <td>4.730000e-01</td>\n      <td>0.000000</td>\n      <td>0.000215</td>\n      <td>5.000000</td>\n      <td>0.136000</td>\n      <td>-10.549000</td>\n      <td>1.000000</td>\n      <td>34.000000</td>\n      <td>0.045000</td>\n      <td>114.636000</td>\n    </tr>\n    <tr>\n      <th>75%</th>\n      <td>0.747000</td>\n      <td>1999.000000</td>\n      <td>0.893000</td>\n      <td>0.668000</td>\n      <td>2.621550e+05</td>\n      <td>7.050000e-01</td>\n      <td>0.000000</td>\n      <td>0.102000</td>\n      <td>8.000000</td>\n      <td>0.262000</td>\n      <td>-7.146000</td>\n      <td>1.000000</td>\n      <td>48.000000</td>\n      <td>0.076200</td>\n      <td>135.552000</td>\n    </tr>\n    <tr>\n      <th>max</th>\n      <td>1.000000</td>\n      <td>2020.000000</td>\n      <td>0.996000</td>\n      <td>0.988000</td>\n      <td>5.403500e+06</td>\n      <td>1.622000e+06</td>\n      <td>693933.000000</td>\n      <td>475880.000000</td>\n      <td>503320.000000</td>\n      <td>290627.000000</td>\n      <td>11.000000</td>\n      <td>701187.000000</td>\n      <td>100.000000</td>\n      <td>2009.000000</td>\n      <td>2010.000000</td>\n    </tr>\n  </tbody>\n</table>\n</div>",
       "datasetInfos": [],
       "metadata": {},
       "removedWidgets": [],
       "textData": null,
       "type": "htmlSandbox"
      }
     },
     "output_type": "display_data"
    }
   ],
   "source": [
    "df_data.describe()"
   ]
  },
  {
   "cell_type": "code",
   "execution_count": 0,
   "metadata": {
    "application/vnd.databricks.v1+cell": {
     "cellMetadata": {
      "byteLimit": 2048000,
      "rowLimit": 10000
     },
     "inputWidgets": {},
     "nuid": "1860c98d-0a65-416d-af6e-bb4653ef4a4b",
     "showTitle": false,
     "tableResultSettingsMap": {},
     "title": ""
    }
   },
   "outputs": [
    {
     "output_type": "stream",
     "name": "stdout",
     "output_type": "stream",
     "text": [
      "Out[104]: 100"
     ]
    }
   ],
   "source": [
    "len(df_data.year.unique())"
   ]
  },
  {
   "cell_type": "code",
   "execution_count": 0,
   "metadata": {
    "application/vnd.databricks.v1+cell": {
     "cellMetadata": {
      "byteLimit": 2048000,
      "rowLimit": 10000
     },
     "inputWidgets": {},
     "nuid": "e34da780-38f8-4284-b3d7-c373882bd197",
     "showTitle": false,
     "tableResultSettingsMap": {},
     "title": ""
    }
   },
   "outputs": [
    {
     "output_type": "display_data",
     "data": {
      "text/html": [
       "<html>\n",
       "<head><meta charset=\"utf-8\" /></head>\n",
       "<body>\n",
       "    <div>            <script src=\"https://cdnjs.cloudflare.com/ajax/libs/mathjax/2.7.5/MathJax.js?config=TeX-AMS-MML_SVG\"></script><script type=\"text/javascript\">if (window.MathJax) {MathJax.Hub.Config({SVG: {font: \"STIX-Web\"}});}</script>                <script type=\"text/javascript\">window.PlotlyConfig = {MathJaxConfig: 'local'};</script>\n",
       "        <script src=\"https://cdn.plot.ly/plotly-2.9.0.min.js\"></script>                <div id=\"7ac18d49-ae52-46fb-a366-535b3541add1\" class=\"plotly-graph-div\" style=\"height:100%; width:100%;\"></div>            <script type=\"text/javascript\">                                    window.PLOTLYENV=window.PLOTLYENV || {};                                    if (document.getElementById(\"7ac18d49-ae52-46fb-a366-535b3541add1\")) {                    Plotly.newPlot(                        \"7ac18d49-ae52-46fb-a366-535b3541add1\",                        [{\"alignmentgroup\":\"True\",\"hovertemplate\":\"variable=year<br>index=%{x}<br>value=%{y}<extra></extra>\",\"legendgroup\":\"year\",\"marker\":{\"color\":\"#636efa\",\"pattern\":{\"shape\":\"\"}},\"name\":\"year\",\"offsetgroup\":\"year\",\"orientation\":\"v\",\"showlegend\":true,\"textposition\":\"auto\",\"x\":[1921,1922,1923,1924,1925,1926,1927,1928,1929,1930,1931,1932,1933,1934,1935,1936,1937,1938,1939,1940,1941,1942,1943,1944,1945,1946,1947,1948,1949,1950,1951,1952,1953,1954,1955,1956,1957,1958,1959,1960,1961,1962,1963,1964,1965,1966,1967,1968,1969,1970,1971,1972,1973,1974,1975,1976,1977,1978,1979,1980,1981,1982,1983,1984,1985,1986,1987,1988,1989,1990,1991,1992,1993,1994,1995,1996,1997,1998,1999,2000,2001,2002,2003,2004,2005,2006,2007,2008,2009,2010,2011,2012,2013,2014,2015,2016,2017,2018,2019,2020],\"xaxis\":\"x\",\"y\":[150,71,185,236,278,1378,615,1261,952,1924,966,502,691,578,1518,1100,657,613,1000,2000,960,1682,710,752,2000,1724,1650,1900,2000,2000,2000,2000,1950,2000,2000,2000,1950,2000,1950,1850,1900,1900,2000,1950,1950,2000,1999,2000,2000,2000,2000,2000,2000,2000,2000,2000,2000,2000,2000,1950,2000,2000,2000,2000,2000,2000,1950,1950,2000,2000,1950,2000,2000,2000,2000,2000,2000,2000,1951,1956,2005,2000,1954,1966,1950,1950,1950,1955,1960,2016,2017,1945,1976,2005,1974,1797,1992,2103,1949,2030],\"yaxis\":\"y\",\"type\":\"bar\"}],                        {\"template\":{\"data\":{\"bar\":[{\"error_x\":{\"color\":\"#2a3f5f\"},\"error_y\":{\"color\":\"#2a3f5f\"},\"marker\":{\"line\":{\"color\":\"#E5ECF6\",\"width\":0.5},\"pattern\":{\"fillmode\":\"overlay\",\"size\":10,\"solidity\":0.2}},\"type\":\"bar\"}],\"barpolar\":[{\"marker\":{\"line\":{\"color\":\"#E5ECF6\",\"width\":0.5},\"pattern\":{\"fillmode\":\"overlay\",\"size\":10,\"solidity\":0.2}},\"type\":\"barpolar\"}],\"carpet\":[{\"aaxis\":{\"endlinecolor\":\"#2a3f5f\",\"gridcolor\":\"white\",\"linecolor\":\"white\",\"minorgridcolor\":\"white\",\"startlinecolor\":\"#2a3f5f\"},\"baxis\":{\"endlinecolor\":\"#2a3f5f\",\"gridcolor\":\"white\",\"linecolor\":\"white\",\"minorgridcolor\":\"white\",\"startlinecolor\":\"#2a3f5f\"},\"type\":\"carpet\"}],\"choropleth\":[{\"colorbar\":{\"outlinewidth\":0,\"ticks\":\"\"},\"type\":\"choropleth\"}],\"contour\":[{\"colorbar\":{\"outlinewidth\":0,\"ticks\":\"\"},\"colorscale\":[[0.0,\"#0d0887\"],[0.1111111111111111,\"#46039f\"],[0.2222222222222222,\"#7201a8\"],[0.3333333333333333,\"#9c179e\"],[0.4444444444444444,\"#bd3786\"],[0.5555555555555556,\"#d8576b\"],[0.6666666666666666,\"#ed7953\"],[0.7777777777777778,\"#fb9f3a\"],[0.8888888888888888,\"#fdca26\"],[1.0,\"#f0f921\"]],\"type\":\"contour\"}],\"contourcarpet\":[{\"colorbar\":{\"outlinewidth\":0,\"ticks\":\"\"},\"type\":\"contourcarpet\"}],\"heatmap\":[{\"colorbar\":{\"outlinewidth\":0,\"ticks\":\"\"},\"colorscale\":[[0.0,\"#0d0887\"],[0.1111111111111111,\"#46039f\"],[0.2222222222222222,\"#7201a8\"],[0.3333333333333333,\"#9c179e\"],[0.4444444444444444,\"#bd3786\"],[0.5555555555555556,\"#d8576b\"],[0.6666666666666666,\"#ed7953\"],[0.7777777777777778,\"#fb9f3a\"],[0.8888888888888888,\"#fdca26\"],[1.0,\"#f0f921\"]],\"type\":\"heatmap\"}],\"heatmapgl\":[{\"colorbar\":{\"outlinewidth\":0,\"ticks\":\"\"},\"colorscale\":[[0.0,\"#0d0887\"],[0.1111111111111111,\"#46039f\"],[0.2222222222222222,\"#7201a8\"],[0.3333333333333333,\"#9c179e\"],[0.4444444444444444,\"#bd3786\"],[0.5555555555555556,\"#d8576b\"],[0.6666666666666666,\"#ed7953\"],[0.7777777777777778,\"#fb9f3a\"],[0.8888888888888888,\"#fdca26\"],[1.0,\"#f0f921\"]],\"type\":\"heatmapgl\"}],\"histogram\":[{\"marker\":{\"pattern\":{\"fillmode\":\"overlay\",\"size\":10,\"solidity\":0.2}},\"type\":\"histogram\"}],\"histogram2d\":[{\"colorbar\":{\"outlinewidth\":0,\"ticks\":\"\"},\"colorscale\":[[0.0,\"#0d0887\"],[0.1111111111111111,\"#46039f\"],[0.2222222222222222,\"#7201a8\"],[0.3333333333333333,\"#9c179e\"],[0.4444444444444444,\"#bd3786\"],[0.5555555555555556,\"#d8576b\"],[0.6666666666666666,\"#ed7953\"],[0.7777777777777778,\"#fb9f3a\"],[0.8888888888888888,\"#fdca26\"],[1.0,\"#f0f921\"]],\"type\":\"histogram2d\"}],\"histogram2dcontour\":[{\"colorbar\":{\"outlinewidth\":0,\"ticks\":\"\"},\"colorscale\":[[0.0,\"#0d0887\"],[0.1111111111111111,\"#46039f\"],[0.2222222222222222,\"#7201a8\"],[0.3333333333333333,\"#9c179e\"],[0.4444444444444444,\"#bd3786\"],[0.5555555555555556,\"#d8576b\"],[0.6666666666666666,\"#ed7953\"],[0.7777777777777778,\"#fb9f3a\"],[0.8888888888888888,\"#fdca26\"],[1.0,\"#f0f921\"]],\"type\":\"histogram2dcontour\"}],\"mesh3d\":[{\"colorbar\":{\"outlinewidth\":0,\"ticks\":\"\"},\"type\":\"mesh3d\"}],\"parcoords\":[{\"line\":{\"colorbar\":{\"outlinewidth\":0,\"ticks\":\"\"}},\"type\":\"parcoords\"}],\"pie\":[{\"automargin\":true,\"type\":\"pie\"}],\"scatter\":[{\"marker\":{\"colorbar\":{\"outlinewidth\":0,\"ticks\":\"\"}},\"type\":\"scatter\"}],\"scatter3d\":[{\"line\":{\"colorbar\":{\"outlinewidth\":0,\"ticks\":\"\"}},\"marker\":{\"colorbar\":{\"outlinewidth\":0,\"ticks\":\"\"}},\"type\":\"scatter3d\"}],\"scattercarpet\":[{\"marker\":{\"colorbar\":{\"outlinewidth\":0,\"ticks\":\"\"}},\"type\":\"scattercarpet\"}],\"scattergeo\":[{\"marker\":{\"colorbar\":{\"outlinewidth\":0,\"ticks\":\"\"}},\"type\":\"scattergeo\"}],\"scattergl\":[{\"marker\":{\"colorbar\":{\"outlinewidth\":0,\"ticks\":\"\"}},\"type\":\"scattergl\"}],\"scattermapbox\":[{\"marker\":{\"colorbar\":{\"outlinewidth\":0,\"ticks\":\"\"}},\"type\":\"scattermapbox\"}],\"scatterpolar\":[{\"marker\":{\"colorbar\":{\"outlinewidth\":0,\"ticks\":\"\"}},\"type\":\"scatterpolar\"}],\"scatterpolargl\":[{\"marker\":{\"colorbar\":{\"outlinewidth\":0,\"ticks\":\"\"}},\"type\":\"scatterpolargl\"}],\"scatterternary\":[{\"marker\":{\"colorbar\":{\"outlinewidth\":0,\"ticks\":\"\"}},\"type\":\"scatterternary\"}],\"surface\":[{\"colorbar\":{\"outlinewidth\":0,\"ticks\":\"\"},\"colorscale\":[[0.0,\"#0d0887\"],[0.1111111111111111,\"#46039f\"],[0.2222222222222222,\"#7201a8\"],[0.3333333333333333,\"#9c179e\"],[0.4444444444444444,\"#bd3786\"],[0.5555555555555556,\"#d8576b\"],[0.6666666666666666,\"#ed7953\"],[0.7777777777777778,\"#fb9f3a\"],[0.8888888888888888,\"#fdca26\"],[1.0,\"#f0f921\"]],\"type\":\"surface\"}],\"table\":[{\"cells\":{\"fill\":{\"color\":\"#EBF0F8\"},\"line\":{\"color\":\"white\"}},\"header\":{\"fill\":{\"color\":\"#C8D4E3\"},\"line\":{\"color\":\"white\"}},\"type\":\"table\"}]},\"layout\":{\"annotationdefaults\":{\"arrowcolor\":\"#2a3f5f\",\"arrowhead\":0,\"arrowwidth\":1},\"autotypenumbers\":\"strict\",\"coloraxis\":{\"colorbar\":{\"outlinewidth\":0,\"ticks\":\"\"}},\"colorscale\":{\"diverging\":[[0,\"#8e0152\"],[0.1,\"#c51b7d\"],[0.2,\"#de77ae\"],[0.3,\"#f1b6da\"],[0.4,\"#fde0ef\"],[0.5,\"#f7f7f7\"],[0.6,\"#e6f5d0\"],[0.7,\"#b8e186\"],[0.8,\"#7fbc41\"],[0.9,\"#4d9221\"],[1,\"#276419\"]],\"sequential\":[[0.0,\"#0d0887\"],[0.1111111111111111,\"#46039f\"],[0.2222222222222222,\"#7201a8\"],[0.3333333333333333,\"#9c179e\"],[0.4444444444444444,\"#bd3786\"],[0.5555555555555556,\"#d8576b\"],[0.6666666666666666,\"#ed7953\"],[0.7777777777777778,\"#fb9f3a\"],[0.8888888888888888,\"#fdca26\"],[1.0,\"#f0f921\"]],\"sequentialminus\":[[0.0,\"#0d0887\"],[0.1111111111111111,\"#46039f\"],[0.2222222222222222,\"#7201a8\"],[0.3333333333333333,\"#9c179e\"],[0.4444444444444444,\"#bd3786\"],[0.5555555555555556,\"#d8576b\"],[0.6666666666666666,\"#ed7953\"],[0.7777777777777778,\"#fb9f3a\"],[0.8888888888888888,\"#fdca26\"],[1.0,\"#f0f921\"]]},\"colorway\":[\"#636efa\",\"#EF553B\",\"#00cc96\",\"#ab63fa\",\"#FFA15A\",\"#19d3f3\",\"#FF6692\",\"#B6E880\",\"#FF97FF\",\"#FECB52\"],\"font\":{\"color\":\"#2a3f5f\"},\"geo\":{\"bgcolor\":\"white\",\"lakecolor\":\"white\",\"landcolor\":\"#E5ECF6\",\"showlakes\":true,\"showland\":true,\"subunitcolor\":\"white\"},\"hoverlabel\":{\"align\":\"left\"},\"hovermode\":\"closest\",\"mapbox\":{\"style\":\"light\"},\"paper_bgcolor\":\"white\",\"plot_bgcolor\":\"#E5ECF6\",\"polar\":{\"angularaxis\":{\"gridcolor\":\"white\",\"linecolor\":\"white\",\"ticks\":\"\"},\"bgcolor\":\"#E5ECF6\",\"radialaxis\":{\"gridcolor\":\"white\",\"linecolor\":\"white\",\"ticks\":\"\"}},\"scene\":{\"xaxis\":{\"backgroundcolor\":\"#E5ECF6\",\"gridcolor\":\"white\",\"gridwidth\":2,\"linecolor\":\"white\",\"showbackground\":true,\"ticks\":\"\",\"zerolinecolor\":\"white\"},\"yaxis\":{\"backgroundcolor\":\"#E5ECF6\",\"gridcolor\":\"white\",\"gridwidth\":2,\"linecolor\":\"white\",\"showbackground\":true,\"ticks\":\"\",\"zerolinecolor\":\"white\"},\"zaxis\":{\"backgroundcolor\":\"#E5ECF6\",\"gridcolor\":\"white\",\"gridwidth\":2,\"linecolor\":\"white\",\"showbackground\":true,\"ticks\":\"\",\"zerolinecolor\":\"white\"}},\"shapedefaults\":{\"line\":{\"color\":\"#2a3f5f\"}},\"ternary\":{\"aaxis\":{\"gridcolor\":\"white\",\"linecolor\":\"white\",\"ticks\":\"\"},\"baxis\":{\"gridcolor\":\"white\",\"linecolor\":\"white\",\"ticks\":\"\"},\"bgcolor\":\"#E5ECF6\",\"caxis\":{\"gridcolor\":\"white\",\"linecolor\":\"white\",\"ticks\":\"\"}},\"title\":{\"x\":0.05},\"xaxis\":{\"automargin\":true,\"gridcolor\":\"white\",\"linecolor\":\"white\",\"ticks\":\"\",\"title\":{\"standoff\":15},\"zerolinecolor\":\"white\",\"zerolinewidth\":2},\"yaxis\":{\"automargin\":true,\"gridcolor\":\"white\",\"linecolor\":\"white\",\"ticks\":\"\",\"title\":{\"standoff\":15},\"zerolinecolor\":\"white\",\"zerolinewidth\":2}}},\"xaxis\":{\"anchor\":\"y\",\"domain\":[0.0,1.0],\"title\":{\"text\":\"index\"}},\"yaxis\":{\"anchor\":\"x\",\"domain\":[0.0,1.0],\"title\":{\"text\":\"value\"}},\"legend\":{\"title\":{\"text\":\"variable\"},\"tracegroupgap\":0},\"margin\":{\"t\":60},\"barmode\":\"relative\"},                        {\"responsive\": true}                    )                };                            </script>        </div>\n",
       "</body>\n",
       "</html>"
      ]
     },
     "metadata": {
      "application/vnd.databricks.v1+output": {
       "addedWidgets": {},
       "arguments": {},
       "data": "<html>\n<head><meta charset=\"utf-8\" /></head>\n<body>\n    <div>            <script src=\"https://cdnjs.cloudflare.com/ajax/libs/mathjax/2.7.5/MathJax.js?config=TeX-AMS-MML_SVG\"></script><script type=\"text/javascript\">if (window.MathJax) {MathJax.Hub.Config({SVG: {font: \"STIX-Web\"}});}</script>                <script type=\"text/javascript\">window.PlotlyConfig = {MathJaxConfig: 'local'};</script>\n        <script src=\"https://cdn.plot.ly/plotly-2.9.0.min.js\"></script>                <div id=\"7ac18d49-ae52-46fb-a366-535b3541add1\" class=\"plotly-graph-div\" style=\"height:100%; width:100%;\"></div>            <script type=\"text/javascript\">                                    window.PLOTLYENV=window.PLOTLYENV || {};                                    if (document.getElementById(\"7ac18d49-ae52-46fb-a366-535b3541add1\")) {                    Plotly.newPlot(                        \"7ac18d49-ae52-46fb-a366-535b3541add1\",                        [{\"alignmentgroup\":\"True\",\"hovertemplate\":\"variable=year<br>index=%{x}<br>value=%{y}<extra></extra>\",\"legendgroup\":\"year\",\"marker\":{\"color\":\"#636efa\",\"pattern\":{\"shape\":\"\"}},\"name\":\"year\",\"offsetgroup\":\"year\",\"orientation\":\"v\",\"showlegend\":true,\"textposition\":\"auto\",\"x\":[1921,1922,1923,1924,1925,1926,1927,1928,1929,1930,1931,1932,1933,1934,1935,1936,1937,1938,1939,1940,1941,1942,1943,1944,1945,1946,1947,1948,1949,1950,1951,1952,1953,1954,1955,1956,1957,1958,1959,1960,1961,1962,1963,1964,1965,1966,1967,1968,1969,1970,1971,1972,1973,1974,1975,1976,1977,1978,1979,1980,1981,1982,1983,1984,1985,1986,1987,1988,1989,1990,1991,1992,1993,1994,1995,1996,1997,1998,1999,2000,2001,2002,2003,2004,2005,2006,2007,2008,2009,2010,2011,2012,2013,2014,2015,2016,2017,2018,2019,2020],\"xaxis\":\"x\",\"y\":[150,71,185,236,278,1378,615,1261,952,1924,966,502,691,578,1518,1100,657,613,1000,2000,960,1682,710,752,2000,1724,1650,1900,2000,2000,2000,2000,1950,2000,2000,2000,1950,2000,1950,1850,1900,1900,2000,1950,1950,2000,1999,2000,2000,2000,2000,2000,2000,2000,2000,2000,2000,2000,2000,1950,2000,2000,2000,2000,2000,2000,1950,1950,2000,2000,1950,2000,2000,2000,2000,2000,2000,2000,1951,1956,2005,2000,1954,1966,1950,1950,1950,1955,1960,2016,2017,1945,1976,2005,1974,1797,1992,2103,1949,2030],\"yaxis\":\"y\",\"type\":\"bar\"}],                        {\"template\":{\"data\":{\"bar\":[{\"error_x\":{\"color\":\"#2a3f5f\"},\"error_y\":{\"color\":\"#2a3f5f\"},\"marker\":{\"line\":{\"color\":\"#E5ECF6\",\"width\":0.5},\"pattern\":{\"fillmode\":\"overlay\",\"size\":10,\"solidity\":0.2}},\"type\":\"bar\"}],\"barpolar\":[{\"marker\":{\"line\":{\"color\":\"#E5ECF6\",\"width\":0.5},\"pattern\":{\"fillmode\":\"overlay\",\"size\":10,\"solidity\":0.2}},\"type\":\"barpolar\"}],\"carpet\":[{\"aaxis\":{\"endlinecolor\":\"#2a3f5f\",\"gridcolor\":\"white\",\"linecolor\":\"white\",\"minorgridcolor\":\"white\",\"startlinecolor\":\"#2a3f5f\"},\"baxis\":{\"endlinecolor\":\"#2a3f5f\",\"gridcolor\":\"white\",\"linecolor\":\"white\",\"minorgridcolor\":\"white\",\"startlinecolor\":\"#2a3f5f\"},\"type\":\"carpet\"}],\"choropleth\":[{\"colorbar\":{\"outlinewidth\":0,\"ticks\":\"\"},\"type\":\"choropleth\"}],\"contour\":[{\"colorbar\":{\"outlinewidth\":0,\"ticks\":\"\"},\"colorscale\":[[0.0,\"#0d0887\"],[0.1111111111111111,\"#46039f\"],[0.2222222222222222,\"#7201a8\"],[0.3333333333333333,\"#9c179e\"],[0.4444444444444444,\"#bd3786\"],[0.5555555555555556,\"#d8576b\"],[0.6666666666666666,\"#ed7953\"],[0.7777777777777778,\"#fb9f3a\"],[0.8888888888888888,\"#fdca26\"],[1.0,\"#f0f921\"]],\"type\":\"contour\"}],\"contourcarpet\":[{\"colorbar\":{\"outlinewidth\":0,\"ticks\":\"\"},\"type\":\"contourcarpet\"}],\"heatmap\":[{\"colorbar\":{\"outlinewidth\":0,\"ticks\":\"\"},\"colorscale\":[[0.0,\"#0d0887\"],[0.1111111111111111,\"#46039f\"],[0.2222222222222222,\"#7201a8\"],[0.3333333333333333,\"#9c179e\"],[0.4444444444444444,\"#bd3786\"],[0.5555555555555556,\"#d8576b\"],[0.6666666666666666,\"#ed7953\"],[0.7777777777777778,\"#fb9f3a\"],[0.8888888888888888,\"#fdca26\"],[1.0,\"#f0f921\"]],\"type\":\"heatmap\"}],\"heatmapgl\":[{\"colorbar\":{\"outlinewidth\":0,\"ticks\":\"\"},\"colorscale\":[[0.0,\"#0d0887\"],[0.1111111111111111,\"#46039f\"],[0.2222222222222222,\"#7201a8\"],[0.3333333333333333,\"#9c179e\"],[0.4444444444444444,\"#bd3786\"],[0.5555555555555556,\"#d8576b\"],[0.6666666666666666,\"#ed7953\"],[0.7777777777777778,\"#fb9f3a\"],[0.8888888888888888,\"#fdca26\"],[1.0,\"#f0f921\"]],\"type\":\"heatmapgl\"}],\"histogram\":[{\"marker\":{\"pattern\":{\"fillmode\":\"overlay\",\"size\":10,\"solidity\":0.2}},\"type\":\"histogram\"}],\"histogram2d\":[{\"colorbar\":{\"outlinewidth\":0,\"ticks\":\"\"},\"colorscale\":[[0.0,\"#0d0887\"],[0.1111111111111111,\"#46039f\"],[0.2222222222222222,\"#7201a8\"],[0.3333333333333333,\"#9c179e\"],[0.4444444444444444,\"#bd3786\"],[0.5555555555555556,\"#d8576b\"],[0.6666666666666666,\"#ed7953\"],[0.7777777777777778,\"#fb9f3a\"],[0.8888888888888888,\"#fdca26\"],[1.0,\"#f0f921\"]],\"type\":\"histogram2d\"}],\"histogram2dcontour\":[{\"colorbar\":{\"outlinewidth\":0,\"ticks\":\"\"},\"colorscale\":[[0.0,\"#0d0887\"],[0.1111111111111111,\"#46039f\"],[0.2222222222222222,\"#7201a8\"],[0.3333333333333333,\"#9c179e\"],[0.4444444444444444,\"#bd3786\"],[0.5555555555555556,\"#d8576b\"],[0.6666666666666666,\"#ed7953\"],[0.7777777777777778,\"#fb9f3a\"],[0.8888888888888888,\"#fdca26\"],[1.0,\"#f0f921\"]],\"type\":\"histogram2dcontour\"}],\"mesh3d\":[{\"colorbar\":{\"outlinewidth\":0,\"ticks\":\"\"},\"type\":\"mesh3d\"}],\"parcoords\":[{\"line\":{\"colorbar\":{\"outlinewidth\":0,\"ticks\":\"\"}},\"type\":\"parcoords\"}],\"pie\":[{\"automargin\":true,\"type\":\"pie\"}],\"scatter\":[{\"marker\":{\"colorbar\":{\"outlinewidth\":0,\"ticks\":\"\"}},\"type\":\"scatter\"}],\"scatter3d\":[{\"line\":{\"colorbar\":{\"outlinewidth\":0,\"ticks\":\"\"}},\"marker\":{\"colorbar\":{\"outlinewidth\":0,\"ticks\":\"\"}},\"type\":\"scatter3d\"}],\"scattercarpet\":[{\"marker\":{\"colorbar\":{\"outlinewidth\":0,\"ticks\":\"\"}},\"type\":\"scattercarpet\"}],\"scattergeo\":[{\"marker\":{\"colorbar\":{\"outlinewidth\":0,\"ticks\":\"\"}},\"type\":\"scattergeo\"}],\"scattergl\":[{\"marker\":{\"colorbar\":{\"outlinewidth\":0,\"ticks\":\"\"}},\"type\":\"scattergl\"}],\"scattermapbox\":[{\"marker\":{\"colorbar\":{\"outlinewidth\":0,\"ticks\":\"\"}},\"type\":\"scattermapbox\"}],\"scatterpolar\":[{\"marker\":{\"colorbar\":{\"outlinewidth\":0,\"ticks\":\"\"}},\"type\":\"scatterpolar\"}],\"scatterpolargl\":[{\"marker\":{\"colorbar\":{\"outlinewidth\":0,\"ticks\":\"\"}},\"type\":\"scatterpolargl\"}],\"scatterternary\":[{\"marker\":{\"colorbar\":{\"outlinewidth\":0,\"ticks\":\"\"}},\"type\":\"scatterternary\"}],\"surface\":[{\"colorbar\":{\"outlinewidth\":0,\"ticks\":\"\"},\"colorscale\":[[0.0,\"#0d0887\"],[0.1111111111111111,\"#46039f\"],[0.2222222222222222,\"#7201a8\"],[0.3333333333333333,\"#9c179e\"],[0.4444444444444444,\"#bd3786\"],[0.5555555555555556,\"#d8576b\"],[0.6666666666666666,\"#ed7953\"],[0.7777777777777778,\"#fb9f3a\"],[0.8888888888888888,\"#fdca26\"],[1.0,\"#f0f921\"]],\"type\":\"surface\"}],\"table\":[{\"cells\":{\"fill\":{\"color\":\"#EBF0F8\"},\"line\":{\"color\":\"white\"}},\"header\":{\"fill\":{\"color\":\"#C8D4E3\"},\"line\":{\"color\":\"white\"}},\"type\":\"table\"}]},\"layout\":{\"annotationdefaults\":{\"arrowcolor\":\"#2a3f5f\",\"arrowhead\":0,\"arrowwidth\":1},\"autotypenumbers\":\"strict\",\"coloraxis\":{\"colorbar\":{\"outlinewidth\":0,\"ticks\":\"\"}},\"colorscale\":{\"diverging\":[[0,\"#8e0152\"],[0.1,\"#c51b7d\"],[0.2,\"#de77ae\"],[0.3,\"#f1b6da\"],[0.4,\"#fde0ef\"],[0.5,\"#f7f7f7\"],[0.6,\"#e6f5d0\"],[0.7,\"#b8e186\"],[0.8,\"#7fbc41\"],[0.9,\"#4d9221\"],[1,\"#276419\"]],\"sequential\":[[0.0,\"#0d0887\"],[0.1111111111111111,\"#46039f\"],[0.2222222222222222,\"#7201a8\"],[0.3333333333333333,\"#9c179e\"],[0.4444444444444444,\"#bd3786\"],[0.5555555555555556,\"#d8576b\"],[0.6666666666666666,\"#ed7953\"],[0.7777777777777778,\"#fb9f3a\"],[0.8888888888888888,\"#fdca26\"],[1.0,\"#f0f921\"]],\"sequentialminus\":[[0.0,\"#0d0887\"],[0.1111111111111111,\"#46039f\"],[0.2222222222222222,\"#7201a8\"],[0.3333333333333333,\"#9c179e\"],[0.4444444444444444,\"#bd3786\"],[0.5555555555555556,\"#d8576b\"],[0.6666666666666666,\"#ed7953\"],[0.7777777777777778,\"#fb9f3a\"],[0.8888888888888888,\"#fdca26\"],[1.0,\"#f0f921\"]]},\"colorway\":[\"#636efa\",\"#EF553B\",\"#00cc96\",\"#ab63fa\",\"#FFA15A\",\"#19d3f3\",\"#FF6692\",\"#B6E880\",\"#FF97FF\",\"#FECB52\"],\"font\":{\"color\":\"#2a3f5f\"},\"geo\":{\"bgcolor\":\"white\",\"lakecolor\":\"white\",\"landcolor\":\"#E5ECF6\",\"showlakes\":true,\"showland\":true,\"subunitcolor\":\"white\"},\"hoverlabel\":{\"align\":\"left\"},\"hovermode\":\"closest\",\"mapbox\":{\"style\":\"light\"},\"paper_bgcolor\":\"white\",\"plot_bgcolor\":\"#E5ECF6\",\"polar\":{\"angularaxis\":{\"gridcolor\":\"white\",\"linecolor\":\"white\",\"ticks\":\"\"},\"bgcolor\":\"#E5ECF6\",\"radialaxis\":{\"gridcolor\":\"white\",\"linecolor\":\"white\",\"ticks\":\"\"}},\"scene\":{\"xaxis\":{\"backgroundcolor\":\"#E5ECF6\",\"gridcolor\":\"white\",\"gridwidth\":2,\"linecolor\":\"white\",\"showbackground\":true,\"ticks\":\"\",\"zerolinecolor\":\"white\"},\"yaxis\":{\"backgroundcolor\":\"#E5ECF6\",\"gridcolor\":\"white\",\"gridwidth\":2,\"linecolor\":\"white\",\"showbackground\":true,\"ticks\":\"\",\"zerolinecolor\":\"white\"},\"zaxis\":{\"backgroundcolor\":\"#E5ECF6\",\"gridcolor\":\"white\",\"gridwidth\":2,\"linecolor\":\"white\",\"showbackground\":true,\"ticks\":\"\",\"zerolinecolor\":\"white\"}},\"shapedefaults\":{\"line\":{\"color\":\"#2a3f5f\"}},\"ternary\":{\"aaxis\":{\"gridcolor\":\"white\",\"linecolor\":\"white\",\"ticks\":\"\"},\"baxis\":{\"gridcolor\":\"white\",\"linecolor\":\"white\",\"ticks\":\"\"},\"bgcolor\":\"#E5ECF6\",\"caxis\":{\"gridcolor\":\"white\",\"linecolor\":\"white\",\"ticks\":\"\"}},\"title\":{\"x\":0.05},\"xaxis\":{\"automargin\":true,\"gridcolor\":\"white\",\"linecolor\":\"white\",\"ticks\":\"\",\"title\":{\"standoff\":15},\"zerolinecolor\":\"white\",\"zerolinewidth\":2},\"yaxis\":{\"automargin\":true,\"gridcolor\":\"white\",\"linecolor\":\"white\",\"ticks\":\"\",\"title\":{\"standoff\":15},\"zerolinecolor\":\"white\",\"zerolinewidth\":2}}},\"xaxis\":{\"anchor\":\"y\",\"domain\":[0.0,1.0],\"title\":{\"text\":\"index\"}},\"yaxis\":{\"anchor\":\"x\",\"domain\":[0.0,1.0],\"title\":{\"text\":\"value\"}},\"legend\":{\"title\":{\"text\":\"variable\"},\"tracegroupgap\":0},\"margin\":{\"t\":60},\"barmode\":\"relative\"},                        {\"responsive\": true}                    )                };                            </script>        </div>\n</body>\n</html>",
       "datasetInfos": [],
       "metadata": {},
       "removedWidgets": [],
       "textData": null,
       "type": "htmlSandbox"
      }
     },
     "output_type": "display_data"
    }
   ],
   "source": [
    "df_data.year.value_counts().sort_index().plot.bar()"
   ]
  },
  {
   "cell_type": "code",
   "execution_count": 0,
   "metadata": {
    "application/vnd.databricks.v1+cell": {
     "cellMetadata": {
      "byteLimit": 2048000,
      "rowLimit": 10000
     },
     "inputWidgets": {},
     "nuid": "347989cc-b286-4208-a5cf-1546e437e4c8",
     "showTitle": false,
     "tableResultSettingsMap": {},
     "title": ""
    }
   },
   "outputs": [],
   "source": [
    "df_data['decade'] = df_data.year.apply(lambda year: f'{(year//10)*10}s')"
   ]
  },
  {
   "cell_type": "code",
   "execution_count": 0,
   "metadata": {
    "application/vnd.databricks.v1+cell": {
     "cellMetadata": {
      "byteLimit": 2048000,
      "rowLimit": 10000
     },
     "inputWidgets": {},
     "nuid": "8356bfff-ab26-4b1f-b58d-0741e9cb6002",
     "showTitle": false,
     "tableResultSettingsMap": {},
     "title": ""
    }
   },
   "outputs": [],
   "source": [
    "df_data2 = df_data[['decade']]\n",
    "df_data2['qtd'] = 1"
   ]
  },
  {
   "cell_type": "code",
   "execution_count": 0,
   "metadata": {
    "application/vnd.databricks.v1+cell": {
     "cellMetadata": {
      "byteLimit": 2048000,
      "rowLimit": 10000
     },
     "inputWidgets": {},
     "nuid": "8473b67f-9b07-49dd-9997-e888a657bcd2",
     "showTitle": false,
     "tableResultSettingsMap": {},
     "title": ""
    }
   },
   "outputs": [],
   "source": [
    "df_data2 = df_data2.groupby('decade').sum()"
   ]
  },
  {
   "cell_type": "code",
   "execution_count": 0,
   "metadata": {
    "application/vnd.databricks.v1+cell": {
     "cellMetadata": {
      "byteLimit": 2048000,
      "rowLimit": 10000
     },
     "inputWidgets": {},
     "nuid": "898f0379-0fc3-4931-83be-8085e61b418a",
     "showTitle": false,
     "tableResultSettingsMap": {},
     "title": ""
    }
   },
   "outputs": [
    {
     "output_type": "display_data",
     "data": {
      "text/html": [
       "<div>\n",
       "<style scoped>\n",
       "    .dataframe tbody tr th:only-of-type {\n",
       "        vertical-align: middle;\n",
       "    }\n",
       "\n",
       "    .dataframe tbody tr th {\n",
       "        vertical-align: top;\n",
       "    }\n",
       "\n",
       "    .dataframe thead th {\n",
       "        text-align: right;\n",
       "    }\n",
       "</style>\n",
       "<table border=\"1\" class=\"dataframe\">\n",
       "  <thead>\n",
       "    <tr style=\"text-align: right;\">\n",
       "      <th></th>\n",
       "      <th>qtd</th>\n",
       "    </tr>\n",
       "    <tr>\n",
       "      <th>decade</th>\n",
       "      <th></th>\n",
       "    </tr>\n",
       "  </thead>\n",
       "  <tbody>\n",
       "    <tr>\n",
       "      <th>1970s</th>\n",
       "      <td>20000</td>\n",
       "    </tr>\n",
       "    <tr>\n",
       "      <th>2000s</th>\n",
       "      <td>19646</td>\n",
       "    </tr>\n",
       "    <tr>\n",
       "      <th>1980s</th>\n",
       "      <td>19850</td>\n",
       "    </tr>\n",
       "    <tr>\n",
       "      <th>1960s</th>\n",
       "      <td>19549</td>\n",
       "    </tr>\n",
       "    <tr>\n",
       "      <th>1930s</th>\n",
       "      <td>9549</td>\n",
       "    </tr>\n",
       "    <tr>\n",
       "      <th>2010s</th>\n",
       "      <td>19774</td>\n",
       "    </tr>\n",
       "    <tr>\n",
       "      <th>2020s</th>\n",
       "      <td>2030</td>\n",
       "    </tr>\n",
       "    <tr>\n",
       "      <th>1990s</th>\n",
       "      <td>19901</td>\n",
       "    </tr>\n",
       "    <tr>\n",
       "      <th>1950s</th>\n",
       "      <td>19850</td>\n",
       "    </tr>\n",
       "    <tr>\n",
       "      <th>1940s</th>\n",
       "      <td>15378</td>\n",
       "    </tr>\n",
       "    <tr>\n",
       "      <th>1920s</th>\n",
       "      <td>5126</td>\n",
       "    </tr>\n",
       "  </tbody>\n",
       "</table>\n",
       "</div>"
      ]
     },
     "metadata": {
      "application/vnd.databricks.v1+output": {
       "addedWidgets": {},
       "arguments": {},
       "data": "<div>\n<style scoped>\n    .dataframe tbody tr th:only-of-type {\n        vertical-align: middle;\n    }\n\n    .dataframe tbody tr th {\n        vertical-align: top;\n    }\n\n    .dataframe thead th {\n        text-align: right;\n    }\n</style>\n<table border=\"1\" class=\"dataframe\">\n  <thead>\n    <tr style=\"text-align: right;\">\n      <th></th>\n      <th>qtd</th>\n    </tr>\n    <tr>\n      <th>decade</th>\n      <th></th>\n    </tr>\n  </thead>\n  <tbody>\n    <tr>\n      <th>1970s</th>\n      <td>20000</td>\n    </tr>\n    <tr>\n      <th>2000s</th>\n      <td>19646</td>\n    </tr>\n    <tr>\n      <th>1980s</th>\n      <td>19850</td>\n    </tr>\n    <tr>\n      <th>1960s</th>\n      <td>19549</td>\n    </tr>\n    <tr>\n      <th>1930s</th>\n      <td>9549</td>\n    </tr>\n    <tr>\n      <th>2010s</th>\n      <td>19774</td>\n    </tr>\n    <tr>\n      <th>2020s</th>\n      <td>2030</td>\n    </tr>\n    <tr>\n      <th>1990s</th>\n      <td>19901</td>\n    </tr>\n    <tr>\n      <th>1950s</th>\n      <td>19850</td>\n    </tr>\n    <tr>\n      <th>1940s</th>\n      <td>15378</td>\n    </tr>\n    <tr>\n      <th>1920s</th>\n      <td>5126</td>\n    </tr>\n  </tbody>\n</table>\n</div>",
       "datasetInfos": [],
       "metadata": {},
       "removedWidgets": [],
       "textData": null,
       "type": "htmlSandbox"
      }
     },
     "output_type": "display_data"
    }
   ],
   "source": [
    "df_data2"
   ]
  },
  {
   "cell_type": "code",
   "execution_count": 0,
   "metadata": {
    "application/vnd.databricks.v1+cell": {
     "cellMetadata": {
      "byteLimit": 2048000,
      "rowLimit": 10000
     },
     "inputWidgets": {},
     "nuid": "1587c45e-a353-44ec-9634-98cd31df09b3",
     "showTitle": false,
     "tableResultSettingsMap": {},
     "title": ""
    }
   },
   "outputs": [
    {
     "output_type": "display_data",
     "data": {
      "text/html": [
       "<html>\n",
       "<head><meta charset=\"utf-8\" /></head>\n",
       "<body>\n",
       "    <div>            <script src=\"https://cdnjs.cloudflare.com/ajax/libs/mathjax/2.7.5/MathJax.js?config=TeX-AMS-MML_SVG\"></script><script type=\"text/javascript\">if (window.MathJax) {MathJax.Hub.Config({SVG: {font: \"STIX-Web\"}});}</script>                <script type=\"text/javascript\">window.PlotlyConfig = {MathJaxConfig: 'local'};</script>\n",
       "        <script src=\"https://cdn.plot.ly/plotly-2.9.0.min.js\"></script>                <div id=\"ee9de932-7bd0-44d0-8c0e-b32a57b85ee5\" class=\"plotly-graph-div\" style=\"height:100%; width:100%;\"></div>            <script type=\"text/javascript\">                                    window.PLOTLYENV=window.PLOTLYENV || {};                                    if (document.getElementById(\"ee9de932-7bd0-44d0-8c0e-b32a57b85ee5\")) {                    Plotly.newPlot(                        \"ee9de932-7bd0-44d0-8c0e-b32a57b85ee5\",                        [{\"alignmentgroup\":\"True\",\"hovertemplate\":\"decade=%{x}<br>qtd=%{y}<extra></extra>\",\"legendgroup\":\"\",\"marker\":{\"color\":\"#636efa\",\"pattern\":{\"shape\":\"\"}},\"name\":\"\",\"offsetgroup\":\"\",\"orientation\":\"v\",\"showlegend\":false,\"textposition\":\"auto\",\"x\":[\"1920s\",\"1930s\",\"1940s\",\"1950s\",\"1960s\",\"1970s\",\"1980s\",\"1990s\",\"2000s\",\"2010s\",\"2020s\"],\"xaxis\":\"x\",\"y\":[5126,9549,15378,19850,19549,20000,19850,19901,19646,19774,2030],\"yaxis\":\"y\",\"type\":\"bar\"}],                        {\"template\":{\"data\":{\"bar\":[{\"error_x\":{\"color\":\"#2a3f5f\"},\"error_y\":{\"color\":\"#2a3f5f\"},\"marker\":{\"line\":{\"color\":\"#E5ECF6\",\"width\":0.5},\"pattern\":{\"fillmode\":\"overlay\",\"size\":10,\"solidity\":0.2}},\"type\":\"bar\"}],\"barpolar\":[{\"marker\":{\"line\":{\"color\":\"#E5ECF6\",\"width\":0.5},\"pattern\":{\"fillmode\":\"overlay\",\"size\":10,\"solidity\":0.2}},\"type\":\"barpolar\"}],\"carpet\":[{\"aaxis\":{\"endlinecolor\":\"#2a3f5f\",\"gridcolor\":\"white\",\"linecolor\":\"white\",\"minorgridcolor\":\"white\",\"startlinecolor\":\"#2a3f5f\"},\"baxis\":{\"endlinecolor\":\"#2a3f5f\",\"gridcolor\":\"white\",\"linecolor\":\"white\",\"minorgridcolor\":\"white\",\"startlinecolor\":\"#2a3f5f\"},\"type\":\"carpet\"}],\"choropleth\":[{\"colorbar\":{\"outlinewidth\":0,\"ticks\":\"\"},\"type\":\"choropleth\"}],\"contour\":[{\"colorbar\":{\"outlinewidth\":0,\"ticks\":\"\"},\"colorscale\":[[0.0,\"#0d0887\"],[0.1111111111111111,\"#46039f\"],[0.2222222222222222,\"#7201a8\"],[0.3333333333333333,\"#9c179e\"],[0.4444444444444444,\"#bd3786\"],[0.5555555555555556,\"#d8576b\"],[0.6666666666666666,\"#ed7953\"],[0.7777777777777778,\"#fb9f3a\"],[0.8888888888888888,\"#fdca26\"],[1.0,\"#f0f921\"]],\"type\":\"contour\"}],\"contourcarpet\":[{\"colorbar\":{\"outlinewidth\":0,\"ticks\":\"\"},\"type\":\"contourcarpet\"}],\"heatmap\":[{\"colorbar\":{\"outlinewidth\":0,\"ticks\":\"\"},\"colorscale\":[[0.0,\"#0d0887\"],[0.1111111111111111,\"#46039f\"],[0.2222222222222222,\"#7201a8\"],[0.3333333333333333,\"#9c179e\"],[0.4444444444444444,\"#bd3786\"],[0.5555555555555556,\"#d8576b\"],[0.6666666666666666,\"#ed7953\"],[0.7777777777777778,\"#fb9f3a\"],[0.8888888888888888,\"#fdca26\"],[1.0,\"#f0f921\"]],\"type\":\"heatmap\"}],\"heatmapgl\":[{\"colorbar\":{\"outlinewidth\":0,\"ticks\":\"\"},\"colorscale\":[[0.0,\"#0d0887\"],[0.1111111111111111,\"#46039f\"],[0.2222222222222222,\"#7201a8\"],[0.3333333333333333,\"#9c179e\"],[0.4444444444444444,\"#bd3786\"],[0.5555555555555556,\"#d8576b\"],[0.6666666666666666,\"#ed7953\"],[0.7777777777777778,\"#fb9f3a\"],[0.8888888888888888,\"#fdca26\"],[1.0,\"#f0f921\"]],\"type\":\"heatmapgl\"}],\"histogram\":[{\"marker\":{\"pattern\":{\"fillmode\":\"overlay\",\"size\":10,\"solidity\":0.2}},\"type\":\"histogram\"}],\"histogram2d\":[{\"colorbar\":{\"outlinewidth\":0,\"ticks\":\"\"},\"colorscale\":[[0.0,\"#0d0887\"],[0.1111111111111111,\"#46039f\"],[0.2222222222222222,\"#7201a8\"],[0.3333333333333333,\"#9c179e\"],[0.4444444444444444,\"#bd3786\"],[0.5555555555555556,\"#d8576b\"],[0.6666666666666666,\"#ed7953\"],[0.7777777777777778,\"#fb9f3a\"],[0.8888888888888888,\"#fdca26\"],[1.0,\"#f0f921\"]],\"type\":\"histogram2d\"}],\"histogram2dcontour\":[{\"colorbar\":{\"outlinewidth\":0,\"ticks\":\"\"},\"colorscale\":[[0.0,\"#0d0887\"],[0.1111111111111111,\"#46039f\"],[0.2222222222222222,\"#7201a8\"],[0.3333333333333333,\"#9c179e\"],[0.4444444444444444,\"#bd3786\"],[0.5555555555555556,\"#d8576b\"],[0.6666666666666666,\"#ed7953\"],[0.7777777777777778,\"#fb9f3a\"],[0.8888888888888888,\"#fdca26\"],[1.0,\"#f0f921\"]],\"type\":\"histogram2dcontour\"}],\"mesh3d\":[{\"colorbar\":{\"outlinewidth\":0,\"ticks\":\"\"},\"type\":\"mesh3d\"}],\"parcoords\":[{\"line\":{\"colorbar\":{\"outlinewidth\":0,\"ticks\":\"\"}},\"type\":\"parcoords\"}],\"pie\":[{\"automargin\":true,\"type\":\"pie\"}],\"scatter\":[{\"marker\":{\"colorbar\":{\"outlinewidth\":0,\"ticks\":\"\"}},\"type\":\"scatter\"}],\"scatter3d\":[{\"line\":{\"colorbar\":{\"outlinewidth\":0,\"ticks\":\"\"}},\"marker\":{\"colorbar\":{\"outlinewidth\":0,\"ticks\":\"\"}},\"type\":\"scatter3d\"}],\"scattercarpet\":[{\"marker\":{\"colorbar\":{\"outlinewidth\":0,\"ticks\":\"\"}},\"type\":\"scattercarpet\"}],\"scattergeo\":[{\"marker\":{\"colorbar\":{\"outlinewidth\":0,\"ticks\":\"\"}},\"type\":\"scattergeo\"}],\"scattergl\":[{\"marker\":{\"colorbar\":{\"outlinewidth\":0,\"ticks\":\"\"}},\"type\":\"scattergl\"}],\"scattermapbox\":[{\"marker\":{\"colorbar\":{\"outlinewidth\":0,\"ticks\":\"\"}},\"type\":\"scattermapbox\"}],\"scatterpolar\":[{\"marker\":{\"colorbar\":{\"outlinewidth\":0,\"ticks\":\"\"}},\"type\":\"scatterpolar\"}],\"scatterpolargl\":[{\"marker\":{\"colorbar\":{\"outlinewidth\":0,\"ticks\":\"\"}},\"type\":\"scatterpolargl\"}],\"scatterternary\":[{\"marker\":{\"colorbar\":{\"outlinewidth\":0,\"ticks\":\"\"}},\"type\":\"scatterternary\"}],\"surface\":[{\"colorbar\":{\"outlinewidth\":0,\"ticks\":\"\"},\"colorscale\":[[0.0,\"#0d0887\"],[0.1111111111111111,\"#46039f\"],[0.2222222222222222,\"#7201a8\"],[0.3333333333333333,\"#9c179e\"],[0.4444444444444444,\"#bd3786\"],[0.5555555555555556,\"#d8576b\"],[0.6666666666666666,\"#ed7953\"],[0.7777777777777778,\"#fb9f3a\"],[0.8888888888888888,\"#fdca26\"],[1.0,\"#f0f921\"]],\"type\":\"surface\"}],\"table\":[{\"cells\":{\"fill\":{\"color\":\"#EBF0F8\"},\"line\":{\"color\":\"white\"}},\"header\":{\"fill\":{\"color\":\"#C8D4E3\"},\"line\":{\"color\":\"white\"}},\"type\":\"table\"}]},\"layout\":{\"annotationdefaults\":{\"arrowcolor\":\"#2a3f5f\",\"arrowhead\":0,\"arrowwidth\":1},\"autotypenumbers\":\"strict\",\"coloraxis\":{\"colorbar\":{\"outlinewidth\":0,\"ticks\":\"\"}},\"colorscale\":{\"diverging\":[[0,\"#8e0152\"],[0.1,\"#c51b7d\"],[0.2,\"#de77ae\"],[0.3,\"#f1b6da\"],[0.4,\"#fde0ef\"],[0.5,\"#f7f7f7\"],[0.6,\"#e6f5d0\"],[0.7,\"#b8e186\"],[0.8,\"#7fbc41\"],[0.9,\"#4d9221\"],[1,\"#276419\"]],\"sequential\":[[0.0,\"#0d0887\"],[0.1111111111111111,\"#46039f\"],[0.2222222222222222,\"#7201a8\"],[0.3333333333333333,\"#9c179e\"],[0.4444444444444444,\"#bd3786\"],[0.5555555555555556,\"#d8576b\"],[0.6666666666666666,\"#ed7953\"],[0.7777777777777778,\"#fb9f3a\"],[0.8888888888888888,\"#fdca26\"],[1.0,\"#f0f921\"]],\"sequentialminus\":[[0.0,\"#0d0887\"],[0.1111111111111111,\"#46039f\"],[0.2222222222222222,\"#7201a8\"],[0.3333333333333333,\"#9c179e\"],[0.4444444444444444,\"#bd3786\"],[0.5555555555555556,\"#d8576b\"],[0.6666666666666666,\"#ed7953\"],[0.7777777777777778,\"#fb9f3a\"],[0.8888888888888888,\"#fdca26\"],[1.0,\"#f0f921\"]]},\"colorway\":[\"#636efa\",\"#EF553B\",\"#00cc96\",\"#ab63fa\",\"#FFA15A\",\"#19d3f3\",\"#FF6692\",\"#B6E880\",\"#FF97FF\",\"#FECB52\"],\"font\":{\"color\":\"#2a3f5f\"},\"geo\":{\"bgcolor\":\"white\",\"lakecolor\":\"white\",\"landcolor\":\"#E5ECF6\",\"showlakes\":true,\"showland\":true,\"subunitcolor\":\"white\"},\"hoverlabel\":{\"align\":\"left\"},\"hovermode\":\"closest\",\"mapbox\":{\"style\":\"light\"},\"paper_bgcolor\":\"white\",\"plot_bgcolor\":\"#E5ECF6\",\"polar\":{\"angularaxis\":{\"gridcolor\":\"white\",\"linecolor\":\"white\",\"ticks\":\"\"},\"bgcolor\":\"#E5ECF6\",\"radialaxis\":{\"gridcolor\":\"white\",\"linecolor\":\"white\",\"ticks\":\"\"}},\"scene\":{\"xaxis\":{\"backgroundcolor\":\"#E5ECF6\",\"gridcolor\":\"white\",\"gridwidth\":2,\"linecolor\":\"white\",\"showbackground\":true,\"ticks\":\"\",\"zerolinecolor\":\"white\"},\"yaxis\":{\"backgroundcolor\":\"#E5ECF6\",\"gridcolor\":\"white\",\"gridwidth\":2,\"linecolor\":\"white\",\"showbackground\":true,\"ticks\":\"\",\"zerolinecolor\":\"white\"},\"zaxis\":{\"backgroundcolor\":\"#E5ECF6\",\"gridcolor\":\"white\",\"gridwidth\":2,\"linecolor\":\"white\",\"showbackground\":true,\"ticks\":\"\",\"zerolinecolor\":\"white\"}},\"shapedefaults\":{\"line\":{\"color\":\"#2a3f5f\"}},\"ternary\":{\"aaxis\":{\"gridcolor\":\"white\",\"linecolor\":\"white\",\"ticks\":\"\"},\"baxis\":{\"gridcolor\":\"white\",\"linecolor\":\"white\",\"ticks\":\"\"},\"bgcolor\":\"#E5ECF6\",\"caxis\":{\"gridcolor\":\"white\",\"linecolor\":\"white\",\"ticks\":\"\"}},\"title\":{\"x\":0.05},\"xaxis\":{\"automargin\":true,\"gridcolor\":\"white\",\"linecolor\":\"white\",\"ticks\":\"\",\"title\":{\"standoff\":15},\"zerolinecolor\":\"white\",\"zerolinewidth\":2},\"yaxis\":{\"automargin\":true,\"gridcolor\":\"white\",\"linecolor\":\"white\",\"ticks\":\"\",\"title\":{\"standoff\":15},\"zerolinecolor\":\"white\",\"zerolinewidth\":2}}},\"xaxis\":{\"anchor\":\"y\",\"domain\":[0.0,1.0],\"title\":{\"text\":\"decade\"}},\"yaxis\":{\"anchor\":\"x\",\"domain\":[0.0,1.0],\"title\":{\"text\":\"qtd\"}},\"legend\":{\"tracegroupgap\":0},\"margin\":{\"t\":60},\"barmode\":\"relative\"},                        {\"responsive\": true}                    )                };                            </script>        </div>\n",
       "</body>\n",
       "</html>"
      ]
     },
     "metadata": {
      "application/vnd.databricks.v1+output": {
       "addedWidgets": {},
       "arguments": {},
       "data": "<html>\n<head><meta charset=\"utf-8\" /></head>\n<body>\n    <div>            <script src=\"https://cdnjs.cloudflare.com/ajax/libs/mathjax/2.7.5/MathJax.js?config=TeX-AMS-MML_SVG\"></script><script type=\"text/javascript\">if (window.MathJax) {MathJax.Hub.Config({SVG: {font: \"STIX-Web\"}});}</script>                <script type=\"text/javascript\">window.PlotlyConfig = {MathJaxConfig: 'local'};</script>\n        <script src=\"https://cdn.plot.ly/plotly-2.9.0.min.js\"></script>                <div id=\"ee9de932-7bd0-44d0-8c0e-b32a57b85ee5\" class=\"plotly-graph-div\" style=\"height:100%; width:100%;\"></div>            <script type=\"text/javascript\">                                    window.PLOTLYENV=window.PLOTLYENV || {};                                    if (document.getElementById(\"ee9de932-7bd0-44d0-8c0e-b32a57b85ee5\")) {                    Plotly.newPlot(                        \"ee9de932-7bd0-44d0-8c0e-b32a57b85ee5\",                        [{\"alignmentgroup\":\"True\",\"hovertemplate\":\"decade=%{x}<br>qtd=%{y}<extra></extra>\",\"legendgroup\":\"\",\"marker\":{\"color\":\"#636efa\",\"pattern\":{\"shape\":\"\"}},\"name\":\"\",\"offsetgroup\":\"\",\"orientation\":\"v\",\"showlegend\":false,\"textposition\":\"auto\",\"x\":[\"1920s\",\"1930s\",\"1940s\",\"1950s\",\"1960s\",\"1970s\",\"1980s\",\"1990s\",\"2000s\",\"2010s\",\"2020s\"],\"xaxis\":\"x\",\"y\":[5126,9549,15378,19850,19549,20000,19850,19901,19646,19774,2030],\"yaxis\":\"y\",\"type\":\"bar\"}],                        {\"template\":{\"data\":{\"bar\":[{\"error_x\":{\"color\":\"#2a3f5f\"},\"error_y\":{\"color\":\"#2a3f5f\"},\"marker\":{\"line\":{\"color\":\"#E5ECF6\",\"width\":0.5},\"pattern\":{\"fillmode\":\"overlay\",\"size\":10,\"solidity\":0.2}},\"type\":\"bar\"}],\"barpolar\":[{\"marker\":{\"line\":{\"color\":\"#E5ECF6\",\"width\":0.5},\"pattern\":{\"fillmode\":\"overlay\",\"size\":10,\"solidity\":0.2}},\"type\":\"barpolar\"}],\"carpet\":[{\"aaxis\":{\"endlinecolor\":\"#2a3f5f\",\"gridcolor\":\"white\",\"linecolor\":\"white\",\"minorgridcolor\":\"white\",\"startlinecolor\":\"#2a3f5f\"},\"baxis\":{\"endlinecolor\":\"#2a3f5f\",\"gridcolor\":\"white\",\"linecolor\":\"white\",\"minorgridcolor\":\"white\",\"startlinecolor\":\"#2a3f5f\"},\"type\":\"carpet\"}],\"choropleth\":[{\"colorbar\":{\"outlinewidth\":0,\"ticks\":\"\"},\"type\":\"choropleth\"}],\"contour\":[{\"colorbar\":{\"outlinewidth\":0,\"ticks\":\"\"},\"colorscale\":[[0.0,\"#0d0887\"],[0.1111111111111111,\"#46039f\"],[0.2222222222222222,\"#7201a8\"],[0.3333333333333333,\"#9c179e\"],[0.4444444444444444,\"#bd3786\"],[0.5555555555555556,\"#d8576b\"],[0.6666666666666666,\"#ed7953\"],[0.7777777777777778,\"#fb9f3a\"],[0.8888888888888888,\"#fdca26\"],[1.0,\"#f0f921\"]],\"type\":\"contour\"}],\"contourcarpet\":[{\"colorbar\":{\"outlinewidth\":0,\"ticks\":\"\"},\"type\":\"contourcarpet\"}],\"heatmap\":[{\"colorbar\":{\"outlinewidth\":0,\"ticks\":\"\"},\"colorscale\":[[0.0,\"#0d0887\"],[0.1111111111111111,\"#46039f\"],[0.2222222222222222,\"#7201a8\"],[0.3333333333333333,\"#9c179e\"],[0.4444444444444444,\"#bd3786\"],[0.5555555555555556,\"#d8576b\"],[0.6666666666666666,\"#ed7953\"],[0.7777777777777778,\"#fb9f3a\"],[0.8888888888888888,\"#fdca26\"],[1.0,\"#f0f921\"]],\"type\":\"heatmap\"}],\"heatmapgl\":[{\"colorbar\":{\"outlinewidth\":0,\"ticks\":\"\"},\"colorscale\":[[0.0,\"#0d0887\"],[0.1111111111111111,\"#46039f\"],[0.2222222222222222,\"#7201a8\"],[0.3333333333333333,\"#9c179e\"],[0.4444444444444444,\"#bd3786\"],[0.5555555555555556,\"#d8576b\"],[0.6666666666666666,\"#ed7953\"],[0.7777777777777778,\"#fb9f3a\"],[0.8888888888888888,\"#fdca26\"],[1.0,\"#f0f921\"]],\"type\":\"heatmapgl\"}],\"histogram\":[{\"marker\":{\"pattern\":{\"fillmode\":\"overlay\",\"size\":10,\"solidity\":0.2}},\"type\":\"histogram\"}],\"histogram2d\":[{\"colorbar\":{\"outlinewidth\":0,\"ticks\":\"\"},\"colorscale\":[[0.0,\"#0d0887\"],[0.1111111111111111,\"#46039f\"],[0.2222222222222222,\"#7201a8\"],[0.3333333333333333,\"#9c179e\"],[0.4444444444444444,\"#bd3786\"],[0.5555555555555556,\"#d8576b\"],[0.6666666666666666,\"#ed7953\"],[0.7777777777777778,\"#fb9f3a\"],[0.8888888888888888,\"#fdca26\"],[1.0,\"#f0f921\"]],\"type\":\"histogram2d\"}],\"histogram2dcontour\":[{\"colorbar\":{\"outlinewidth\":0,\"ticks\":\"\"},\"colorscale\":[[0.0,\"#0d0887\"],[0.1111111111111111,\"#46039f\"],[0.2222222222222222,\"#7201a8\"],[0.3333333333333333,\"#9c179e\"],[0.4444444444444444,\"#bd3786\"],[0.5555555555555556,\"#d8576b\"],[0.6666666666666666,\"#ed7953\"],[0.7777777777777778,\"#fb9f3a\"],[0.8888888888888888,\"#fdca26\"],[1.0,\"#f0f921\"]],\"type\":\"histogram2dcontour\"}],\"mesh3d\":[{\"colorbar\":{\"outlinewidth\":0,\"ticks\":\"\"},\"type\":\"mesh3d\"}],\"parcoords\":[{\"line\":{\"colorbar\":{\"outlinewidth\":0,\"ticks\":\"\"}},\"type\":\"parcoords\"}],\"pie\":[{\"automargin\":true,\"type\":\"pie\"}],\"scatter\":[{\"marker\":{\"colorbar\":{\"outlinewidth\":0,\"ticks\":\"\"}},\"type\":\"scatter\"}],\"scatter3d\":[{\"line\":{\"colorbar\":{\"outlinewidth\":0,\"ticks\":\"\"}},\"marker\":{\"colorbar\":{\"outlinewidth\":0,\"ticks\":\"\"}},\"type\":\"scatter3d\"}],\"scattercarpet\":[{\"marker\":{\"colorbar\":{\"outlinewidth\":0,\"ticks\":\"\"}},\"type\":\"scattercarpet\"}],\"scattergeo\":[{\"marker\":{\"colorbar\":{\"outlinewidth\":0,\"ticks\":\"\"}},\"type\":\"scattergeo\"}],\"scattergl\":[{\"marker\":{\"colorbar\":{\"outlinewidth\":0,\"ticks\":\"\"}},\"type\":\"scattergl\"}],\"scattermapbox\":[{\"marker\":{\"colorbar\":{\"outlinewidth\":0,\"ticks\":\"\"}},\"type\":\"scattermapbox\"}],\"scatterpolar\":[{\"marker\":{\"colorbar\":{\"outlinewidth\":0,\"ticks\":\"\"}},\"type\":\"scatterpolar\"}],\"scatterpolargl\":[{\"marker\":{\"colorbar\":{\"outlinewidth\":0,\"ticks\":\"\"}},\"type\":\"scatterpolargl\"}],\"scatterternary\":[{\"marker\":{\"colorbar\":{\"outlinewidth\":0,\"ticks\":\"\"}},\"type\":\"scatterternary\"}],\"surface\":[{\"colorbar\":{\"outlinewidth\":0,\"ticks\":\"\"},\"colorscale\":[[0.0,\"#0d0887\"],[0.1111111111111111,\"#46039f\"],[0.2222222222222222,\"#7201a8\"],[0.3333333333333333,\"#9c179e\"],[0.4444444444444444,\"#bd3786\"],[0.5555555555555556,\"#d8576b\"],[0.6666666666666666,\"#ed7953\"],[0.7777777777777778,\"#fb9f3a\"],[0.8888888888888888,\"#fdca26\"],[1.0,\"#f0f921\"]],\"type\":\"surface\"}],\"table\":[{\"cells\":{\"fill\":{\"color\":\"#EBF0F8\"},\"line\":{\"color\":\"white\"}},\"header\":{\"fill\":{\"color\":\"#C8D4E3\"},\"line\":{\"color\":\"white\"}},\"type\":\"table\"}]},\"layout\":{\"annotationdefaults\":{\"arrowcolor\":\"#2a3f5f\",\"arrowhead\":0,\"arrowwidth\":1},\"autotypenumbers\":\"strict\",\"coloraxis\":{\"colorbar\":{\"outlinewidth\":0,\"ticks\":\"\"}},\"colorscale\":{\"diverging\":[[0,\"#8e0152\"],[0.1,\"#c51b7d\"],[0.2,\"#de77ae\"],[0.3,\"#f1b6da\"],[0.4,\"#fde0ef\"],[0.5,\"#f7f7f7\"],[0.6,\"#e6f5d0\"],[0.7,\"#b8e186\"],[0.8,\"#7fbc41\"],[0.9,\"#4d9221\"],[1,\"#276419\"]],\"sequential\":[[0.0,\"#0d0887\"],[0.1111111111111111,\"#46039f\"],[0.2222222222222222,\"#7201a8\"],[0.3333333333333333,\"#9c179e\"],[0.4444444444444444,\"#bd3786\"],[0.5555555555555556,\"#d8576b\"],[0.6666666666666666,\"#ed7953\"],[0.7777777777777778,\"#fb9f3a\"],[0.8888888888888888,\"#fdca26\"],[1.0,\"#f0f921\"]],\"sequentialminus\":[[0.0,\"#0d0887\"],[0.1111111111111111,\"#46039f\"],[0.2222222222222222,\"#7201a8\"],[0.3333333333333333,\"#9c179e\"],[0.4444444444444444,\"#bd3786\"],[0.5555555555555556,\"#d8576b\"],[0.6666666666666666,\"#ed7953\"],[0.7777777777777778,\"#fb9f3a\"],[0.8888888888888888,\"#fdca26\"],[1.0,\"#f0f921\"]]},\"colorway\":[\"#636efa\",\"#EF553B\",\"#00cc96\",\"#ab63fa\",\"#FFA15A\",\"#19d3f3\",\"#FF6692\",\"#B6E880\",\"#FF97FF\",\"#FECB52\"],\"font\":{\"color\":\"#2a3f5f\"},\"geo\":{\"bgcolor\":\"white\",\"lakecolor\":\"white\",\"landcolor\":\"#E5ECF6\",\"showlakes\":true,\"showland\":true,\"subunitcolor\":\"white\"},\"hoverlabel\":{\"align\":\"left\"},\"hovermode\":\"closest\",\"mapbox\":{\"style\":\"light\"},\"paper_bgcolor\":\"white\",\"plot_bgcolor\":\"#E5ECF6\",\"polar\":{\"angularaxis\":{\"gridcolor\":\"white\",\"linecolor\":\"white\",\"ticks\":\"\"},\"bgcolor\":\"#E5ECF6\",\"radialaxis\":{\"gridcolor\":\"white\",\"linecolor\":\"white\",\"ticks\":\"\"}},\"scene\":{\"xaxis\":{\"backgroundcolor\":\"#E5ECF6\",\"gridcolor\":\"white\",\"gridwidth\":2,\"linecolor\":\"white\",\"showbackground\":true,\"ticks\":\"\",\"zerolinecolor\":\"white\"},\"yaxis\":{\"backgroundcolor\":\"#E5ECF6\",\"gridcolor\":\"white\",\"gridwidth\":2,\"linecolor\":\"white\",\"showbackground\":true,\"ticks\":\"\",\"zerolinecolor\":\"white\"},\"zaxis\":{\"backgroundcolor\":\"#E5ECF6\",\"gridcolor\":\"white\",\"gridwidth\":2,\"linecolor\":\"white\",\"showbackground\":true,\"ticks\":\"\",\"zerolinecolor\":\"white\"}},\"shapedefaults\":{\"line\":{\"color\":\"#2a3f5f\"}},\"ternary\":{\"aaxis\":{\"gridcolor\":\"white\",\"linecolor\":\"white\",\"ticks\":\"\"},\"baxis\":{\"gridcolor\":\"white\",\"linecolor\":\"white\",\"ticks\":\"\"},\"bgcolor\":\"#E5ECF6\",\"caxis\":{\"gridcolor\":\"white\",\"linecolor\":\"white\",\"ticks\":\"\"}},\"title\":{\"x\":0.05},\"xaxis\":{\"automargin\":true,\"gridcolor\":\"white\",\"linecolor\":\"white\",\"ticks\":\"\",\"title\":{\"standoff\":15},\"zerolinecolor\":\"white\",\"zerolinewidth\":2},\"yaxis\":{\"automargin\":true,\"gridcolor\":\"white\",\"linecolor\":\"white\",\"ticks\":\"\",\"title\":{\"standoff\":15},\"zerolinecolor\":\"white\",\"zerolinewidth\":2}}},\"xaxis\":{\"anchor\":\"y\",\"domain\":[0.0,1.0],\"title\":{\"text\":\"decade\"}},\"yaxis\":{\"anchor\":\"x\",\"domain\":[0.0,1.0],\"title\":{\"text\":\"qtd\"}},\"legend\":{\"tracegroupgap\":0},\"margin\":{\"t\":60},\"barmode\":\"relative\"},                        {\"responsive\": true}                    )                };                            </script>        </div>\n</body>\n</html>",
       "datasetInfos": [],
       "metadata": {},
       "removedWidgets": [],
       "textData": null,
       "type": "htmlSandbox"
      }
     },
     "output_type": "display_data"
    }
   ],
   "source": [
    "df_data2.sort_index().plot.bar(y='qtd')"
   ]
  },
  {
   "cell_type": "markdown",
   "metadata": {
    "application/vnd.databricks.v1+cell": {
     "cellMetadata": {
      "byteLimit": 2048000,
      "rowLimit": 10000
     },
     "inputWidgets": {},
     "nuid": "55db6f07-715a-4890-8e7f-5c018d5e1677",
     "showTitle": false,
     "tableResultSettingsMap": {},
     "title": ""
    }
   },
   "source": [
    "- Quais são os top 10 artistas?\n",
    "- Qual o gênero musical desses top 10 artistas?\n",
    "- Quais são os top gêneros?\n",
    "- Quais são os artistas que estão nesses top gêneros?"
   ]
  },
  {
   "cell_type": "code",
   "execution_count": 0,
   "metadata": {
    "application/vnd.databricks.v1+cell": {
     "cellMetadata": {
      "byteLimit": 2048000,
      "rowLimit": 10000
     },
     "inputWidgets": {},
     "nuid": "8e8192d9-21b5-47d5-b516-ee809575ff64",
     "showTitle": false,
     "tableResultSettingsMap": {},
     "title": ""
    }
   },
   "outputs": [],
   "source": [
    "path = 'dbfs:/FileStore/dados_tratados/'"
   ]
  },
  {
   "cell_type": "code",
   "execution_count": 0,
   "metadata": {
    "application/vnd.databricks.v1+cell": {
     "cellMetadata": {
      "byteLimit": 2048000,
      "rowLimit": 10000
     },
     "inputWidgets": {},
     "nuid": "fc4897a8-f3b6-4751-ae0d-e14275d91f87",
     "showTitle": false,
     "tableResultSettingsMap": {},
     "title": ""
    }
   },
   "outputs": [
    {
     "output_type": "stream",
     "name": "stdout",
     "output_type": "stream",
     "text": [
      "Out[112]: [FileInfo(path='dbfs:/FileStore/dados_tratados/data.parquet/', name='data.parquet/', size=0, modificationTime=0),\n FileInfo(path='dbfs:/FileStore/dados_tratados/data_artists.parquet/', name='data_artists.parquet/', size=0, modificationTime=0),\n FileInfo(path='dbfs:/FileStore/dados_tratados/data_genres.parquet/', name='data_genres.parquet/', size=0, modificationTime=0),\n FileInfo(path='dbfs:/FileStore/dados_tratados/data_w_genres.parquet/', name='data_w_genres.parquet/', size=0, modificationTime=0),\n FileInfo(path='dbfs:/FileStore/dados_tratados/data_year.parquet/', name='data_year.parquet/', size=0, modificationTime=0)]"
     ]
    }
   ],
   "source": [
    "dbutils.fs.ls(path)"
   ]
  },
  {
   "cell_type": "code",
   "execution_count": 0,
   "metadata": {
    "application/vnd.databricks.v1+cell": {
     "cellMetadata": {
      "byteLimit": 2048000,
      "rowLimit": 10000
     },
     "inputWidgets": {},
     "nuid": "42ca334d-760f-4b8c-ae8a-550556067f2c",
     "showTitle": false,
     "tableResultSettingsMap": {},
     "title": ""
    }
   },
   "outputs": [],
   "source": [
    "df_genres = ps.read_parquet('dbfs:/FileStore/dados_tratados/data_genres.parquet/')\n",
    "df_artists = ps.read_parquet('dbfs:/FileStore/dados_tratados/data_artists.parquet/')\n",
    "df_Wgenres = ps.read_parquet('dbfs:/FileStore/dados_tratados/data_w_genres.parquet')\n",
    "df_year = ps.read_parquet('dbfs:/FileStore/dados_tratados/data_year.parquet')"
   ]
  },
  {
   "cell_type": "code",
   "execution_count": 0,
   "metadata": {
    "application/vnd.databricks.v1+cell": {
     "cellMetadata": {
      "byteLimit": 2048000,
      "rowLimit": 10000
     },
     "inputWidgets": {},
     "nuid": "2665f472-941c-4516-bfd2-6756eac3a792",
     "showTitle": false,
     "tableResultSettingsMap": {},
     "title": ""
    }
   },
   "outputs": [
    {
     "output_type": "display_data",
     "data": {
      "text/html": [
       "<div>\n",
       "<style scoped>\n",
       "    .dataframe tbody tr th:only-of-type {\n",
       "        vertical-align: middle;\n",
       "    }\n",
       "\n",
       "    .dataframe tbody tr th {\n",
       "        vertical-align: top;\n",
       "    }\n",
       "\n",
       "    .dataframe thead th {\n",
       "        text-align: right;\n",
       "    }\n",
       "</style>\n",
       "<table border=\"1\" class=\"dataframe\">\n",
       "  <thead>\n",
       "    <tr style=\"text-align: right;\">\n",
       "      <th></th>\n",
       "      <th>mode</th>\n",
       "      <th>count</th>\n",
       "      <th>acousticness</th>\n",
       "      <th>artists</th>\n",
       "      <th>danceability</th>\n",
       "      <th>duration_ms</th>\n",
       "      <th>energy</th>\n",
       "      <th>instrumentalness</th>\n",
       "      <th>liveness</th>\n",
       "      <th>loudness</th>\n",
       "      <th>speechiness</th>\n",
       "      <th>tempo</th>\n",
       "      <th>valence</th>\n",
       "      <th>popularity</th>\n",
       "      <th>key</th>\n",
       "    </tr>\n",
       "  </thead>\n",
       "  <tbody>\n",
       "    <tr>\n",
       "      <th>0</th>\n",
       "      <td>1</td>\n",
       "      <td>9</td>\n",
       "      <td>0.590111</td>\n",
       "      <td>\"\"\"Cats\"\" 1981 Original London Cast\"</td>\n",
       "      <td>0.467222</td>\n",
       "      <td>250318.555556</td>\n",
       "      <td>0.394003</td>\n",
       "      <td>0.011400</td>\n",
       "      <td>0.290833</td>\n",
       "      <td>-14.448000</td>\n",
       "      <td>0.210389</td>\n",
       "      <td>117.518111</td>\n",
       "      <td>0.389500</td>\n",
       "      <td>38.333333</td>\n",
       "      <td>5</td>\n",
       "    </tr>\n",
       "    <tr>\n",
       "      <th>1</th>\n",
       "      <td>1</td>\n",
       "      <td>26</td>\n",
       "      <td>0.862538</td>\n",
       "      <td>\"\"\"Cats\"\" 1983 Broadway Cast\"</td>\n",
       "      <td>0.441731</td>\n",
       "      <td>287280.000000</td>\n",
       "      <td>0.406808</td>\n",
       "      <td>0.081158</td>\n",
       "      <td>0.315215</td>\n",
       "      <td>-10.690000</td>\n",
       "      <td>0.176212</td>\n",
       "      <td>103.044154</td>\n",
       "      <td>0.268865</td>\n",
       "      <td>30.576923</td>\n",
       "      <td>5</td>\n",
       "    </tr>\n",
       "    <tr>\n",
       "      <th>2</th>\n",
       "      <td>1</td>\n",
       "      <td>7</td>\n",
       "      <td>0.856571</td>\n",
       "      <td>\"\"\"Fiddler On The Roof” Motion Picture Chorus\"</td>\n",
       "      <td>0.348286</td>\n",
       "      <td>328920.000000</td>\n",
       "      <td>0.286571</td>\n",
       "      <td>0.024593</td>\n",
       "      <td>0.325786</td>\n",
       "      <td>-15.230714</td>\n",
       "      <td>0.118514</td>\n",
       "      <td>77.375857</td>\n",
       "      <td>0.354857</td>\n",
       "      <td>34.857143</td>\n",
       "      <td>0</td>\n",
       "    </tr>\n",
       "    <tr>\n",
       "      <th>3</th>\n",
       "      <td>1</td>\n",
       "      <td>27</td>\n",
       "      <td>0.884926</td>\n",
       "      <td>\"\"\"Fiddler On The Roof” Motion Picture Orchestra\"</td>\n",
       "      <td>0.425074</td>\n",
       "      <td>262890.962963</td>\n",
       "      <td>0.245770</td>\n",
       "      <td>0.073587</td>\n",
       "      <td>0.275481</td>\n",
       "      <td>-15.639370</td>\n",
       "      <td>0.123200</td>\n",
       "      <td>88.667630</td>\n",
       "      <td>0.372030</td>\n",
       "      <td>34.851852</td>\n",
       "      <td>0</td>\n",
       "    </tr>\n",
       "    <tr>\n",
       "      <th>4</th>\n",
       "      <td>1</td>\n",
       "      <td>7</td>\n",
       "      <td>0.510714</td>\n",
       "      <td>\"\"\"Joseph And The Amazing Technicolor Dreamcoa...</td>\n",
       "      <td>0.467143</td>\n",
       "      <td>270436.142857</td>\n",
       "      <td>0.488286</td>\n",
       "      <td>0.009400</td>\n",
       "      <td>0.195000</td>\n",
       "      <td>-10.236714</td>\n",
       "      <td>0.098543</td>\n",
       "      <td>122.835857</td>\n",
       "      <td>0.482286</td>\n",
       "      <td>43.000000</td>\n",
       "      <td>5</td>\n",
       "    </tr>\n",
       "  </tbody>\n",
       "</table>\n",
       "</div>"
      ]
     },
     "metadata": {
      "application/vnd.databricks.v1+output": {
       "addedWidgets": {},
       "arguments": {},
       "data": "<div>\n<style scoped>\n    .dataframe tbody tr th:only-of-type {\n        vertical-align: middle;\n    }\n\n    .dataframe tbody tr th {\n        vertical-align: top;\n    }\n\n    .dataframe thead th {\n        text-align: right;\n    }\n</style>\n<table border=\"1\" class=\"dataframe\">\n  <thead>\n    <tr style=\"text-align: right;\">\n      <th></th>\n      <th>mode</th>\n      <th>count</th>\n      <th>acousticness</th>\n      <th>artists</th>\n      <th>danceability</th>\n      <th>duration_ms</th>\n      <th>energy</th>\n      <th>instrumentalness</th>\n      <th>liveness</th>\n      <th>loudness</th>\n      <th>speechiness</th>\n      <th>tempo</th>\n      <th>valence</th>\n      <th>popularity</th>\n      <th>key</th>\n    </tr>\n  </thead>\n  <tbody>\n    <tr>\n      <th>0</th>\n      <td>1</td>\n      <td>9</td>\n      <td>0.590111</td>\n      <td>\"\"\"Cats\"\" 1981 Original London Cast\"</td>\n      <td>0.467222</td>\n      <td>250318.555556</td>\n      <td>0.394003</td>\n      <td>0.011400</td>\n      <td>0.290833</td>\n      <td>-14.448000</td>\n      <td>0.210389</td>\n      <td>117.518111</td>\n      <td>0.389500</td>\n      <td>38.333333</td>\n      <td>5</td>\n    </tr>\n    <tr>\n      <th>1</th>\n      <td>1</td>\n      <td>26</td>\n      <td>0.862538</td>\n      <td>\"\"\"Cats\"\" 1983 Broadway Cast\"</td>\n      <td>0.441731</td>\n      <td>287280.000000</td>\n      <td>0.406808</td>\n      <td>0.081158</td>\n      <td>0.315215</td>\n      <td>-10.690000</td>\n      <td>0.176212</td>\n      <td>103.044154</td>\n      <td>0.268865</td>\n      <td>30.576923</td>\n      <td>5</td>\n    </tr>\n    <tr>\n      <th>2</th>\n      <td>1</td>\n      <td>7</td>\n      <td>0.856571</td>\n      <td>\"\"\"Fiddler On The Roof” Motion Picture Chorus\"</td>\n      <td>0.348286</td>\n      <td>328920.000000</td>\n      <td>0.286571</td>\n      <td>0.024593</td>\n      <td>0.325786</td>\n      <td>-15.230714</td>\n      <td>0.118514</td>\n      <td>77.375857</td>\n      <td>0.354857</td>\n      <td>34.857143</td>\n      <td>0</td>\n    </tr>\n    <tr>\n      <th>3</th>\n      <td>1</td>\n      <td>27</td>\n      <td>0.884926</td>\n      <td>\"\"\"Fiddler On The Roof” Motion Picture Orchestra\"</td>\n      <td>0.425074</td>\n      <td>262890.962963</td>\n      <td>0.245770</td>\n      <td>0.073587</td>\n      <td>0.275481</td>\n      <td>-15.639370</td>\n      <td>0.123200</td>\n      <td>88.667630</td>\n      <td>0.372030</td>\n      <td>34.851852</td>\n      <td>0</td>\n    </tr>\n    <tr>\n      <th>4</th>\n      <td>1</td>\n      <td>7</td>\n      <td>0.510714</td>\n      <td>\"\"\"Joseph And The Amazing Technicolor Dreamcoa...</td>\n      <td>0.467143</td>\n      <td>270436.142857</td>\n      <td>0.488286</td>\n      <td>0.009400</td>\n      <td>0.195000</td>\n      <td>-10.236714</td>\n      <td>0.098543</td>\n      <td>122.835857</td>\n      <td>0.482286</td>\n      <td>43.000000</td>\n      <td>5</td>\n    </tr>\n  </tbody>\n</table>\n</div>",
       "datasetInfos": [],
       "metadata": {},
       "removedWidgets": [],
       "textData": null,
       "type": "htmlSandbox"
      }
     },
     "output_type": "display_data"
    }
   ],
   "source": [
    "df_artists.head()"
   ]
  },
  {
   "cell_type": "code",
   "execution_count": 0,
   "metadata": {
    "application/vnd.databricks.v1+cell": {
     "cellMetadata": {
      "byteLimit": 2048000,
      "rowLimit": 10000
     },
     "inputWidgets": {},
     "nuid": "5a3f68b0-2af2-4a71-b801-e71a957f7291",
     "showTitle": false,
     "tableResultSettingsMap": {},
     "title": ""
    }
   },
   "outputs": [],
   "source": [
    "df_artists['artists'] = df_artists.artists.str.replace('\"', '')"
   ]
  },
  {
   "cell_type": "code",
   "execution_count": 0,
   "metadata": {
    "application/vnd.databricks.v1+cell": {
     "cellMetadata": {
      "byteLimit": 2048000,
      "rowLimit": 10000
     },
     "inputWidgets": {},
     "nuid": "2c60943b-52ed-4562-b951-29e3f1a0ecc7",
     "showTitle": false,
     "tableResultSettingsMap": {},
     "title": ""
    }
   },
   "outputs": [],
   "source": [
    "artistas_ordenados = df_artists.sort_values(by='count', ascending=False)"
   ]
  },
  {
   "cell_type": "code",
   "execution_count": 0,
   "metadata": {
    "application/vnd.databricks.v1+cell": {
     "cellMetadata": {
      "byteLimit": 2048000,
      "rowLimit": 10000
     },
     "inputWidgets": {},
     "nuid": "2ba6f329-0ff4-46d0-87d8-12862c053ae3",
     "showTitle": false,
     "tableResultSettingsMap": {},
     "title": ""
    }
   },
   "outputs": [
    {
     "output_type": "display_data",
     "data": {
      "text/html": [
       "<div>\n",
       "<style scoped>\n",
       "    .dataframe tbody tr th:only-of-type {\n",
       "        vertical-align: middle;\n",
       "    }\n",
       "\n",
       "    .dataframe tbody tr th {\n",
       "        vertical-align: top;\n",
       "    }\n",
       "\n",
       "    .dataframe thead th {\n",
       "        text-align: right;\n",
       "    }\n",
       "</style>\n",
       "<table border=\"1\" class=\"dataframe\">\n",
       "  <thead>\n",
       "    <tr style=\"text-align: right;\">\n",
       "      <th></th>\n",
       "      <th>mode</th>\n",
       "      <th>count</th>\n",
       "      <th>acousticness</th>\n",
       "      <th>artists</th>\n",
       "      <th>danceability</th>\n",
       "      <th>duration_ms</th>\n",
       "      <th>energy</th>\n",
       "      <th>instrumentalness</th>\n",
       "      <th>liveness</th>\n",
       "      <th>loudness</th>\n",
       "      <th>speechiness</th>\n",
       "      <th>tempo</th>\n",
       "      <th>valence</th>\n",
       "      <th>popularity</th>\n",
       "      <th>key</th>\n",
       "    </tr>\n",
       "  </thead>\n",
       "  <tbody>\n",
       "    <tr>\n",
       "      <th>8367</th>\n",
       "      <td>1</td>\n",
       "      <td>3169</td>\n",
       "      <td>0.984282</td>\n",
       "      <td>Francisco Canaro</td>\n",
       "      <td>0.659676</td>\n",
       "      <td>176986.345850</td>\n",
       "      <td>0.287555</td>\n",
       "      <td>0.537988</td>\n",
       "      <td>0.199492</td>\n",
       "      <td>-12.043738</td>\n",
       "      <td>0.110533</td>\n",
       "      <td>122.743169</td>\n",
       "      <td>0.745212</td>\n",
       "      <td>0.061849</td>\n",
       "      <td>2</td>\n",
       "    </tr>\n",
       "    <tr>\n",
       "      <th>28561</th>\n",
       "      <td>1</td>\n",
       "      <td>2422</td>\n",
       "      <td>0.353916</td>\n",
       "      <td>Эрнест Хемингуэй</td>\n",
       "      <td>0.696773</td>\n",
       "      <td>115936.962015</td>\n",
       "      <td>0.188971</td>\n",
       "      <td>0.000027</td>\n",
       "      <td>0.373329</td>\n",
       "      <td>-18.237630</td>\n",
       "      <td>0.926229</td>\n",
       "      <td>111.847911</td>\n",
       "      <td>0.583885</td>\n",
       "      <td>0.066061</td>\n",
       "      <td>11</td>\n",
       "    </tr>\n",
       "    <tr>\n",
       "      <th>28560</th>\n",
       "      <td>1</td>\n",
       "      <td>2136</td>\n",
       "      <td>0.297365</td>\n",
       "      <td>Эрих Мария Ремарк</td>\n",
       "      <td>0.693738</td>\n",
       "      <td>121013.185393</td>\n",
       "      <td>0.200289</td>\n",
       "      <td>0.000230</td>\n",
       "      <td>0.195630</td>\n",
       "      <td>-19.259112</td>\n",
       "      <td>0.921277</td>\n",
       "      <td>110.717091</td>\n",
       "      <td>0.536381</td>\n",
       "      <td>0.000000</td>\n",
       "      <td>0</td>\n",
       "    </tr>\n",
       "    <tr>\n",
       "      <th>8434</th>\n",
       "      <td>1</td>\n",
       "      <td>1459</td>\n",
       "      <td>0.738865</td>\n",
       "      <td>Frank Sinatra</td>\n",
       "      <td>0.385232</td>\n",
       "      <td>189282.134339</td>\n",
       "      <td>0.236152</td>\n",
       "      <td>0.021148</td>\n",
       "      <td>0.230828</td>\n",
       "      <td>-14.335969</td>\n",
       "      <td>0.049029</td>\n",
       "      <td>109.394801</td>\n",
       "      <td>0.364991</td>\n",
       "      <td>28.658670</td>\n",
       "      <td>5</td>\n",
       "    </tr>\n",
       "    <tr>\n",
       "      <th>10714</th>\n",
       "      <td>1</td>\n",
       "      <td>1256</td>\n",
       "      <td>0.985169</td>\n",
       "      <td>Ignacio Corsini</td>\n",
       "      <td>0.545475</td>\n",
       "      <td>154560.711783</td>\n",
       "      <td>0.187842</td>\n",
       "      <td>0.425159</td>\n",
       "      <td>0.182707</td>\n",
       "      <td>-20.862591</td>\n",
       "      <td>0.121051</td>\n",
       "      <td>106.514583</td>\n",
       "      <td>0.638670</td>\n",
       "      <td>0.031847</td>\n",
       "      <td>5</td>\n",
       "    </tr>\n",
       "  </tbody>\n",
       "</table>\n",
       "</div>"
      ]
     },
     "metadata": {
      "application/vnd.databricks.v1+output": {
       "addedWidgets": {},
       "arguments": {},
       "data": "<div>\n<style scoped>\n    .dataframe tbody tr th:only-of-type {\n        vertical-align: middle;\n    }\n\n    .dataframe tbody tr th {\n        vertical-align: top;\n    }\n\n    .dataframe thead th {\n        text-align: right;\n    }\n</style>\n<table border=\"1\" class=\"dataframe\">\n  <thead>\n    <tr style=\"text-align: right;\">\n      <th></th>\n      <th>mode</th>\n      <th>count</th>\n      <th>acousticness</th>\n      <th>artists</th>\n      <th>danceability</th>\n      <th>duration_ms</th>\n      <th>energy</th>\n      <th>instrumentalness</th>\n      <th>liveness</th>\n      <th>loudness</th>\n      <th>speechiness</th>\n      <th>tempo</th>\n      <th>valence</th>\n      <th>popularity</th>\n      <th>key</th>\n    </tr>\n  </thead>\n  <tbody>\n    <tr>\n      <th>8367</th>\n      <td>1</td>\n      <td>3169</td>\n      <td>0.984282</td>\n      <td>Francisco Canaro</td>\n      <td>0.659676</td>\n      <td>176986.345850</td>\n      <td>0.287555</td>\n      <td>0.537988</td>\n      <td>0.199492</td>\n      <td>-12.043738</td>\n      <td>0.110533</td>\n      <td>122.743169</td>\n      <td>0.745212</td>\n      <td>0.061849</td>\n      <td>2</td>\n    </tr>\n    <tr>\n      <th>28561</th>\n      <td>1</td>\n      <td>2422</td>\n      <td>0.353916</td>\n      <td>Эрнест Хемингуэй</td>\n      <td>0.696773</td>\n      <td>115936.962015</td>\n      <td>0.188971</td>\n      <td>0.000027</td>\n      <td>0.373329</td>\n      <td>-18.237630</td>\n      <td>0.926229</td>\n      <td>111.847911</td>\n      <td>0.583885</td>\n      <td>0.066061</td>\n      <td>11</td>\n    </tr>\n    <tr>\n      <th>28560</th>\n      <td>1</td>\n      <td>2136</td>\n      <td>0.297365</td>\n      <td>Эрих Мария Ремарк</td>\n      <td>0.693738</td>\n      <td>121013.185393</td>\n      <td>0.200289</td>\n      <td>0.000230</td>\n      <td>0.195630</td>\n      <td>-19.259112</td>\n      <td>0.921277</td>\n      <td>110.717091</td>\n      <td>0.536381</td>\n      <td>0.000000</td>\n      <td>0</td>\n    </tr>\n    <tr>\n      <th>8434</th>\n      <td>1</td>\n      <td>1459</td>\n      <td>0.738865</td>\n      <td>Frank Sinatra</td>\n      <td>0.385232</td>\n      <td>189282.134339</td>\n      <td>0.236152</td>\n      <td>0.021148</td>\n      <td>0.230828</td>\n      <td>-14.335969</td>\n      <td>0.049029</td>\n      <td>109.394801</td>\n      <td>0.364991</td>\n      <td>28.658670</td>\n      <td>5</td>\n    </tr>\n    <tr>\n      <th>10714</th>\n      <td>1</td>\n      <td>1256</td>\n      <td>0.985169</td>\n      <td>Ignacio Corsini</td>\n      <td>0.545475</td>\n      <td>154560.711783</td>\n      <td>0.187842</td>\n      <td>0.425159</td>\n      <td>0.182707</td>\n      <td>-20.862591</td>\n      <td>0.121051</td>\n      <td>106.514583</td>\n      <td>0.638670</td>\n      <td>0.031847</td>\n      <td>5</td>\n    </tr>\n  </tbody>\n</table>\n</div>",
       "datasetInfos": [],
       "metadata": {},
       "removedWidgets": [],
       "textData": null,
       "type": "htmlSandbox"
      }
     },
     "output_type": "display_data"
    }
   ],
   "source": [
    "artistas_ordenados.head()"
   ]
  },
  {
   "cell_type": "code",
   "execution_count": 0,
   "metadata": {
    "application/vnd.databricks.v1+cell": {
     "cellMetadata": {
      "byteLimit": 2048000,
      "rowLimit": 10000
     },
     "inputWidgets": {},
     "nuid": "c215e42e-25a4-49a2-bba1-8e354543bca2",
     "showTitle": false,
     "tableResultSettingsMap": {},
     "title": ""
    }
   },
   "outputs": [],
   "source": [
    "top_artistas = artistas_ordenados.iloc[0:10]"
   ]
  },
  {
   "cell_type": "code",
   "execution_count": 0,
   "metadata": {
    "application/vnd.databricks.v1+cell": {
     "cellMetadata": {
      "byteLimit": 2048000,
      "rowLimit": 10000
     },
     "inputWidgets": {},
     "nuid": "17204832-74df-4e63-b175-f2eb89c25077",
     "showTitle": false,
     "tableResultSettingsMap": {},
     "title": ""
    }
   },
   "outputs": [
    {
     "output_type": "display_data",
     "data": {
      "text/html": [
       "<div>\n",
       "<style scoped>\n",
       "    .dataframe tbody tr th:only-of-type {\n",
       "        vertical-align: middle;\n",
       "    }\n",
       "\n",
       "    .dataframe tbody tr th {\n",
       "        vertical-align: top;\n",
       "    }\n",
       "\n",
       "    .dataframe thead th {\n",
       "        text-align: right;\n",
       "    }\n",
       "</style>\n",
       "<table border=\"1\" class=\"dataframe\">\n",
       "  <thead>\n",
       "    <tr style=\"text-align: right;\">\n",
       "      <th></th>\n",
       "      <th>mode</th>\n",
       "      <th>count</th>\n",
       "      <th>acousticness</th>\n",
       "      <th>artists</th>\n",
       "      <th>danceability</th>\n",
       "      <th>duration_ms</th>\n",
       "      <th>energy</th>\n",
       "      <th>instrumentalness</th>\n",
       "      <th>liveness</th>\n",
       "      <th>loudness</th>\n",
       "      <th>speechiness</th>\n",
       "      <th>tempo</th>\n",
       "      <th>valence</th>\n",
       "      <th>popularity</th>\n",
       "      <th>key</th>\n",
       "    </tr>\n",
       "  </thead>\n",
       "  <tbody>\n",
       "    <tr>\n",
       "      <th>8367</th>\n",
       "      <td>1</td>\n",
       "      <td>3169</td>\n",
       "      <td>0.984282</td>\n",
       "      <td>Francisco Canaro</td>\n",
       "      <td>0.659676</td>\n",
       "      <td>176986.345850</td>\n",
       "      <td>0.287555</td>\n",
       "      <td>0.537988</td>\n",
       "      <td>0.199492</td>\n",
       "      <td>-12.043738</td>\n",
       "      <td>0.110533</td>\n",
       "      <td>122.743169</td>\n",
       "      <td>0.745212</td>\n",
       "      <td>0.061849</td>\n",
       "      <td>2</td>\n",
       "    </tr>\n",
       "    <tr>\n",
       "      <th>28561</th>\n",
       "      <td>1</td>\n",
       "      <td>2422</td>\n",
       "      <td>0.353916</td>\n",
       "      <td>Эрнест Хемингуэй</td>\n",
       "      <td>0.696773</td>\n",
       "      <td>115936.962015</td>\n",
       "      <td>0.188971</td>\n",
       "      <td>0.000027</td>\n",
       "      <td>0.373329</td>\n",
       "      <td>-18.237630</td>\n",
       "      <td>0.926229</td>\n",
       "      <td>111.847911</td>\n",
       "      <td>0.583885</td>\n",
       "      <td>0.066061</td>\n",
       "      <td>11</td>\n",
       "    </tr>\n",
       "    <tr>\n",
       "      <th>28560</th>\n",
       "      <td>1</td>\n",
       "      <td>2136</td>\n",
       "      <td>0.297365</td>\n",
       "      <td>Эрих Мария Ремарк</td>\n",
       "      <td>0.693738</td>\n",
       "      <td>121013.185393</td>\n",
       "      <td>0.200289</td>\n",
       "      <td>0.000230</td>\n",
       "      <td>0.195630</td>\n",
       "      <td>-19.259112</td>\n",
       "      <td>0.921277</td>\n",
       "      <td>110.717091</td>\n",
       "      <td>0.536381</td>\n",
       "      <td>0.000000</td>\n",
       "      <td>0</td>\n",
       "    </tr>\n",
       "    <tr>\n",
       "      <th>8434</th>\n",
       "      <td>1</td>\n",
       "      <td>1459</td>\n",
       "      <td>0.738865</td>\n",
       "      <td>Frank Sinatra</td>\n",
       "      <td>0.385232</td>\n",
       "      <td>189282.134339</td>\n",
       "      <td>0.236152</td>\n",
       "      <td>0.021148</td>\n",
       "      <td>0.230828</td>\n",
       "      <td>-14.335969</td>\n",
       "      <td>0.049029</td>\n",
       "      <td>109.394801</td>\n",
       "      <td>0.364991</td>\n",
       "      <td>28.658670</td>\n",
       "      <td>5</td>\n",
       "    </tr>\n",
       "    <tr>\n",
       "      <th>10714</th>\n",
       "      <td>1</td>\n",
       "      <td>1256</td>\n",
       "      <td>0.985169</td>\n",
       "      <td>Ignacio Corsini</td>\n",
       "      <td>0.545475</td>\n",
       "      <td>154560.711783</td>\n",
       "      <td>0.187842</td>\n",
       "      <td>0.425159</td>\n",
       "      <td>0.182707</td>\n",
       "      <td>-20.862591</td>\n",
       "      <td>0.121051</td>\n",
       "      <td>106.514583</td>\n",
       "      <td>0.638670</td>\n",
       "      <td>0.031847</td>\n",
       "      <td>5</td>\n",
       "    </tr>\n",
       "    <tr>\n",
       "      <th>27109</th>\n",
       "      <td>1</td>\n",
       "      <td>1200</td>\n",
       "      <td>0.990092</td>\n",
       "      <td>Vladimir Horowitz</td>\n",
       "      <td>0.343624</td>\n",
       "      <td>266650.370833</td>\n",
       "      <td>0.118341</td>\n",
       "      <td>0.879898</td>\n",
       "      <td>0.182788</td>\n",
       "      <td>-23.190868</td>\n",
       "      <td>0.043228</td>\n",
       "      <td>94.845258</td>\n",
       "      <td>0.224994</td>\n",
       "      <td>3.694167</td>\n",
       "      <td>1</td>\n",
       "    </tr>\n",
       "    <tr>\n",
       "      <th>1682</th>\n",
       "      <td>1</td>\n",
       "      <td>1146</td>\n",
       "      <td>0.917843</td>\n",
       "      <td>Arturo Toscanini</td>\n",
       "      <td>0.315980</td>\n",
       "      <td>309308.737347</td>\n",
       "      <td>0.203463</td>\n",
       "      <td>0.474637</td>\n",
       "      <td>0.280793</td>\n",
       "      <td>-17.185234</td>\n",
       "      <td>0.058348</td>\n",
       "      <td>102.235789</td>\n",
       "      <td>0.283423</td>\n",
       "      <td>0.240838</td>\n",
       "      <td>0</td>\n",
       "    </tr>\n",
       "    <tr>\n",
       "      <th>2707</th>\n",
       "      <td>1</td>\n",
       "      <td>1103</td>\n",
       "      <td>0.908776</td>\n",
       "      <td>Billie Holiday</td>\n",
       "      <td>0.571550</td>\n",
       "      <td>185677.068903</td>\n",
       "      <td>0.202251</td>\n",
       "      <td>0.013111</td>\n",
       "      <td>0.217323</td>\n",
       "      <td>-13.221339</td>\n",
       "      <td>0.062274</td>\n",
       "      <td>109.883821</td>\n",
       "      <td>0.498693</td>\n",
       "      <td>16.780598</td>\n",
       "      <td>5</td>\n",
       "    </tr>\n",
       "    <tr>\n",
       "      <th>12378</th>\n",
       "      <td>1</td>\n",
       "      <td>1061</td>\n",
       "      <td>0.688296</td>\n",
       "      <td>Johnny Cash</td>\n",
       "      <td>0.620759</td>\n",
       "      <td>164491.506126</td>\n",
       "      <td>0.443462</td>\n",
       "      <td>0.017630</td>\n",
       "      <td>0.239843</td>\n",
       "      <td>-11.663137</td>\n",
       "      <td>0.095992</td>\n",
       "      <td>114.508436</td>\n",
       "      <td>0.672277</td>\n",
       "      <td>26.914232</td>\n",
       "      <td>10</td>\n",
       "    </tr>\n",
       "    <tr>\n",
       "      <th>7426</th>\n",
       "      <td>1</td>\n",
       "      <td>1023</td>\n",
       "      <td>0.738890</td>\n",
       "      <td>Elvis Presley</td>\n",
       "      <td>0.493966</td>\n",
       "      <td>157592.318671</td>\n",
       "      <td>0.424834</td>\n",
       "      <td>0.053483</td>\n",
       "      <td>0.245853</td>\n",
       "      <td>-12.921860</td>\n",
       "      <td>0.057361</td>\n",
       "      <td>112.397270</td>\n",
       "      <td>0.617856</td>\n",
       "      <td>34.019550</td>\n",
       "      <td>0</td>\n",
       "    </tr>\n",
       "  </tbody>\n",
       "</table>\n",
       "</div>"
      ]
     },
     "metadata": {
      "application/vnd.databricks.v1+output": {
       "addedWidgets": {},
       "arguments": {},
       "data": "<div>\n<style scoped>\n    .dataframe tbody tr th:only-of-type {\n        vertical-align: middle;\n    }\n\n    .dataframe tbody tr th {\n        vertical-align: top;\n    }\n\n    .dataframe thead th {\n        text-align: right;\n    }\n</style>\n<table border=\"1\" class=\"dataframe\">\n  <thead>\n    <tr style=\"text-align: right;\">\n      <th></th>\n      <th>mode</th>\n      <th>count</th>\n      <th>acousticness</th>\n      <th>artists</th>\n      <th>danceability</th>\n      <th>duration_ms</th>\n      <th>energy</th>\n      <th>instrumentalness</th>\n      <th>liveness</th>\n      <th>loudness</th>\n      <th>speechiness</th>\n      <th>tempo</th>\n      <th>valence</th>\n      <th>popularity</th>\n      <th>key</th>\n    </tr>\n  </thead>\n  <tbody>\n    <tr>\n      <th>8367</th>\n      <td>1</td>\n      <td>3169</td>\n      <td>0.984282</td>\n      <td>Francisco Canaro</td>\n      <td>0.659676</td>\n      <td>176986.345850</td>\n      <td>0.287555</td>\n      <td>0.537988</td>\n      <td>0.199492</td>\n      <td>-12.043738</td>\n      <td>0.110533</td>\n      <td>122.743169</td>\n      <td>0.745212</td>\n      <td>0.061849</td>\n      <td>2</td>\n    </tr>\n    <tr>\n      <th>28561</th>\n      <td>1</td>\n      <td>2422</td>\n      <td>0.353916</td>\n      <td>Эрнест Хемингуэй</td>\n      <td>0.696773</td>\n      <td>115936.962015</td>\n      <td>0.188971</td>\n      <td>0.000027</td>\n      <td>0.373329</td>\n      <td>-18.237630</td>\n      <td>0.926229</td>\n      <td>111.847911</td>\n      <td>0.583885</td>\n      <td>0.066061</td>\n      <td>11</td>\n    </tr>\n    <tr>\n      <th>28560</th>\n      <td>1</td>\n      <td>2136</td>\n      <td>0.297365</td>\n      <td>Эрих Мария Ремарк</td>\n      <td>0.693738</td>\n      <td>121013.185393</td>\n      <td>0.200289</td>\n      <td>0.000230</td>\n      <td>0.195630</td>\n      <td>-19.259112</td>\n      <td>0.921277</td>\n      <td>110.717091</td>\n      <td>0.536381</td>\n      <td>0.000000</td>\n      <td>0</td>\n    </tr>\n    <tr>\n      <th>8434</th>\n      <td>1</td>\n      <td>1459</td>\n      <td>0.738865</td>\n      <td>Frank Sinatra</td>\n      <td>0.385232</td>\n      <td>189282.134339</td>\n      <td>0.236152</td>\n      <td>0.021148</td>\n      <td>0.230828</td>\n      <td>-14.335969</td>\n      <td>0.049029</td>\n      <td>109.394801</td>\n      <td>0.364991</td>\n      <td>28.658670</td>\n      <td>5</td>\n    </tr>\n    <tr>\n      <th>10714</th>\n      <td>1</td>\n      <td>1256</td>\n      <td>0.985169</td>\n      <td>Ignacio Corsini</td>\n      <td>0.545475</td>\n      <td>154560.711783</td>\n      <td>0.187842</td>\n      <td>0.425159</td>\n      <td>0.182707</td>\n      <td>-20.862591</td>\n      <td>0.121051</td>\n      <td>106.514583</td>\n      <td>0.638670</td>\n      <td>0.031847</td>\n      <td>5</td>\n    </tr>\n    <tr>\n      <th>27109</th>\n      <td>1</td>\n      <td>1200</td>\n      <td>0.990092</td>\n      <td>Vladimir Horowitz</td>\n      <td>0.343624</td>\n      <td>266650.370833</td>\n      <td>0.118341</td>\n      <td>0.879898</td>\n      <td>0.182788</td>\n      <td>-23.190868</td>\n      <td>0.043228</td>\n      <td>94.845258</td>\n      <td>0.224994</td>\n      <td>3.694167</td>\n      <td>1</td>\n    </tr>\n    <tr>\n      <th>1682</th>\n      <td>1</td>\n      <td>1146</td>\n      <td>0.917843</td>\n      <td>Arturo Toscanini</td>\n      <td>0.315980</td>\n      <td>309308.737347</td>\n      <td>0.203463</td>\n      <td>0.474637</td>\n      <td>0.280793</td>\n      <td>-17.185234</td>\n      <td>0.058348</td>\n      <td>102.235789</td>\n      <td>0.283423</td>\n      <td>0.240838</td>\n      <td>0</td>\n    </tr>\n    <tr>\n      <th>2707</th>\n      <td>1</td>\n      <td>1103</td>\n      <td>0.908776</td>\n      <td>Billie Holiday</td>\n      <td>0.571550</td>\n      <td>185677.068903</td>\n      <td>0.202251</td>\n      <td>0.013111</td>\n      <td>0.217323</td>\n      <td>-13.221339</td>\n      <td>0.062274</td>\n      <td>109.883821</td>\n      <td>0.498693</td>\n      <td>16.780598</td>\n      <td>5</td>\n    </tr>\n    <tr>\n      <th>12378</th>\n      <td>1</td>\n      <td>1061</td>\n      <td>0.688296</td>\n      <td>Johnny Cash</td>\n      <td>0.620759</td>\n      <td>164491.506126</td>\n      <td>0.443462</td>\n      <td>0.017630</td>\n      <td>0.239843</td>\n      <td>-11.663137</td>\n      <td>0.095992</td>\n      <td>114.508436</td>\n      <td>0.672277</td>\n      <td>26.914232</td>\n      <td>10</td>\n    </tr>\n    <tr>\n      <th>7426</th>\n      <td>1</td>\n      <td>1023</td>\n      <td>0.738890</td>\n      <td>Elvis Presley</td>\n      <td>0.493966</td>\n      <td>157592.318671</td>\n      <td>0.424834</td>\n      <td>0.053483</td>\n      <td>0.245853</td>\n      <td>-12.921860</td>\n      <td>0.057361</td>\n      <td>112.397270</td>\n      <td>0.617856</td>\n      <td>34.019550</td>\n      <td>0</td>\n    </tr>\n  </tbody>\n</table>\n</div>",
       "datasetInfos": [],
       "metadata": {},
       "removedWidgets": [],
       "textData": null,
       "type": "htmlSandbox"
      }
     },
     "output_type": "display_data"
    }
   ],
   "source": [
    "top_artistas"
   ]
  },
  {
   "cell_type": "code",
   "execution_count": 0,
   "metadata": {
    "application/vnd.databricks.v1+cell": {
     "cellMetadata": {
      "byteLimit": 2048000,
      "rowLimit": 10000
     },
     "inputWidgets": {},
     "nuid": "23ab11ec-b613-4b2d-8722-ab70b869877a",
     "showTitle": false,
     "tableResultSettingsMap": {},
     "title": ""
    }
   },
   "outputs": [
    {
     "output_type": "display_data",
     "data": {
      "text/html": [
       "<html>\n",
       "<head><meta charset=\"utf-8\" /></head>\n",
       "<body>\n",
       "    <div>            <script src=\"https://cdnjs.cloudflare.com/ajax/libs/mathjax/2.7.5/MathJax.js?config=TeX-AMS-MML_SVG\"></script><script type=\"text/javascript\">if (window.MathJax) {MathJax.Hub.Config({SVG: {font: \"STIX-Web\"}});}</script>                <script type=\"text/javascript\">window.PlotlyConfig = {MathJaxConfig: 'local'};</script>\n",
       "        <script src=\"https://cdn.plot.ly/plotly-2.9.0.min.js\"></script>                <div id=\"744b510b-5bcb-4524-8055-340bb37a09cc\" class=\"plotly-graph-div\" style=\"height:100%; width:100%;\"></div>            <script type=\"text/javascript\">                                    window.PLOTLYENV=window.PLOTLYENV || {};                                    if (document.getElementById(\"744b510b-5bcb-4524-8055-340bb37a09cc\")) {                    Plotly.newPlot(                        \"744b510b-5bcb-4524-8055-340bb37a09cc\",                        [{\"alignmentgroup\":\"True\",\"hovertemplate\":\"count=%{x}<br>artists=%{y}<extra></extra>\",\"legendgroup\":\"\",\"marker\":{\"color\":\"#636efa\",\"pattern\":{\"shape\":\"\"}},\"name\":\"\",\"offsetgroup\":\"\",\"orientation\":\"h\",\"showlegend\":false,\"textposition\":\"auto\",\"x\":[3169,2422,2136,1459,1256,1200,1146,1103,1061,1023],\"xaxis\":\"x\",\"y\":[\"Francisco Canaro\",\"\\u042d\\u0440\\u043d\\u0435\\u0441\\u0442 \\u0425\\u0435\\u043c\\u0438\\u043d\\u0433\\u0443\\u044d\\u0439\",\"\\u042d\\u0440\\u0438\\u0445 \\u041c\\u0430\\u0440\\u0438\\u044f \\u0420\\u0435\\u043c\\u0430\\u0440\\u043a\",\"Frank Sinatra\",\"Ignacio Corsini\",\"Vladimir Horowitz\",\"Arturo Toscanini\",\"Billie Holiday\",\"Johnny Cash\",\"Elvis Presley\"],\"yaxis\":\"y\",\"type\":\"bar\"}],                        {\"template\":{\"data\":{\"bar\":[{\"error_x\":{\"color\":\"#2a3f5f\"},\"error_y\":{\"color\":\"#2a3f5f\"},\"marker\":{\"line\":{\"color\":\"#E5ECF6\",\"width\":0.5},\"pattern\":{\"fillmode\":\"overlay\",\"size\":10,\"solidity\":0.2}},\"type\":\"bar\"}],\"barpolar\":[{\"marker\":{\"line\":{\"color\":\"#E5ECF6\",\"width\":0.5},\"pattern\":{\"fillmode\":\"overlay\",\"size\":10,\"solidity\":0.2}},\"type\":\"barpolar\"}],\"carpet\":[{\"aaxis\":{\"endlinecolor\":\"#2a3f5f\",\"gridcolor\":\"white\",\"linecolor\":\"white\",\"minorgridcolor\":\"white\",\"startlinecolor\":\"#2a3f5f\"},\"baxis\":{\"endlinecolor\":\"#2a3f5f\",\"gridcolor\":\"white\",\"linecolor\":\"white\",\"minorgridcolor\":\"white\",\"startlinecolor\":\"#2a3f5f\"},\"type\":\"carpet\"}],\"choropleth\":[{\"colorbar\":{\"outlinewidth\":0,\"ticks\":\"\"},\"type\":\"choropleth\"}],\"contour\":[{\"colorbar\":{\"outlinewidth\":0,\"ticks\":\"\"},\"colorscale\":[[0.0,\"#0d0887\"],[0.1111111111111111,\"#46039f\"],[0.2222222222222222,\"#7201a8\"],[0.3333333333333333,\"#9c179e\"],[0.4444444444444444,\"#bd3786\"],[0.5555555555555556,\"#d8576b\"],[0.6666666666666666,\"#ed7953\"],[0.7777777777777778,\"#fb9f3a\"],[0.8888888888888888,\"#fdca26\"],[1.0,\"#f0f921\"]],\"type\":\"contour\"}],\"contourcarpet\":[{\"colorbar\":{\"outlinewidth\":0,\"ticks\":\"\"},\"type\":\"contourcarpet\"}],\"heatmap\":[{\"colorbar\":{\"outlinewidth\":0,\"ticks\":\"\"},\"colorscale\":[[0.0,\"#0d0887\"],[0.1111111111111111,\"#46039f\"],[0.2222222222222222,\"#7201a8\"],[0.3333333333333333,\"#9c179e\"],[0.4444444444444444,\"#bd3786\"],[0.5555555555555556,\"#d8576b\"],[0.6666666666666666,\"#ed7953\"],[0.7777777777777778,\"#fb9f3a\"],[0.8888888888888888,\"#fdca26\"],[1.0,\"#f0f921\"]],\"type\":\"heatmap\"}],\"heatmapgl\":[{\"colorbar\":{\"outlinewidth\":0,\"ticks\":\"\"},\"colorscale\":[[0.0,\"#0d0887\"],[0.1111111111111111,\"#46039f\"],[0.2222222222222222,\"#7201a8\"],[0.3333333333333333,\"#9c179e\"],[0.4444444444444444,\"#bd3786\"],[0.5555555555555556,\"#d8576b\"],[0.6666666666666666,\"#ed7953\"],[0.7777777777777778,\"#fb9f3a\"],[0.8888888888888888,\"#fdca26\"],[1.0,\"#f0f921\"]],\"type\":\"heatmapgl\"}],\"histogram\":[{\"marker\":{\"pattern\":{\"fillmode\":\"overlay\",\"size\":10,\"solidity\":0.2}},\"type\":\"histogram\"}],\"histogram2d\":[{\"colorbar\":{\"outlinewidth\":0,\"ticks\":\"\"},\"colorscale\":[[0.0,\"#0d0887\"],[0.1111111111111111,\"#46039f\"],[0.2222222222222222,\"#7201a8\"],[0.3333333333333333,\"#9c179e\"],[0.4444444444444444,\"#bd3786\"],[0.5555555555555556,\"#d8576b\"],[0.6666666666666666,\"#ed7953\"],[0.7777777777777778,\"#fb9f3a\"],[0.8888888888888888,\"#fdca26\"],[1.0,\"#f0f921\"]],\"type\":\"histogram2d\"}],\"histogram2dcontour\":[{\"colorbar\":{\"outlinewidth\":0,\"ticks\":\"\"},\"colorscale\":[[0.0,\"#0d0887\"],[0.1111111111111111,\"#46039f\"],[0.2222222222222222,\"#7201a8\"],[0.3333333333333333,\"#9c179e\"],[0.4444444444444444,\"#bd3786\"],[0.5555555555555556,\"#d8576b\"],[0.6666666666666666,\"#ed7953\"],[0.7777777777777778,\"#fb9f3a\"],[0.8888888888888888,\"#fdca26\"],[1.0,\"#f0f921\"]],\"type\":\"histogram2dcontour\"}],\"mesh3d\":[{\"colorbar\":{\"outlinewidth\":0,\"ticks\":\"\"},\"type\":\"mesh3d\"}],\"parcoords\":[{\"line\":{\"colorbar\":{\"outlinewidth\":0,\"ticks\":\"\"}},\"type\":\"parcoords\"}],\"pie\":[{\"automargin\":true,\"type\":\"pie\"}],\"scatter\":[{\"marker\":{\"colorbar\":{\"outlinewidth\":0,\"ticks\":\"\"}},\"type\":\"scatter\"}],\"scatter3d\":[{\"line\":{\"colorbar\":{\"outlinewidth\":0,\"ticks\":\"\"}},\"marker\":{\"colorbar\":{\"outlinewidth\":0,\"ticks\":\"\"}},\"type\":\"scatter3d\"}],\"scattercarpet\":[{\"marker\":{\"colorbar\":{\"outlinewidth\":0,\"ticks\":\"\"}},\"type\":\"scattercarpet\"}],\"scattergeo\":[{\"marker\":{\"colorbar\":{\"outlinewidth\":0,\"ticks\":\"\"}},\"type\":\"scattergeo\"}],\"scattergl\":[{\"marker\":{\"colorbar\":{\"outlinewidth\":0,\"ticks\":\"\"}},\"type\":\"scattergl\"}],\"scattermapbox\":[{\"marker\":{\"colorbar\":{\"outlinewidth\":0,\"ticks\":\"\"}},\"type\":\"scattermapbox\"}],\"scatterpolar\":[{\"marker\":{\"colorbar\":{\"outlinewidth\":0,\"ticks\":\"\"}},\"type\":\"scatterpolar\"}],\"scatterpolargl\":[{\"marker\":{\"colorbar\":{\"outlinewidth\":0,\"ticks\":\"\"}},\"type\":\"scatterpolargl\"}],\"scatterternary\":[{\"marker\":{\"colorbar\":{\"outlinewidth\":0,\"ticks\":\"\"}},\"type\":\"scatterternary\"}],\"surface\":[{\"colorbar\":{\"outlinewidth\":0,\"ticks\":\"\"},\"colorscale\":[[0.0,\"#0d0887\"],[0.1111111111111111,\"#46039f\"],[0.2222222222222222,\"#7201a8\"],[0.3333333333333333,\"#9c179e\"],[0.4444444444444444,\"#bd3786\"],[0.5555555555555556,\"#d8576b\"],[0.6666666666666666,\"#ed7953\"],[0.7777777777777778,\"#fb9f3a\"],[0.8888888888888888,\"#fdca26\"],[1.0,\"#f0f921\"]],\"type\":\"surface\"}],\"table\":[{\"cells\":{\"fill\":{\"color\":\"#EBF0F8\"},\"line\":{\"color\":\"white\"}},\"header\":{\"fill\":{\"color\":\"#C8D4E3\"},\"line\":{\"color\":\"white\"}},\"type\":\"table\"}]},\"layout\":{\"annotationdefaults\":{\"arrowcolor\":\"#2a3f5f\",\"arrowhead\":0,\"arrowwidth\":1},\"autotypenumbers\":\"strict\",\"coloraxis\":{\"colorbar\":{\"outlinewidth\":0,\"ticks\":\"\"}},\"colorscale\":{\"diverging\":[[0,\"#8e0152\"],[0.1,\"#c51b7d\"],[0.2,\"#de77ae\"],[0.3,\"#f1b6da\"],[0.4,\"#fde0ef\"],[0.5,\"#f7f7f7\"],[0.6,\"#e6f5d0\"],[0.7,\"#b8e186\"],[0.8,\"#7fbc41\"],[0.9,\"#4d9221\"],[1,\"#276419\"]],\"sequential\":[[0.0,\"#0d0887\"],[0.1111111111111111,\"#46039f\"],[0.2222222222222222,\"#7201a8\"],[0.3333333333333333,\"#9c179e\"],[0.4444444444444444,\"#bd3786\"],[0.5555555555555556,\"#d8576b\"],[0.6666666666666666,\"#ed7953\"],[0.7777777777777778,\"#fb9f3a\"],[0.8888888888888888,\"#fdca26\"],[1.0,\"#f0f921\"]],\"sequentialminus\":[[0.0,\"#0d0887\"],[0.1111111111111111,\"#46039f\"],[0.2222222222222222,\"#7201a8\"],[0.3333333333333333,\"#9c179e\"],[0.4444444444444444,\"#bd3786\"],[0.5555555555555556,\"#d8576b\"],[0.6666666666666666,\"#ed7953\"],[0.7777777777777778,\"#fb9f3a\"],[0.8888888888888888,\"#fdca26\"],[1.0,\"#f0f921\"]]},\"colorway\":[\"#636efa\",\"#EF553B\",\"#00cc96\",\"#ab63fa\",\"#FFA15A\",\"#19d3f3\",\"#FF6692\",\"#B6E880\",\"#FF97FF\",\"#FECB52\"],\"font\":{\"color\":\"#2a3f5f\"},\"geo\":{\"bgcolor\":\"white\",\"lakecolor\":\"white\",\"landcolor\":\"#E5ECF6\",\"showlakes\":true,\"showland\":true,\"subunitcolor\":\"white\"},\"hoverlabel\":{\"align\":\"left\"},\"hovermode\":\"closest\",\"mapbox\":{\"style\":\"light\"},\"paper_bgcolor\":\"white\",\"plot_bgcolor\":\"#E5ECF6\",\"polar\":{\"angularaxis\":{\"gridcolor\":\"white\",\"linecolor\":\"white\",\"ticks\":\"\"},\"bgcolor\":\"#E5ECF6\",\"radialaxis\":{\"gridcolor\":\"white\",\"linecolor\":\"white\",\"ticks\":\"\"}},\"scene\":{\"xaxis\":{\"backgroundcolor\":\"#E5ECF6\",\"gridcolor\":\"white\",\"gridwidth\":2,\"linecolor\":\"white\",\"showbackground\":true,\"ticks\":\"\",\"zerolinecolor\":\"white\"},\"yaxis\":{\"backgroundcolor\":\"#E5ECF6\",\"gridcolor\":\"white\",\"gridwidth\":2,\"linecolor\":\"white\",\"showbackground\":true,\"ticks\":\"\",\"zerolinecolor\":\"white\"},\"zaxis\":{\"backgroundcolor\":\"#E5ECF6\",\"gridcolor\":\"white\",\"gridwidth\":2,\"linecolor\":\"white\",\"showbackground\":true,\"ticks\":\"\",\"zerolinecolor\":\"white\"}},\"shapedefaults\":{\"line\":{\"color\":\"#2a3f5f\"}},\"ternary\":{\"aaxis\":{\"gridcolor\":\"white\",\"linecolor\":\"white\",\"ticks\":\"\"},\"baxis\":{\"gridcolor\":\"white\",\"linecolor\":\"white\",\"ticks\":\"\"},\"bgcolor\":\"#E5ECF6\",\"caxis\":{\"gridcolor\":\"white\",\"linecolor\":\"white\",\"ticks\":\"\"}},\"title\":{\"x\":0.05},\"xaxis\":{\"automargin\":true,\"gridcolor\":\"white\",\"linecolor\":\"white\",\"ticks\":\"\",\"title\":{\"standoff\":15},\"zerolinecolor\":\"white\",\"zerolinewidth\":2},\"yaxis\":{\"automargin\":true,\"gridcolor\":\"white\",\"linecolor\":\"white\",\"ticks\":\"\",\"title\":{\"standoff\":15},\"zerolinecolor\":\"white\",\"zerolinewidth\":2}}},\"xaxis\":{\"anchor\":\"y\",\"domain\":[0.0,1.0],\"title\":{\"text\":\"count\"}},\"yaxis\":{\"anchor\":\"x\",\"domain\":[0.0,1.0],\"title\":{\"text\":\"artists\"}},\"legend\":{\"tracegroupgap\":0},\"title\":{\"text\":\"TOP 10 artistas\"},\"barmode\":\"relative\"},                        {\"responsive\": true}                    )                };                            </script>        </div>\n",
       "</body>\n",
       "</html>"
      ]
     },
     "metadata": {
      "application/vnd.databricks.v1+output": {
       "addedWidgets": {},
       "arguments": {},
       "data": "<html>\n<head><meta charset=\"utf-8\" /></head>\n<body>\n    <div>            <script src=\"https://cdnjs.cloudflare.com/ajax/libs/mathjax/2.7.5/MathJax.js?config=TeX-AMS-MML_SVG\"></script><script type=\"text/javascript\">if (window.MathJax) {MathJax.Hub.Config({SVG: {font: \"STIX-Web\"}});}</script>                <script type=\"text/javascript\">window.PlotlyConfig = {MathJaxConfig: 'local'};</script>\n        <script src=\"https://cdn.plot.ly/plotly-2.9.0.min.js\"></script>                <div id=\"744b510b-5bcb-4524-8055-340bb37a09cc\" class=\"plotly-graph-div\" style=\"height:100%; width:100%;\"></div>            <script type=\"text/javascript\">                                    window.PLOTLYENV=window.PLOTLYENV || {};                                    if (document.getElementById(\"744b510b-5bcb-4524-8055-340bb37a09cc\")) {                    Plotly.newPlot(                        \"744b510b-5bcb-4524-8055-340bb37a09cc\",                        [{\"alignmentgroup\":\"True\",\"hovertemplate\":\"count=%{x}<br>artists=%{y}<extra></extra>\",\"legendgroup\":\"\",\"marker\":{\"color\":\"#636efa\",\"pattern\":{\"shape\":\"\"}},\"name\":\"\",\"offsetgroup\":\"\",\"orientation\":\"h\",\"showlegend\":false,\"textposition\":\"auto\",\"x\":[3169,2422,2136,1459,1256,1200,1146,1103,1061,1023],\"xaxis\":\"x\",\"y\":[\"Francisco Canaro\",\"\\u042d\\u0440\\u043d\\u0435\\u0441\\u0442 \\u0425\\u0435\\u043c\\u0438\\u043d\\u0433\\u0443\\u044d\\u0439\",\"\\u042d\\u0440\\u0438\\u0445 \\u041c\\u0430\\u0440\\u0438\\u044f \\u0420\\u0435\\u043c\\u0430\\u0440\\u043a\",\"Frank Sinatra\",\"Ignacio Corsini\",\"Vladimir Horowitz\",\"Arturo Toscanini\",\"Billie Holiday\",\"Johnny Cash\",\"Elvis Presley\"],\"yaxis\":\"y\",\"type\":\"bar\"}],                        {\"template\":{\"data\":{\"bar\":[{\"error_x\":{\"color\":\"#2a3f5f\"},\"error_y\":{\"color\":\"#2a3f5f\"},\"marker\":{\"line\":{\"color\":\"#E5ECF6\",\"width\":0.5},\"pattern\":{\"fillmode\":\"overlay\",\"size\":10,\"solidity\":0.2}},\"type\":\"bar\"}],\"barpolar\":[{\"marker\":{\"line\":{\"color\":\"#E5ECF6\",\"width\":0.5},\"pattern\":{\"fillmode\":\"overlay\",\"size\":10,\"solidity\":0.2}},\"type\":\"barpolar\"}],\"carpet\":[{\"aaxis\":{\"endlinecolor\":\"#2a3f5f\",\"gridcolor\":\"white\",\"linecolor\":\"white\",\"minorgridcolor\":\"white\",\"startlinecolor\":\"#2a3f5f\"},\"baxis\":{\"endlinecolor\":\"#2a3f5f\",\"gridcolor\":\"white\",\"linecolor\":\"white\",\"minorgridcolor\":\"white\",\"startlinecolor\":\"#2a3f5f\"},\"type\":\"carpet\"}],\"choropleth\":[{\"colorbar\":{\"outlinewidth\":0,\"ticks\":\"\"},\"type\":\"choropleth\"}],\"contour\":[{\"colorbar\":{\"outlinewidth\":0,\"ticks\":\"\"},\"colorscale\":[[0.0,\"#0d0887\"],[0.1111111111111111,\"#46039f\"],[0.2222222222222222,\"#7201a8\"],[0.3333333333333333,\"#9c179e\"],[0.4444444444444444,\"#bd3786\"],[0.5555555555555556,\"#d8576b\"],[0.6666666666666666,\"#ed7953\"],[0.7777777777777778,\"#fb9f3a\"],[0.8888888888888888,\"#fdca26\"],[1.0,\"#f0f921\"]],\"type\":\"contour\"}],\"contourcarpet\":[{\"colorbar\":{\"outlinewidth\":0,\"ticks\":\"\"},\"type\":\"contourcarpet\"}],\"heatmap\":[{\"colorbar\":{\"outlinewidth\":0,\"ticks\":\"\"},\"colorscale\":[[0.0,\"#0d0887\"],[0.1111111111111111,\"#46039f\"],[0.2222222222222222,\"#7201a8\"],[0.3333333333333333,\"#9c179e\"],[0.4444444444444444,\"#bd3786\"],[0.5555555555555556,\"#d8576b\"],[0.6666666666666666,\"#ed7953\"],[0.7777777777777778,\"#fb9f3a\"],[0.8888888888888888,\"#fdca26\"],[1.0,\"#f0f921\"]],\"type\":\"heatmap\"}],\"heatmapgl\":[{\"colorbar\":{\"outlinewidth\":0,\"ticks\":\"\"},\"colorscale\":[[0.0,\"#0d0887\"],[0.1111111111111111,\"#46039f\"],[0.2222222222222222,\"#7201a8\"],[0.3333333333333333,\"#9c179e\"],[0.4444444444444444,\"#bd3786\"],[0.5555555555555556,\"#d8576b\"],[0.6666666666666666,\"#ed7953\"],[0.7777777777777778,\"#fb9f3a\"],[0.8888888888888888,\"#fdca26\"],[1.0,\"#f0f921\"]],\"type\":\"heatmapgl\"}],\"histogram\":[{\"marker\":{\"pattern\":{\"fillmode\":\"overlay\",\"size\":10,\"solidity\":0.2}},\"type\":\"histogram\"}],\"histogram2d\":[{\"colorbar\":{\"outlinewidth\":0,\"ticks\":\"\"},\"colorscale\":[[0.0,\"#0d0887\"],[0.1111111111111111,\"#46039f\"],[0.2222222222222222,\"#7201a8\"],[0.3333333333333333,\"#9c179e\"],[0.4444444444444444,\"#bd3786\"],[0.5555555555555556,\"#d8576b\"],[0.6666666666666666,\"#ed7953\"],[0.7777777777777778,\"#fb9f3a\"],[0.8888888888888888,\"#fdca26\"],[1.0,\"#f0f921\"]],\"type\":\"histogram2d\"}],\"histogram2dcontour\":[{\"colorbar\":{\"outlinewidth\":0,\"ticks\":\"\"},\"colorscale\":[[0.0,\"#0d0887\"],[0.1111111111111111,\"#46039f\"],[0.2222222222222222,\"#7201a8\"],[0.3333333333333333,\"#9c179e\"],[0.4444444444444444,\"#bd3786\"],[0.5555555555555556,\"#d8576b\"],[0.6666666666666666,\"#ed7953\"],[0.7777777777777778,\"#fb9f3a\"],[0.8888888888888888,\"#fdca26\"],[1.0,\"#f0f921\"]],\"type\":\"histogram2dcontour\"}],\"mesh3d\":[{\"colorbar\":{\"outlinewidth\":0,\"ticks\":\"\"},\"type\":\"mesh3d\"}],\"parcoords\":[{\"line\":{\"colorbar\":{\"outlinewidth\":0,\"ticks\":\"\"}},\"type\":\"parcoords\"}],\"pie\":[{\"automargin\":true,\"type\":\"pie\"}],\"scatter\":[{\"marker\":{\"colorbar\":{\"outlinewidth\":0,\"ticks\":\"\"}},\"type\":\"scatter\"}],\"scatter3d\":[{\"line\":{\"colorbar\":{\"outlinewidth\":0,\"ticks\":\"\"}},\"marker\":{\"colorbar\":{\"outlinewidth\":0,\"ticks\":\"\"}},\"type\":\"scatter3d\"}],\"scattercarpet\":[{\"marker\":{\"colorbar\":{\"outlinewidth\":0,\"ticks\":\"\"}},\"type\":\"scattercarpet\"}],\"scattergeo\":[{\"marker\":{\"colorbar\":{\"outlinewidth\":0,\"ticks\":\"\"}},\"type\":\"scattergeo\"}],\"scattergl\":[{\"marker\":{\"colorbar\":{\"outlinewidth\":0,\"ticks\":\"\"}},\"type\":\"scattergl\"}],\"scattermapbox\":[{\"marker\":{\"colorbar\":{\"outlinewidth\":0,\"ticks\":\"\"}},\"type\":\"scattermapbox\"}],\"scatterpolar\":[{\"marker\":{\"colorbar\":{\"outlinewidth\":0,\"ticks\":\"\"}},\"type\":\"scatterpolar\"}],\"scatterpolargl\":[{\"marker\":{\"colorbar\":{\"outlinewidth\":0,\"ticks\":\"\"}},\"type\":\"scatterpolargl\"}],\"scatterternary\":[{\"marker\":{\"colorbar\":{\"outlinewidth\":0,\"ticks\":\"\"}},\"type\":\"scatterternary\"}],\"surface\":[{\"colorbar\":{\"outlinewidth\":0,\"ticks\":\"\"},\"colorscale\":[[0.0,\"#0d0887\"],[0.1111111111111111,\"#46039f\"],[0.2222222222222222,\"#7201a8\"],[0.3333333333333333,\"#9c179e\"],[0.4444444444444444,\"#bd3786\"],[0.5555555555555556,\"#d8576b\"],[0.6666666666666666,\"#ed7953\"],[0.7777777777777778,\"#fb9f3a\"],[0.8888888888888888,\"#fdca26\"],[1.0,\"#f0f921\"]],\"type\":\"surface\"}],\"table\":[{\"cells\":{\"fill\":{\"color\":\"#EBF0F8\"},\"line\":{\"color\":\"white\"}},\"header\":{\"fill\":{\"color\":\"#C8D4E3\"},\"line\":{\"color\":\"white\"}},\"type\":\"table\"}]},\"layout\":{\"annotationdefaults\":{\"arrowcolor\":\"#2a3f5f\",\"arrowhead\":0,\"arrowwidth\":1},\"autotypenumbers\":\"strict\",\"coloraxis\":{\"colorbar\":{\"outlinewidth\":0,\"ticks\":\"\"}},\"colorscale\":{\"diverging\":[[0,\"#8e0152\"],[0.1,\"#c51b7d\"],[0.2,\"#de77ae\"],[0.3,\"#f1b6da\"],[0.4,\"#fde0ef\"],[0.5,\"#f7f7f7\"],[0.6,\"#e6f5d0\"],[0.7,\"#b8e186\"],[0.8,\"#7fbc41\"],[0.9,\"#4d9221\"],[1,\"#276419\"]],\"sequential\":[[0.0,\"#0d0887\"],[0.1111111111111111,\"#46039f\"],[0.2222222222222222,\"#7201a8\"],[0.3333333333333333,\"#9c179e\"],[0.4444444444444444,\"#bd3786\"],[0.5555555555555556,\"#d8576b\"],[0.6666666666666666,\"#ed7953\"],[0.7777777777777778,\"#fb9f3a\"],[0.8888888888888888,\"#fdca26\"],[1.0,\"#f0f921\"]],\"sequentialminus\":[[0.0,\"#0d0887\"],[0.1111111111111111,\"#46039f\"],[0.2222222222222222,\"#7201a8\"],[0.3333333333333333,\"#9c179e\"],[0.4444444444444444,\"#bd3786\"],[0.5555555555555556,\"#d8576b\"],[0.6666666666666666,\"#ed7953\"],[0.7777777777777778,\"#fb9f3a\"],[0.8888888888888888,\"#fdca26\"],[1.0,\"#f0f921\"]]},\"colorway\":[\"#636efa\",\"#EF553B\",\"#00cc96\",\"#ab63fa\",\"#FFA15A\",\"#19d3f3\",\"#FF6692\",\"#B6E880\",\"#FF97FF\",\"#FECB52\"],\"font\":{\"color\":\"#2a3f5f\"},\"geo\":{\"bgcolor\":\"white\",\"lakecolor\":\"white\",\"landcolor\":\"#E5ECF6\",\"showlakes\":true,\"showland\":true,\"subunitcolor\":\"white\"},\"hoverlabel\":{\"align\":\"left\"},\"hovermode\":\"closest\",\"mapbox\":{\"style\":\"light\"},\"paper_bgcolor\":\"white\",\"plot_bgcolor\":\"#E5ECF6\",\"polar\":{\"angularaxis\":{\"gridcolor\":\"white\",\"linecolor\":\"white\",\"ticks\":\"\"},\"bgcolor\":\"#E5ECF6\",\"radialaxis\":{\"gridcolor\":\"white\",\"linecolor\":\"white\",\"ticks\":\"\"}},\"scene\":{\"xaxis\":{\"backgroundcolor\":\"#E5ECF6\",\"gridcolor\":\"white\",\"gridwidth\":2,\"linecolor\":\"white\",\"showbackground\":true,\"ticks\":\"\",\"zerolinecolor\":\"white\"},\"yaxis\":{\"backgroundcolor\":\"#E5ECF6\",\"gridcolor\":\"white\",\"gridwidth\":2,\"linecolor\":\"white\",\"showbackground\":true,\"ticks\":\"\",\"zerolinecolor\":\"white\"},\"zaxis\":{\"backgroundcolor\":\"#E5ECF6\",\"gridcolor\":\"white\",\"gridwidth\":2,\"linecolor\":\"white\",\"showbackground\":true,\"ticks\":\"\",\"zerolinecolor\":\"white\"}},\"shapedefaults\":{\"line\":{\"color\":\"#2a3f5f\"}},\"ternary\":{\"aaxis\":{\"gridcolor\":\"white\",\"linecolor\":\"white\",\"ticks\":\"\"},\"baxis\":{\"gridcolor\":\"white\",\"linecolor\":\"white\",\"ticks\":\"\"},\"bgcolor\":\"#E5ECF6\",\"caxis\":{\"gridcolor\":\"white\",\"linecolor\":\"white\",\"ticks\":\"\"}},\"title\":{\"x\":0.05},\"xaxis\":{\"automargin\":true,\"gridcolor\":\"white\",\"linecolor\":\"white\",\"ticks\":\"\",\"title\":{\"standoff\":15},\"zerolinecolor\":\"white\",\"zerolinewidth\":2},\"yaxis\":{\"automargin\":true,\"gridcolor\":\"white\",\"linecolor\":\"white\",\"ticks\":\"\",\"title\":{\"standoff\":15},\"zerolinecolor\":\"white\",\"zerolinewidth\":2}}},\"xaxis\":{\"anchor\":\"y\",\"domain\":[0.0,1.0],\"title\":{\"text\":\"count\"}},\"yaxis\":{\"anchor\":\"x\",\"domain\":[0.0,1.0],\"title\":{\"text\":\"artists\"}},\"legend\":{\"tracegroupgap\":0},\"title\":{\"text\":\"TOP 10 artistas\"},\"barmode\":\"relative\"},                        {\"responsive\": true}                    )                };                            </script>        </div>\n</body>\n</html>",
       "datasetInfos": [],
       "metadata": {},
       "removedWidgets": [],
       "textData": null,
       "type": "htmlSandbox"
      }
     },
     "output_type": "display_data"
    }
   ],
   "source": [
    "plot_title = 'TOP 10 artistas'\n",
    "top_artistas.plot.bar(x='count', y='artists', title=plot_title)"
   ]
  },
  {
   "cell_type": "code",
   "execution_count": 0,
   "metadata": {
    "application/vnd.databricks.v1+cell": {
     "cellMetadata": {
      "byteLimit": 2048000,
      "rowLimit": 10000
     },
     "inputWidgets": {},
     "nuid": "f7f180a3-a146-4884-98e5-5f2724830ce5",
     "showTitle": false,
     "tableResultSettingsMap": {},
     "title": ""
    }
   },
   "outputs": [],
   "source": [
    "lista_artistas = top_artistas.artists.unique().to_list()"
   ]
  },
  {
   "cell_type": "code",
   "execution_count": 0,
   "metadata": {
    "application/vnd.databricks.v1+cell": {
     "cellMetadata": {
      "byteLimit": 2048000,
      "rowLimit": 10000
     },
     "inputWidgets": {},
     "nuid": "fc87d6c8-08fb-417f-a1ec-18068bcac4c9",
     "showTitle": false,
     "tableResultSettingsMap": {},
     "title": ""
    }
   },
   "outputs": [
    {
     "output_type": "stream",
     "name": "stdout",
     "output_type": "stream",
     "text": [
      "Out[122]: ['Francisco Canaro',\n 'Эрнест Хемингуэй',\n 'Эрих Мария Ремарк',\n 'Frank Sinatra',\n 'Ignacio Corsini',\n 'Vladimir Horowitz',\n 'Arturo Toscanini',\n 'Billie Holiday',\n 'Johnny Cash',\n 'Elvis Presley']"
     ]
    }
   ],
   "source": [
    "lista_artistas"
   ]
  },
  {
   "cell_type": "code",
   "execution_count": 0,
   "metadata": {
    "application/vnd.databricks.v1+cell": {
     "cellMetadata": {
      "byteLimit": 2048000,
      "rowLimit": 10000
     },
     "inputWidgets": {},
     "nuid": "ac3033e8-e45d-4e55-9c67-c55bf4953ac6",
     "showTitle": false,
     "tableResultSettingsMap": {},
     "title": ""
    }
   },
   "outputs": [
    {
     "output_type": "display_data",
     "data": {
      "text/html": [
       "<div>\n",
       "<style scoped>\n",
       "    .dataframe tbody tr th:only-of-type {\n",
       "        vertical-align: middle;\n",
       "    }\n",
       "\n",
       "    .dataframe tbody tr th {\n",
       "        vertical-align: top;\n",
       "    }\n",
       "\n",
       "    .dataframe thead th {\n",
       "        text-align: right;\n",
       "    }\n",
       "</style>\n",
       "<table border=\"1\" class=\"dataframe\">\n",
       "  <thead>\n",
       "    <tr style=\"text-align: right;\">\n",
       "      <th></th>\n",
       "      <th>genres</th>\n",
       "      <th>artists</th>\n",
       "      <th>acousticness</th>\n",
       "      <th>danceability</th>\n",
       "      <th>duration_ms</th>\n",
       "      <th>energy</th>\n",
       "      <th>instrumentalness</th>\n",
       "      <th>liveness</th>\n",
       "      <th>loudness</th>\n",
       "      <th>speechiness</th>\n",
       "      <th>tempo</th>\n",
       "      <th>valence</th>\n",
       "      <th>popularity</th>\n",
       "      <th>key</th>\n",
       "      <th>mode</th>\n",
       "      <th>count</th>\n",
       "    </tr>\n",
       "  </thead>\n",
       "  <tbody>\n",
       "    <tr>\n",
       "      <th>0</th>\n",
       "      <td>show tunes</td>\n",
       "      <td>Cats 1981 Original London Cast</td>\n",
       "      <td>0.5901111111111111</td>\n",
       "      <td>0.4672222222222222</td>\n",
       "      <td>250318.5555555556</td>\n",
       "      <td>0.3940033333333333</td>\n",
       "      <td>0.011399851111111107</td>\n",
       "      <td>0.2908333333333333</td>\n",
       "      <td>-14.448000</td>\n",
       "      <td>0.210389</td>\n",
       "      <td>117.518111</td>\n",
       "      <td>0.389500</td>\n",
       "      <td>38.333333</td>\n",
       "      <td>5.0</td>\n",
       "      <td>1.0</td>\n",
       "      <td>9.0</td>\n",
       "    </tr>\n",
       "    <tr>\n",
       "      <th>1</th>\n",
       "      <td></td>\n",
       "      <td>Cats 1983 Broadway Cast</td>\n",
       "      <td>0.8625384615384617</td>\n",
       "      <td>0.4417307692307693</td>\n",
       "      <td>287280.0</td>\n",
       "      <td>0.4068076923076923</td>\n",
       "      <td>0.08115826423076923</td>\n",
       "      <td>0.3152153846153846</td>\n",
       "      <td>-10.690000</td>\n",
       "      <td>0.176212</td>\n",
       "      <td>103.044154</td>\n",
       "      <td>0.268865</td>\n",
       "      <td>30.576923</td>\n",
       "      <td>5.0</td>\n",
       "      <td>1.0</td>\n",
       "      <td>26.0</td>\n",
       "    </tr>\n",
       "    <tr>\n",
       "      <th>2</th>\n",
       "      <td></td>\n",
       "      <td>Fiddler On The Roof” Motion Picture Chorus</td>\n",
       "      <td>0.8565714285714285</td>\n",
       "      <td>0.34828571428571425</td>\n",
       "      <td>328920.0</td>\n",
       "      <td>0.2865714285714285</td>\n",
       "      <td>0.024592948571428568</td>\n",
       "      <td>0.3257857142857143</td>\n",
       "      <td>-15.230714</td>\n",
       "      <td>0.118514</td>\n",
       "      <td>77.375857</td>\n",
       "      <td>0.354857</td>\n",
       "      <td>34.857143</td>\n",
       "      <td>0.0</td>\n",
       "      <td>1.0</td>\n",
       "      <td>7.0</td>\n",
       "    </tr>\n",
       "    <tr>\n",
       "      <th>3</th>\n",
       "      <td></td>\n",
       "      <td>Fiddler On The Roof” Motion Picture Orchestra</td>\n",
       "      <td>0.884925925925926</td>\n",
       "      <td>0.4250740740740739</td>\n",
       "      <td>262890.96296296304</td>\n",
       "      <td>0.2457703703703704</td>\n",
       "      <td>0.07358727925925927</td>\n",
       "      <td>0.2754814814814815</td>\n",
       "      <td>-15.639370</td>\n",
       "      <td>0.123200</td>\n",
       "      <td>88.667630</td>\n",
       "      <td>0.372030</td>\n",
       "      <td>34.851852</td>\n",
       "      <td>0.0</td>\n",
       "      <td>1.0</td>\n",
       "      <td>27.0</td>\n",
       "    </tr>\n",
       "    <tr>\n",
       "      <th>4</th>\n",
       "      <td></td>\n",
       "      <td>Joseph And The Amazing Technicolor Dreamcoat 1...</td>\n",
       "      <td>0.5107142857142857</td>\n",
       "      <td>0.4671428571428572</td>\n",
       "      <td>270436.14285714284</td>\n",
       "      <td>0.4882857142857143</td>\n",
       "      <td>0.00940029142857143</td>\n",
       "      <td>0.195</td>\n",
       "      <td>-10.236714</td>\n",
       "      <td>0.098543</td>\n",
       "      <td>122.835857</td>\n",
       "      <td>0.482286</td>\n",
       "      <td>43.000000</td>\n",
       "      <td>5.0</td>\n",
       "      <td>1.0</td>\n",
       "      <td>7.0</td>\n",
       "    </tr>\n",
       "  </tbody>\n",
       "</table>\n",
       "</div>"
      ]
     },
     "metadata": {
      "application/vnd.databricks.v1+output": {
       "addedWidgets": {},
       "arguments": {},
       "data": "<div>\n<style scoped>\n    .dataframe tbody tr th:only-of-type {\n        vertical-align: middle;\n    }\n\n    .dataframe tbody tr th {\n        vertical-align: top;\n    }\n\n    .dataframe thead th {\n        text-align: right;\n    }\n</style>\n<table border=\"1\" class=\"dataframe\">\n  <thead>\n    <tr style=\"text-align: right;\">\n      <th></th>\n      <th>genres</th>\n      <th>artists</th>\n      <th>acousticness</th>\n      <th>danceability</th>\n      <th>duration_ms</th>\n      <th>energy</th>\n      <th>instrumentalness</th>\n      <th>liveness</th>\n      <th>loudness</th>\n      <th>speechiness</th>\n      <th>tempo</th>\n      <th>valence</th>\n      <th>popularity</th>\n      <th>key</th>\n      <th>mode</th>\n      <th>count</th>\n    </tr>\n  </thead>\n  <tbody>\n    <tr>\n      <th>0</th>\n      <td>show tunes</td>\n      <td>Cats 1981 Original London Cast</td>\n      <td>0.5901111111111111</td>\n      <td>0.4672222222222222</td>\n      <td>250318.5555555556</td>\n      <td>0.3940033333333333</td>\n      <td>0.011399851111111107</td>\n      <td>0.2908333333333333</td>\n      <td>-14.448000</td>\n      <td>0.210389</td>\n      <td>117.518111</td>\n      <td>0.389500</td>\n      <td>38.333333</td>\n      <td>5.0</td>\n      <td>1.0</td>\n      <td>9.0</td>\n    </tr>\n    <tr>\n      <th>1</th>\n      <td></td>\n      <td>Cats 1983 Broadway Cast</td>\n      <td>0.8625384615384617</td>\n      <td>0.4417307692307693</td>\n      <td>287280.0</td>\n      <td>0.4068076923076923</td>\n      <td>0.08115826423076923</td>\n      <td>0.3152153846153846</td>\n      <td>-10.690000</td>\n      <td>0.176212</td>\n      <td>103.044154</td>\n      <td>0.268865</td>\n      <td>30.576923</td>\n      <td>5.0</td>\n      <td>1.0</td>\n      <td>26.0</td>\n    </tr>\n    <tr>\n      <th>2</th>\n      <td></td>\n      <td>Fiddler On The Roof” Motion Picture Chorus</td>\n      <td>0.8565714285714285</td>\n      <td>0.34828571428571425</td>\n      <td>328920.0</td>\n      <td>0.2865714285714285</td>\n      <td>0.024592948571428568</td>\n      <td>0.3257857142857143</td>\n      <td>-15.230714</td>\n      <td>0.118514</td>\n      <td>77.375857</td>\n      <td>0.354857</td>\n      <td>34.857143</td>\n      <td>0.0</td>\n      <td>1.0</td>\n      <td>7.0</td>\n    </tr>\n    <tr>\n      <th>3</th>\n      <td></td>\n      <td>Fiddler On The Roof” Motion Picture Orchestra</td>\n      <td>0.884925925925926</td>\n      <td>0.4250740740740739</td>\n      <td>262890.96296296304</td>\n      <td>0.2457703703703704</td>\n      <td>0.07358727925925927</td>\n      <td>0.2754814814814815</td>\n      <td>-15.639370</td>\n      <td>0.123200</td>\n      <td>88.667630</td>\n      <td>0.372030</td>\n      <td>34.851852</td>\n      <td>0.0</td>\n      <td>1.0</td>\n      <td>27.0</td>\n    </tr>\n    <tr>\n      <th>4</th>\n      <td></td>\n      <td>Joseph And The Amazing Technicolor Dreamcoat 1...</td>\n      <td>0.5107142857142857</td>\n      <td>0.4671428571428572</td>\n      <td>270436.14285714284</td>\n      <td>0.4882857142857143</td>\n      <td>0.00940029142857143</td>\n      <td>0.195</td>\n      <td>-10.236714</td>\n      <td>0.098543</td>\n      <td>122.835857</td>\n      <td>0.482286</td>\n      <td>43.000000</td>\n      <td>5.0</td>\n      <td>1.0</td>\n      <td>7.0</td>\n    </tr>\n  </tbody>\n</table>\n</div>",
       "datasetInfos": [],
       "metadata": {},
       "removedWidgets": [],
       "textData": null,
       "type": "htmlSandbox"
      }
     },
     "output_type": "display_data"
    }
   ],
   "source": [
    "df_Wgenres.head()"
   ]
  },
  {
   "cell_type": "code",
   "execution_count": 0,
   "metadata": {
    "application/vnd.databricks.v1+cell": {
     "cellMetadata": {
      "byteLimit": 2048000,
      "rowLimit": 10000
     },
     "inputWidgets": {},
     "nuid": "638abe57-e12b-4c9f-9aa5-db953f265045",
     "showTitle": false,
     "tableResultSettingsMap": {},
     "title": ""
    }
   },
   "outputs": [],
   "source": [
    "artistas_genero = df_Wgenres.loc[df_Wgenres['artists'].isin(lista_artistas)]\n",
    "artistas_genero = artistas_genero[['genres', 'artists']]"
   ]
  },
  {
   "cell_type": "code",
   "execution_count": 0,
   "metadata": {
    "application/vnd.databricks.v1+cell": {
     "cellMetadata": {
      "byteLimit": 2048000,
      "rowLimit": 10000
     },
     "inputWidgets": {},
     "nuid": "011175b2-5172-43a0-8c98-5301804121c5",
     "showTitle": false,
     "tableResultSettingsMap": {},
     "title": ""
    }
   },
   "outputs": [
    {
     "output_type": "display_data",
     "data": {
      "text/html": [
       "<div>\n",
       "<style scoped>\n",
       "    .dataframe tbody tr th:only-of-type {\n",
       "        vertical-align: middle;\n",
       "    }\n",
       "\n",
       "    .dataframe tbody tr th {\n",
       "        vertical-align: top;\n",
       "    }\n",
       "\n",
       "    .dataframe thead th {\n",
       "        text-align: right;\n",
       "    }\n",
       "</style>\n",
       "<table border=\"1\" class=\"dataframe\">\n",
       "  <thead>\n",
       "    <tr style=\"text-align: right;\">\n",
       "      <th></th>\n",
       "      <th>genres</th>\n",
       "      <th>artists</th>\n",
       "    </tr>\n",
       "  </thead>\n",
       "  <tbody>\n",
       "    <tr>\n",
       "      <th>1682</th>\n",
       "      <td>classical performance; historic orchestral per...</td>\n",
       "      <td>Arturo Toscanini</td>\n",
       "    </tr>\n",
       "    <tr>\n",
       "      <th>2707</th>\n",
       "      <td>adult standards; harlem renaissance; jazz blue...</td>\n",
       "      <td>Billie Holiday</td>\n",
       "    </tr>\n",
       "    <tr>\n",
       "      <th>7426</th>\n",
       "      <td>rock-and-roll; rockabilly</td>\n",
       "      <td>Elvis Presley</td>\n",
       "    </tr>\n",
       "    <tr>\n",
       "      <th>8367</th>\n",
       "      <td>tango; vintage tango</td>\n",
       "      <td>Francisco Canaro</td>\n",
       "    </tr>\n",
       "    <tr>\n",
       "      <th>8434</th>\n",
       "      <td>adult standards; easy listening; lounge</td>\n",
       "      <td>Frank Sinatra</td>\n",
       "    </tr>\n",
       "    <tr>\n",
       "      <th>10714</th>\n",
       "      <td>tango; vintage tango</td>\n",
       "      <td>Ignacio Corsini</td>\n",
       "    </tr>\n",
       "    <tr>\n",
       "      <th>12378</th>\n",
       "      <td>arkansas country; outlaw country</td>\n",
       "      <td>Johnny Cash</td>\n",
       "    </tr>\n",
       "    <tr>\n",
       "      <th>27109</th>\n",
       "      <td>classical; classical performance; classical pi...</td>\n",
       "      <td>Vladimir Horowitz</td>\n",
       "    </tr>\n",
       "    <tr>\n",
       "      <th>28560</th>\n",
       "      <td></td>\n",
       "      <td>Эрих Мария Ремарк</td>\n",
       "    </tr>\n",
       "    <tr>\n",
       "      <th>28561</th>\n",
       "      <td></td>\n",
       "      <td>Эрнест Хемингуэй</td>\n",
       "    </tr>\n",
       "  </tbody>\n",
       "</table>\n",
       "</div>"
      ]
     },
     "metadata": {
      "application/vnd.databricks.v1+output": {
       "addedWidgets": {},
       "arguments": {},
       "data": "<div>\n<style scoped>\n    .dataframe tbody tr th:only-of-type {\n        vertical-align: middle;\n    }\n\n    .dataframe tbody tr th {\n        vertical-align: top;\n    }\n\n    .dataframe thead th {\n        text-align: right;\n    }\n</style>\n<table border=\"1\" class=\"dataframe\">\n  <thead>\n    <tr style=\"text-align: right;\">\n      <th></th>\n      <th>genres</th>\n      <th>artists</th>\n    </tr>\n  </thead>\n  <tbody>\n    <tr>\n      <th>1682</th>\n      <td>classical performance; historic orchestral per...</td>\n      <td>Arturo Toscanini</td>\n    </tr>\n    <tr>\n      <th>2707</th>\n      <td>adult standards; harlem renaissance; jazz blue...</td>\n      <td>Billie Holiday</td>\n    </tr>\n    <tr>\n      <th>7426</th>\n      <td>rock-and-roll; rockabilly</td>\n      <td>Elvis Presley</td>\n    </tr>\n    <tr>\n      <th>8367</th>\n      <td>tango; vintage tango</td>\n      <td>Francisco Canaro</td>\n    </tr>\n    <tr>\n      <th>8434</th>\n      <td>adult standards; easy listening; lounge</td>\n      <td>Frank Sinatra</td>\n    </tr>\n    <tr>\n      <th>10714</th>\n      <td>tango; vintage tango</td>\n      <td>Ignacio Corsini</td>\n    </tr>\n    <tr>\n      <th>12378</th>\n      <td>arkansas country; outlaw country</td>\n      <td>Johnny Cash</td>\n    </tr>\n    <tr>\n      <th>27109</th>\n      <td>classical; classical performance; classical pi...</td>\n      <td>Vladimir Horowitz</td>\n    </tr>\n    <tr>\n      <th>28560</th>\n      <td></td>\n      <td>Эрих Мария Ремарк</td>\n    </tr>\n    <tr>\n      <th>28561</th>\n      <td></td>\n      <td>Эрнест Хемингуэй</td>\n    </tr>\n  </tbody>\n</table>\n</div>",
       "datasetInfos": [],
       "metadata": {},
       "removedWidgets": [],
       "textData": null,
       "type": "htmlSandbox"
      }
     },
     "output_type": "display_data"
    }
   ],
   "source": [
    "artistas_genero"
   ]
  },
  {
   "cell_type": "code",
   "execution_count": 0,
   "metadata": {
    "application/vnd.databricks.v1+cell": {
     "cellMetadata": {
      "byteLimit": 2048000,
      "rowLimit": 10000
     },
     "inputWidgets": {},
     "nuid": "d9638105-1fc8-423d-a4c5-e5d799b8fa39",
     "showTitle": false,
     "tableResultSettingsMap": {},
     "title": ""
    }
   },
   "outputs": [
    {
     "output_type": "stream",
     "name": "stdout",
     "output_type": "stream",
     "text": [
      "Out[126]: 28680"
     ]
    }
   ],
   "source": [
    "df_Wgenres['qtd'] = 1\n",
    "df_Wgenres_2 = df_Wgenres[['genres', 'qtd']]\n",
    "len(df_Wgenres_2)"
   ]
  },
  {
   "cell_type": "code",
   "execution_count": 0,
   "metadata": {
    "application/vnd.databricks.v1+cell": {
     "cellMetadata": {
      "byteLimit": 2048000,
      "rowLimit": 10000
     },
     "inputWidgets": {},
     "nuid": "dee1127e-3fe5-4ea6-aa9d-2c8dd48d79ea",
     "showTitle": false,
     "tableResultSettingsMap": {},
     "title": ""
    }
   },
   "outputs": [],
   "source": [
    "Wgenres_2_ordenado = df_Wgenres_2.groupby('genres').sum().sort_values(by='qtd', ascending=False).reset_index() \n",
    "top_generos = Wgenres_2_ordenado.loc[0:10] "
   ]
  },
  {
   "cell_type": "code",
   "execution_count": 0,
   "metadata": {
    "application/vnd.databricks.v1+cell": {
     "cellMetadata": {
      "byteLimit": 2048000,
      "rowLimit": 10000
     },
     "inputWidgets": {},
     "nuid": "b67631d1-6233-4fa1-8e55-03eb6edcb095",
     "showTitle": false,
     "tableResultSettingsMap": {},
     "title": ""
    }
   },
   "outputs": [
    {
     "output_type": "display_data",
     "data": {
      "text/html": [
       "<div>\n",
       "<style scoped>\n",
       "    .dataframe tbody tr th:only-of-type {\n",
       "        vertical-align: middle;\n",
       "    }\n",
       "\n",
       "    .dataframe tbody tr th {\n",
       "        vertical-align: top;\n",
       "    }\n",
       "\n",
       "    .dataframe thead th {\n",
       "        text-align: right;\n",
       "    }\n",
       "</style>\n",
       "<table border=\"1\" class=\"dataframe\">\n",
       "  <thead>\n",
       "    <tr style=\"text-align: right;\">\n",
       "      <th></th>\n",
       "      <th>genres</th>\n",
       "      <th>qtd</th>\n",
       "    </tr>\n",
       "  </thead>\n",
       "  <tbody>\n",
       "    <tr>\n",
       "      <th>0</th>\n",
       "      <td></td>\n",
       "      <td>9857</td>\n",
       "    </tr>\n",
       "    <tr>\n",
       "      <th>1</th>\n",
       "      <td>movie tunes</td>\n",
       "      <td>69</td>\n",
       "    </tr>\n",
       "    <tr>\n",
       "      <th>2</th>\n",
       "      <td>show tunes</td>\n",
       "      <td>63</td>\n",
       "    </tr>\n",
       "    <tr>\n",
       "      <th>3</th>\n",
       "      <td>hollywood</td>\n",
       "      <td>56</td>\n",
       "    </tr>\n",
       "    <tr>\n",
       "      <th>4</th>\n",
       "      <td>orchestral performance</td>\n",
       "      <td>50</td>\n",
       "    </tr>\n",
       "    <tr>\n",
       "      <th>5</th>\n",
       "      <td>broadway; hollywood; show tunes</td>\n",
       "      <td>48</td>\n",
       "    </tr>\n",
       "    <tr>\n",
       "      <th>6</th>\n",
       "      <td>disney; movie tunes</td>\n",
       "      <td>45</td>\n",
       "    </tr>\n",
       "    <tr>\n",
       "      <th>7</th>\n",
       "      <td>sleep</td>\n",
       "      <td>42</td>\n",
       "    </tr>\n",
       "    <tr>\n",
       "      <th>8</th>\n",
       "      <td>contemporary country; country; country road; m...</td>\n",
       "      <td>41</td>\n",
       "    </tr>\n",
       "    <tr>\n",
       "      <th>9</th>\n",
       "      <td>gospel</td>\n",
       "      <td>41</td>\n",
       "    </tr>\n",
       "    <tr>\n",
       "      <th>10</th>\n",
       "      <td>classical soprano</td>\n",
       "      <td>40</td>\n",
       "    </tr>\n",
       "  </tbody>\n",
       "</table>\n",
       "</div>"
      ]
     },
     "metadata": {
      "application/vnd.databricks.v1+output": {
       "addedWidgets": {},
       "arguments": {},
       "data": "<div>\n<style scoped>\n    .dataframe tbody tr th:only-of-type {\n        vertical-align: middle;\n    }\n\n    .dataframe tbody tr th {\n        vertical-align: top;\n    }\n\n    .dataframe thead th {\n        text-align: right;\n    }\n</style>\n<table border=\"1\" class=\"dataframe\">\n  <thead>\n    <tr style=\"text-align: right;\">\n      <th></th>\n      <th>genres</th>\n      <th>qtd</th>\n    </tr>\n  </thead>\n  <tbody>\n    <tr>\n      <th>0</th>\n      <td></td>\n      <td>9857</td>\n    </tr>\n    <tr>\n      <th>1</th>\n      <td>movie tunes</td>\n      <td>69</td>\n    </tr>\n    <tr>\n      <th>2</th>\n      <td>show tunes</td>\n      <td>63</td>\n    </tr>\n    <tr>\n      <th>3</th>\n      <td>hollywood</td>\n      <td>56</td>\n    </tr>\n    <tr>\n      <th>4</th>\n      <td>orchestral performance</td>\n      <td>50</td>\n    </tr>\n    <tr>\n      <th>5</th>\n      <td>broadway; hollywood; show tunes</td>\n      <td>48</td>\n    </tr>\n    <tr>\n      <th>6</th>\n      <td>disney; movie tunes</td>\n      <td>45</td>\n    </tr>\n    <tr>\n      <th>7</th>\n      <td>sleep</td>\n      <td>42</td>\n    </tr>\n    <tr>\n      <th>8</th>\n      <td>contemporary country; country; country road; m...</td>\n      <td>41</td>\n    </tr>\n    <tr>\n      <th>9</th>\n      <td>gospel</td>\n      <td>41</td>\n    </tr>\n    <tr>\n      <th>10</th>\n      <td>classical soprano</td>\n      <td>40</td>\n    </tr>\n  </tbody>\n</table>\n</div>",
       "datasetInfos": [],
       "metadata": {},
       "removedWidgets": [],
       "textData": null,
       "type": "htmlSandbox"
      }
     },
     "output_type": "display_data"
    }
   ],
   "source": [
    "top_generos"
   ]
  },
  {
   "cell_type": "code",
   "execution_count": 0,
   "metadata": {
    "application/vnd.databricks.v1+cell": {
     "cellMetadata": {
      "byteLimit": 2048000,
      "rowLimit": 10000
     },
     "inputWidgets": {},
     "nuid": "dd3cdde6-6d61-497b-af65-4c8b00730fd4",
     "showTitle": false,
     "tableResultSettingsMap": {},
     "title": ""
    }
   },
   "outputs": [
    {
     "output_type": "display_data",
     "data": {
      "text/html": [
       "<html>\n",
       "<head><meta charset=\"utf-8\" /></head>\n",
       "<body>\n",
       "    <div>            <script src=\"https://cdnjs.cloudflare.com/ajax/libs/mathjax/2.7.5/MathJax.js?config=TeX-AMS-MML_SVG\"></script><script type=\"text/javascript\">if (window.MathJax) {MathJax.Hub.Config({SVG: {font: \"STIX-Web\"}});}</script>                <script type=\"text/javascript\">window.PlotlyConfig = {MathJaxConfig: 'local'};</script>\n",
       "        <script src=\"https://cdn.plot.ly/plotly-2.9.0.min.js\"></script>                <div id=\"8979666f-2a44-4ee0-a16c-8a2cee91626f\" class=\"plotly-graph-div\" style=\"height:100%; width:100%;\"></div>            <script type=\"text/javascript\">                                    window.PLOTLYENV=window.PLOTLYENV || {};                                    if (document.getElementById(\"8979666f-2a44-4ee0-a16c-8a2cee91626f\")) {                    Plotly.newPlot(                        \"8979666f-2a44-4ee0-a16c-8a2cee91626f\",                        [{\"alignmentgroup\":\"True\",\"hovertemplate\":\"qtd=%{x}<br>genres=%{y}<extra></extra>\",\"legendgroup\":\"\",\"marker\":{\"color\":\"#636efa\",\"pattern\":{\"shape\":\"\"}},\"name\":\"\",\"offsetgroup\":\"\",\"orientation\":\"h\",\"showlegend\":false,\"textposition\":\"auto\",\"x\":[9857,69,63,56,50,48,45,42,41,41,40],\"xaxis\":\"x\",\"y\":[\"\",\"movie tunes\",\"show tunes\",\"hollywood\",\"orchestral performance\",\"broadway; hollywood; show tunes\",\"disney; movie tunes\",\"sleep\",\"contemporary country; country; country road; modern country rock\",\"gospel\",\"classical soprano\"],\"yaxis\":\"y\",\"type\":\"bar\"}],                        {\"template\":{\"data\":{\"bar\":[{\"error_x\":{\"color\":\"#2a3f5f\"},\"error_y\":{\"color\":\"#2a3f5f\"},\"marker\":{\"line\":{\"color\":\"#E5ECF6\",\"width\":0.5},\"pattern\":{\"fillmode\":\"overlay\",\"size\":10,\"solidity\":0.2}},\"type\":\"bar\"}],\"barpolar\":[{\"marker\":{\"line\":{\"color\":\"#E5ECF6\",\"width\":0.5},\"pattern\":{\"fillmode\":\"overlay\",\"size\":10,\"solidity\":0.2}},\"type\":\"barpolar\"}],\"carpet\":[{\"aaxis\":{\"endlinecolor\":\"#2a3f5f\",\"gridcolor\":\"white\",\"linecolor\":\"white\",\"minorgridcolor\":\"white\",\"startlinecolor\":\"#2a3f5f\"},\"baxis\":{\"endlinecolor\":\"#2a3f5f\",\"gridcolor\":\"white\",\"linecolor\":\"white\",\"minorgridcolor\":\"white\",\"startlinecolor\":\"#2a3f5f\"},\"type\":\"carpet\"}],\"choropleth\":[{\"colorbar\":{\"outlinewidth\":0,\"ticks\":\"\"},\"type\":\"choropleth\"}],\"contour\":[{\"colorbar\":{\"outlinewidth\":0,\"ticks\":\"\"},\"colorscale\":[[0.0,\"#0d0887\"],[0.1111111111111111,\"#46039f\"],[0.2222222222222222,\"#7201a8\"],[0.3333333333333333,\"#9c179e\"],[0.4444444444444444,\"#bd3786\"],[0.5555555555555556,\"#d8576b\"],[0.6666666666666666,\"#ed7953\"],[0.7777777777777778,\"#fb9f3a\"],[0.8888888888888888,\"#fdca26\"],[1.0,\"#f0f921\"]],\"type\":\"contour\"}],\"contourcarpet\":[{\"colorbar\":{\"outlinewidth\":0,\"ticks\":\"\"},\"type\":\"contourcarpet\"}],\"heatmap\":[{\"colorbar\":{\"outlinewidth\":0,\"ticks\":\"\"},\"colorscale\":[[0.0,\"#0d0887\"],[0.1111111111111111,\"#46039f\"],[0.2222222222222222,\"#7201a8\"],[0.3333333333333333,\"#9c179e\"],[0.4444444444444444,\"#bd3786\"],[0.5555555555555556,\"#d8576b\"],[0.6666666666666666,\"#ed7953\"],[0.7777777777777778,\"#fb9f3a\"],[0.8888888888888888,\"#fdca26\"],[1.0,\"#f0f921\"]],\"type\":\"heatmap\"}],\"heatmapgl\":[{\"colorbar\":{\"outlinewidth\":0,\"ticks\":\"\"},\"colorscale\":[[0.0,\"#0d0887\"],[0.1111111111111111,\"#46039f\"],[0.2222222222222222,\"#7201a8\"],[0.3333333333333333,\"#9c179e\"],[0.4444444444444444,\"#bd3786\"],[0.5555555555555556,\"#d8576b\"],[0.6666666666666666,\"#ed7953\"],[0.7777777777777778,\"#fb9f3a\"],[0.8888888888888888,\"#fdca26\"],[1.0,\"#f0f921\"]],\"type\":\"heatmapgl\"}],\"histogram\":[{\"marker\":{\"pattern\":{\"fillmode\":\"overlay\",\"size\":10,\"solidity\":0.2}},\"type\":\"histogram\"}],\"histogram2d\":[{\"colorbar\":{\"outlinewidth\":0,\"ticks\":\"\"},\"colorscale\":[[0.0,\"#0d0887\"],[0.1111111111111111,\"#46039f\"],[0.2222222222222222,\"#7201a8\"],[0.3333333333333333,\"#9c179e\"],[0.4444444444444444,\"#bd3786\"],[0.5555555555555556,\"#d8576b\"],[0.6666666666666666,\"#ed7953\"],[0.7777777777777778,\"#fb9f3a\"],[0.8888888888888888,\"#fdca26\"],[1.0,\"#f0f921\"]],\"type\":\"histogram2d\"}],\"histogram2dcontour\":[{\"colorbar\":{\"outlinewidth\":0,\"ticks\":\"\"},\"colorscale\":[[0.0,\"#0d0887\"],[0.1111111111111111,\"#46039f\"],[0.2222222222222222,\"#7201a8\"],[0.3333333333333333,\"#9c179e\"],[0.4444444444444444,\"#bd3786\"],[0.5555555555555556,\"#d8576b\"],[0.6666666666666666,\"#ed7953\"],[0.7777777777777778,\"#fb9f3a\"],[0.8888888888888888,\"#fdca26\"],[1.0,\"#f0f921\"]],\"type\":\"histogram2dcontour\"}],\"mesh3d\":[{\"colorbar\":{\"outlinewidth\":0,\"ticks\":\"\"},\"type\":\"mesh3d\"}],\"parcoords\":[{\"line\":{\"colorbar\":{\"outlinewidth\":0,\"ticks\":\"\"}},\"type\":\"parcoords\"}],\"pie\":[{\"automargin\":true,\"type\":\"pie\"}],\"scatter\":[{\"marker\":{\"colorbar\":{\"outlinewidth\":0,\"ticks\":\"\"}},\"type\":\"scatter\"}],\"scatter3d\":[{\"line\":{\"colorbar\":{\"outlinewidth\":0,\"ticks\":\"\"}},\"marker\":{\"colorbar\":{\"outlinewidth\":0,\"ticks\":\"\"}},\"type\":\"scatter3d\"}],\"scattercarpet\":[{\"marker\":{\"colorbar\":{\"outlinewidth\":0,\"ticks\":\"\"}},\"type\":\"scattercarpet\"}],\"scattergeo\":[{\"marker\":{\"colorbar\":{\"outlinewidth\":0,\"ticks\":\"\"}},\"type\":\"scattergeo\"}],\"scattergl\":[{\"marker\":{\"colorbar\":{\"outlinewidth\":0,\"ticks\":\"\"}},\"type\":\"scattergl\"}],\"scattermapbox\":[{\"marker\":{\"colorbar\":{\"outlinewidth\":0,\"ticks\":\"\"}},\"type\":\"scattermapbox\"}],\"scatterpolar\":[{\"marker\":{\"colorbar\":{\"outlinewidth\":0,\"ticks\":\"\"}},\"type\":\"scatterpolar\"}],\"scatterpolargl\":[{\"marker\":{\"colorbar\":{\"outlinewidth\":0,\"ticks\":\"\"}},\"type\":\"scatterpolargl\"}],\"scatterternary\":[{\"marker\":{\"colorbar\":{\"outlinewidth\":0,\"ticks\":\"\"}},\"type\":\"scatterternary\"}],\"surface\":[{\"colorbar\":{\"outlinewidth\":0,\"ticks\":\"\"},\"colorscale\":[[0.0,\"#0d0887\"],[0.1111111111111111,\"#46039f\"],[0.2222222222222222,\"#7201a8\"],[0.3333333333333333,\"#9c179e\"],[0.4444444444444444,\"#bd3786\"],[0.5555555555555556,\"#d8576b\"],[0.6666666666666666,\"#ed7953\"],[0.7777777777777778,\"#fb9f3a\"],[0.8888888888888888,\"#fdca26\"],[1.0,\"#f0f921\"]],\"type\":\"surface\"}],\"table\":[{\"cells\":{\"fill\":{\"color\":\"#EBF0F8\"},\"line\":{\"color\":\"white\"}},\"header\":{\"fill\":{\"color\":\"#C8D4E3\"},\"line\":{\"color\":\"white\"}},\"type\":\"table\"}]},\"layout\":{\"annotationdefaults\":{\"arrowcolor\":\"#2a3f5f\",\"arrowhead\":0,\"arrowwidth\":1},\"autotypenumbers\":\"strict\",\"coloraxis\":{\"colorbar\":{\"outlinewidth\":0,\"ticks\":\"\"}},\"colorscale\":{\"diverging\":[[0,\"#8e0152\"],[0.1,\"#c51b7d\"],[0.2,\"#de77ae\"],[0.3,\"#f1b6da\"],[0.4,\"#fde0ef\"],[0.5,\"#f7f7f7\"],[0.6,\"#e6f5d0\"],[0.7,\"#b8e186\"],[0.8,\"#7fbc41\"],[0.9,\"#4d9221\"],[1,\"#276419\"]],\"sequential\":[[0.0,\"#0d0887\"],[0.1111111111111111,\"#46039f\"],[0.2222222222222222,\"#7201a8\"],[0.3333333333333333,\"#9c179e\"],[0.4444444444444444,\"#bd3786\"],[0.5555555555555556,\"#d8576b\"],[0.6666666666666666,\"#ed7953\"],[0.7777777777777778,\"#fb9f3a\"],[0.8888888888888888,\"#fdca26\"],[1.0,\"#f0f921\"]],\"sequentialminus\":[[0.0,\"#0d0887\"],[0.1111111111111111,\"#46039f\"],[0.2222222222222222,\"#7201a8\"],[0.3333333333333333,\"#9c179e\"],[0.4444444444444444,\"#bd3786\"],[0.5555555555555556,\"#d8576b\"],[0.6666666666666666,\"#ed7953\"],[0.7777777777777778,\"#fb9f3a\"],[0.8888888888888888,\"#fdca26\"],[1.0,\"#f0f921\"]]},\"colorway\":[\"#636efa\",\"#EF553B\",\"#00cc96\",\"#ab63fa\",\"#FFA15A\",\"#19d3f3\",\"#FF6692\",\"#B6E880\",\"#FF97FF\",\"#FECB52\"],\"font\":{\"color\":\"#2a3f5f\"},\"geo\":{\"bgcolor\":\"white\",\"lakecolor\":\"white\",\"landcolor\":\"#E5ECF6\",\"showlakes\":true,\"showland\":true,\"subunitcolor\":\"white\"},\"hoverlabel\":{\"align\":\"left\"},\"hovermode\":\"closest\",\"mapbox\":{\"style\":\"light\"},\"paper_bgcolor\":\"white\",\"plot_bgcolor\":\"#E5ECF6\",\"polar\":{\"angularaxis\":{\"gridcolor\":\"white\",\"linecolor\":\"white\",\"ticks\":\"\"},\"bgcolor\":\"#E5ECF6\",\"radialaxis\":{\"gridcolor\":\"white\",\"linecolor\":\"white\",\"ticks\":\"\"}},\"scene\":{\"xaxis\":{\"backgroundcolor\":\"#E5ECF6\",\"gridcolor\":\"white\",\"gridwidth\":2,\"linecolor\":\"white\",\"showbackground\":true,\"ticks\":\"\",\"zerolinecolor\":\"white\"},\"yaxis\":{\"backgroundcolor\":\"#E5ECF6\",\"gridcolor\":\"white\",\"gridwidth\":2,\"linecolor\":\"white\",\"showbackground\":true,\"ticks\":\"\",\"zerolinecolor\":\"white\"},\"zaxis\":{\"backgroundcolor\":\"#E5ECF6\",\"gridcolor\":\"white\",\"gridwidth\":2,\"linecolor\":\"white\",\"showbackground\":true,\"ticks\":\"\",\"zerolinecolor\":\"white\"}},\"shapedefaults\":{\"line\":{\"color\":\"#2a3f5f\"}},\"ternary\":{\"aaxis\":{\"gridcolor\":\"white\",\"linecolor\":\"white\",\"ticks\":\"\"},\"baxis\":{\"gridcolor\":\"white\",\"linecolor\":\"white\",\"ticks\":\"\"},\"bgcolor\":\"#E5ECF6\",\"caxis\":{\"gridcolor\":\"white\",\"linecolor\":\"white\",\"ticks\":\"\"}},\"title\":{\"x\":0.05},\"xaxis\":{\"automargin\":true,\"gridcolor\":\"white\",\"linecolor\":\"white\",\"ticks\":\"\",\"title\":{\"standoff\":15},\"zerolinecolor\":\"white\",\"zerolinewidth\":2},\"yaxis\":{\"automargin\":true,\"gridcolor\":\"white\",\"linecolor\":\"white\",\"ticks\":\"\",\"title\":{\"standoff\":15},\"zerolinecolor\":\"white\",\"zerolinewidth\":2}}},\"xaxis\":{\"anchor\":\"y\",\"domain\":[0.0,1.0],\"title\":{\"text\":\"qtd\"}},\"yaxis\":{\"anchor\":\"x\",\"domain\":[0.0,1.0],\"title\":{\"text\":\"genres\"}},\"legend\":{\"tracegroupgap\":0},\"title\":{\"text\":\"Top 10 G\\u00eaneros\"},\"barmode\":\"relative\"},                        {\"responsive\": true}                    )                };                            </script>        </div>\n",
       "</body>\n",
       "</html>"
      ]
     },
     "metadata": {
      "application/vnd.databricks.v1+output": {
       "addedWidgets": {},
       "arguments": {},
       "data": "<html>\n<head><meta charset=\"utf-8\" /></head>\n<body>\n    <div>            <script src=\"https://cdnjs.cloudflare.com/ajax/libs/mathjax/2.7.5/MathJax.js?config=TeX-AMS-MML_SVG\"></script><script type=\"text/javascript\">if (window.MathJax) {MathJax.Hub.Config({SVG: {font: \"STIX-Web\"}});}</script>                <script type=\"text/javascript\">window.PlotlyConfig = {MathJaxConfig: 'local'};</script>\n        <script src=\"https://cdn.plot.ly/plotly-2.9.0.min.js\"></script>                <div id=\"8979666f-2a44-4ee0-a16c-8a2cee91626f\" class=\"plotly-graph-div\" style=\"height:100%; width:100%;\"></div>            <script type=\"text/javascript\">                                    window.PLOTLYENV=window.PLOTLYENV || {};                                    if (document.getElementById(\"8979666f-2a44-4ee0-a16c-8a2cee91626f\")) {                    Plotly.newPlot(                        \"8979666f-2a44-4ee0-a16c-8a2cee91626f\",                        [{\"alignmentgroup\":\"True\",\"hovertemplate\":\"qtd=%{x}<br>genres=%{y}<extra></extra>\",\"legendgroup\":\"\",\"marker\":{\"color\":\"#636efa\",\"pattern\":{\"shape\":\"\"}},\"name\":\"\",\"offsetgroup\":\"\",\"orientation\":\"h\",\"showlegend\":false,\"textposition\":\"auto\",\"x\":[9857,69,63,56,50,48,45,42,41,41,40],\"xaxis\":\"x\",\"y\":[\"\",\"movie tunes\",\"show tunes\",\"hollywood\",\"orchestral performance\",\"broadway; hollywood; show tunes\",\"disney; movie tunes\",\"sleep\",\"contemporary country; country; country road; modern country rock\",\"gospel\",\"classical soprano\"],\"yaxis\":\"y\",\"type\":\"bar\"}],                        {\"template\":{\"data\":{\"bar\":[{\"error_x\":{\"color\":\"#2a3f5f\"},\"error_y\":{\"color\":\"#2a3f5f\"},\"marker\":{\"line\":{\"color\":\"#E5ECF6\",\"width\":0.5},\"pattern\":{\"fillmode\":\"overlay\",\"size\":10,\"solidity\":0.2}},\"type\":\"bar\"}],\"barpolar\":[{\"marker\":{\"line\":{\"color\":\"#E5ECF6\",\"width\":0.5},\"pattern\":{\"fillmode\":\"overlay\",\"size\":10,\"solidity\":0.2}},\"type\":\"barpolar\"}],\"carpet\":[{\"aaxis\":{\"endlinecolor\":\"#2a3f5f\",\"gridcolor\":\"white\",\"linecolor\":\"white\",\"minorgridcolor\":\"white\",\"startlinecolor\":\"#2a3f5f\"},\"baxis\":{\"endlinecolor\":\"#2a3f5f\",\"gridcolor\":\"white\",\"linecolor\":\"white\",\"minorgridcolor\":\"white\",\"startlinecolor\":\"#2a3f5f\"},\"type\":\"carpet\"}],\"choropleth\":[{\"colorbar\":{\"outlinewidth\":0,\"ticks\":\"\"},\"type\":\"choropleth\"}],\"contour\":[{\"colorbar\":{\"outlinewidth\":0,\"ticks\":\"\"},\"colorscale\":[[0.0,\"#0d0887\"],[0.1111111111111111,\"#46039f\"],[0.2222222222222222,\"#7201a8\"],[0.3333333333333333,\"#9c179e\"],[0.4444444444444444,\"#bd3786\"],[0.5555555555555556,\"#d8576b\"],[0.6666666666666666,\"#ed7953\"],[0.7777777777777778,\"#fb9f3a\"],[0.8888888888888888,\"#fdca26\"],[1.0,\"#f0f921\"]],\"type\":\"contour\"}],\"contourcarpet\":[{\"colorbar\":{\"outlinewidth\":0,\"ticks\":\"\"},\"type\":\"contourcarpet\"}],\"heatmap\":[{\"colorbar\":{\"outlinewidth\":0,\"ticks\":\"\"},\"colorscale\":[[0.0,\"#0d0887\"],[0.1111111111111111,\"#46039f\"],[0.2222222222222222,\"#7201a8\"],[0.3333333333333333,\"#9c179e\"],[0.4444444444444444,\"#bd3786\"],[0.5555555555555556,\"#d8576b\"],[0.6666666666666666,\"#ed7953\"],[0.7777777777777778,\"#fb9f3a\"],[0.8888888888888888,\"#fdca26\"],[1.0,\"#f0f921\"]],\"type\":\"heatmap\"}],\"heatmapgl\":[{\"colorbar\":{\"outlinewidth\":0,\"ticks\":\"\"},\"colorscale\":[[0.0,\"#0d0887\"],[0.1111111111111111,\"#46039f\"],[0.2222222222222222,\"#7201a8\"],[0.3333333333333333,\"#9c179e\"],[0.4444444444444444,\"#bd3786\"],[0.5555555555555556,\"#d8576b\"],[0.6666666666666666,\"#ed7953\"],[0.7777777777777778,\"#fb9f3a\"],[0.8888888888888888,\"#fdca26\"],[1.0,\"#f0f921\"]],\"type\":\"heatmapgl\"}],\"histogram\":[{\"marker\":{\"pattern\":{\"fillmode\":\"overlay\",\"size\":10,\"solidity\":0.2}},\"type\":\"histogram\"}],\"histogram2d\":[{\"colorbar\":{\"outlinewidth\":0,\"ticks\":\"\"},\"colorscale\":[[0.0,\"#0d0887\"],[0.1111111111111111,\"#46039f\"],[0.2222222222222222,\"#7201a8\"],[0.3333333333333333,\"#9c179e\"],[0.4444444444444444,\"#bd3786\"],[0.5555555555555556,\"#d8576b\"],[0.6666666666666666,\"#ed7953\"],[0.7777777777777778,\"#fb9f3a\"],[0.8888888888888888,\"#fdca26\"],[1.0,\"#f0f921\"]],\"type\":\"histogram2d\"}],\"histogram2dcontour\":[{\"colorbar\":{\"outlinewidth\":0,\"ticks\":\"\"},\"colorscale\":[[0.0,\"#0d0887\"],[0.1111111111111111,\"#46039f\"],[0.2222222222222222,\"#7201a8\"],[0.3333333333333333,\"#9c179e\"],[0.4444444444444444,\"#bd3786\"],[0.5555555555555556,\"#d8576b\"],[0.6666666666666666,\"#ed7953\"],[0.7777777777777778,\"#fb9f3a\"],[0.8888888888888888,\"#fdca26\"],[1.0,\"#f0f921\"]],\"type\":\"histogram2dcontour\"}],\"mesh3d\":[{\"colorbar\":{\"outlinewidth\":0,\"ticks\":\"\"},\"type\":\"mesh3d\"}],\"parcoords\":[{\"line\":{\"colorbar\":{\"outlinewidth\":0,\"ticks\":\"\"}},\"type\":\"parcoords\"}],\"pie\":[{\"automargin\":true,\"type\":\"pie\"}],\"scatter\":[{\"marker\":{\"colorbar\":{\"outlinewidth\":0,\"ticks\":\"\"}},\"type\":\"scatter\"}],\"scatter3d\":[{\"line\":{\"colorbar\":{\"outlinewidth\":0,\"ticks\":\"\"}},\"marker\":{\"colorbar\":{\"outlinewidth\":0,\"ticks\":\"\"}},\"type\":\"scatter3d\"}],\"scattercarpet\":[{\"marker\":{\"colorbar\":{\"outlinewidth\":0,\"ticks\":\"\"}},\"type\":\"scattercarpet\"}],\"scattergeo\":[{\"marker\":{\"colorbar\":{\"outlinewidth\":0,\"ticks\":\"\"}},\"type\":\"scattergeo\"}],\"scattergl\":[{\"marker\":{\"colorbar\":{\"outlinewidth\":0,\"ticks\":\"\"}},\"type\":\"scattergl\"}],\"scattermapbox\":[{\"marker\":{\"colorbar\":{\"outlinewidth\":0,\"ticks\":\"\"}},\"type\":\"scattermapbox\"}],\"scatterpolar\":[{\"marker\":{\"colorbar\":{\"outlinewidth\":0,\"ticks\":\"\"}},\"type\":\"scatterpolar\"}],\"scatterpolargl\":[{\"marker\":{\"colorbar\":{\"outlinewidth\":0,\"ticks\":\"\"}},\"type\":\"scatterpolargl\"}],\"scatterternary\":[{\"marker\":{\"colorbar\":{\"outlinewidth\":0,\"ticks\":\"\"}},\"type\":\"scatterternary\"}],\"surface\":[{\"colorbar\":{\"outlinewidth\":0,\"ticks\":\"\"},\"colorscale\":[[0.0,\"#0d0887\"],[0.1111111111111111,\"#46039f\"],[0.2222222222222222,\"#7201a8\"],[0.3333333333333333,\"#9c179e\"],[0.4444444444444444,\"#bd3786\"],[0.5555555555555556,\"#d8576b\"],[0.6666666666666666,\"#ed7953\"],[0.7777777777777778,\"#fb9f3a\"],[0.8888888888888888,\"#fdca26\"],[1.0,\"#f0f921\"]],\"type\":\"surface\"}],\"table\":[{\"cells\":{\"fill\":{\"color\":\"#EBF0F8\"},\"line\":{\"color\":\"white\"}},\"header\":{\"fill\":{\"color\":\"#C8D4E3\"},\"line\":{\"color\":\"white\"}},\"type\":\"table\"}]},\"layout\":{\"annotationdefaults\":{\"arrowcolor\":\"#2a3f5f\",\"arrowhead\":0,\"arrowwidth\":1},\"autotypenumbers\":\"strict\",\"coloraxis\":{\"colorbar\":{\"outlinewidth\":0,\"ticks\":\"\"}},\"colorscale\":{\"diverging\":[[0,\"#8e0152\"],[0.1,\"#c51b7d\"],[0.2,\"#de77ae\"],[0.3,\"#f1b6da\"],[0.4,\"#fde0ef\"],[0.5,\"#f7f7f7\"],[0.6,\"#e6f5d0\"],[0.7,\"#b8e186\"],[0.8,\"#7fbc41\"],[0.9,\"#4d9221\"],[1,\"#276419\"]],\"sequential\":[[0.0,\"#0d0887\"],[0.1111111111111111,\"#46039f\"],[0.2222222222222222,\"#7201a8\"],[0.3333333333333333,\"#9c179e\"],[0.4444444444444444,\"#bd3786\"],[0.5555555555555556,\"#d8576b\"],[0.6666666666666666,\"#ed7953\"],[0.7777777777777778,\"#fb9f3a\"],[0.8888888888888888,\"#fdca26\"],[1.0,\"#f0f921\"]],\"sequentialminus\":[[0.0,\"#0d0887\"],[0.1111111111111111,\"#46039f\"],[0.2222222222222222,\"#7201a8\"],[0.3333333333333333,\"#9c179e\"],[0.4444444444444444,\"#bd3786\"],[0.5555555555555556,\"#d8576b\"],[0.6666666666666666,\"#ed7953\"],[0.7777777777777778,\"#fb9f3a\"],[0.8888888888888888,\"#fdca26\"],[1.0,\"#f0f921\"]]},\"colorway\":[\"#636efa\",\"#EF553B\",\"#00cc96\",\"#ab63fa\",\"#FFA15A\",\"#19d3f3\",\"#FF6692\",\"#B6E880\",\"#FF97FF\",\"#FECB52\"],\"font\":{\"color\":\"#2a3f5f\"},\"geo\":{\"bgcolor\":\"white\",\"lakecolor\":\"white\",\"landcolor\":\"#E5ECF6\",\"showlakes\":true,\"showland\":true,\"subunitcolor\":\"white\"},\"hoverlabel\":{\"align\":\"left\"},\"hovermode\":\"closest\",\"mapbox\":{\"style\":\"light\"},\"paper_bgcolor\":\"white\",\"plot_bgcolor\":\"#E5ECF6\",\"polar\":{\"angularaxis\":{\"gridcolor\":\"white\",\"linecolor\":\"white\",\"ticks\":\"\"},\"bgcolor\":\"#E5ECF6\",\"radialaxis\":{\"gridcolor\":\"white\",\"linecolor\":\"white\",\"ticks\":\"\"}},\"scene\":{\"xaxis\":{\"backgroundcolor\":\"#E5ECF6\",\"gridcolor\":\"white\",\"gridwidth\":2,\"linecolor\":\"white\",\"showbackground\":true,\"ticks\":\"\",\"zerolinecolor\":\"white\"},\"yaxis\":{\"backgroundcolor\":\"#E5ECF6\",\"gridcolor\":\"white\",\"gridwidth\":2,\"linecolor\":\"white\",\"showbackground\":true,\"ticks\":\"\",\"zerolinecolor\":\"white\"},\"zaxis\":{\"backgroundcolor\":\"#E5ECF6\",\"gridcolor\":\"white\",\"gridwidth\":2,\"linecolor\":\"white\",\"showbackground\":true,\"ticks\":\"\",\"zerolinecolor\":\"white\"}},\"shapedefaults\":{\"line\":{\"color\":\"#2a3f5f\"}},\"ternary\":{\"aaxis\":{\"gridcolor\":\"white\",\"linecolor\":\"white\",\"ticks\":\"\"},\"baxis\":{\"gridcolor\":\"white\",\"linecolor\":\"white\",\"ticks\":\"\"},\"bgcolor\":\"#E5ECF6\",\"caxis\":{\"gridcolor\":\"white\",\"linecolor\":\"white\",\"ticks\":\"\"}},\"title\":{\"x\":0.05},\"xaxis\":{\"automargin\":true,\"gridcolor\":\"white\",\"linecolor\":\"white\",\"ticks\":\"\",\"title\":{\"standoff\":15},\"zerolinecolor\":\"white\",\"zerolinewidth\":2},\"yaxis\":{\"automargin\":true,\"gridcolor\":\"white\",\"linecolor\":\"white\",\"ticks\":\"\",\"title\":{\"standoff\":15},\"zerolinecolor\":\"white\",\"zerolinewidth\":2}}},\"xaxis\":{\"anchor\":\"y\",\"domain\":[0.0,1.0],\"title\":{\"text\":\"qtd\"}},\"yaxis\":{\"anchor\":\"x\",\"domain\":[0.0,1.0],\"title\":{\"text\":\"genres\"}},\"legend\":{\"tracegroupgap\":0},\"title\":{\"text\":\"Top 10 G\\u00eaneros\"},\"barmode\":\"relative\"},                        {\"responsive\": true}                    )                };                            </script>        </div>\n</body>\n</html>",
       "datasetInfos": [],
       "metadata": {},
       "removedWidgets": [],
       "textData": null,
       "type": "htmlSandbox"
      }
     },
     "output_type": "display_data"
    }
   ],
   "source": [
    "plot_title = 'Top 10 Gêneros'\n",
    "top_generos.plot.bar(x='qtd', y='genres', title=plot_title) # Plota um gráfico de barras para os top 10 gêneros"
   ]
  },
  {
   "cell_type": "code",
   "execution_count": 0,
   "metadata": {
    "application/vnd.databricks.v1+cell": {
     "cellMetadata": {
      "byteLimit": 2048000,
      "rowLimit": 10000
     },
     "inputWidgets": {},
     "nuid": "40b8e1e3-b016-454c-a2cc-3fbd94b38f42",
     "showTitle": false,
     "tableResultSettingsMap": {},
     "title": ""
    }
   },
   "outputs": [],
   "source": [
    "top_generos_2 = Wgenres_2_ordenado.loc[1:11] "
   ]
  },
  {
   "cell_type": "code",
   "execution_count": 0,
   "metadata": {
    "application/vnd.databricks.v1+cell": {
     "cellMetadata": {
      "byteLimit": 2048000,
      "rowLimit": 10000
     },
     "inputWidgets": {},
     "nuid": "9c6822e0-45f3-4757-b980-77e49f8ac2f9",
     "showTitle": false,
     "tableResultSettingsMap": {},
     "title": ""
    }
   },
   "outputs": [
    {
     "output_type": "display_data",
     "data": {
      "text/html": [
       "<html>\n",
       "<head><meta charset=\"utf-8\" /></head>\n",
       "<body>\n",
       "    <div>            <script src=\"https://cdnjs.cloudflare.com/ajax/libs/mathjax/2.7.5/MathJax.js?config=TeX-AMS-MML_SVG\"></script><script type=\"text/javascript\">if (window.MathJax) {MathJax.Hub.Config({SVG: {font: \"STIX-Web\"}});}</script>                <script type=\"text/javascript\">window.PlotlyConfig = {MathJaxConfig: 'local'};</script>\n",
       "        <script src=\"https://cdn.plot.ly/plotly-2.9.0.min.js\"></script>                <div id=\"2445fc8a-68bf-4269-a81e-9c275e46826f\" class=\"plotly-graph-div\" style=\"height:100%; width:100%;\"></div>            <script type=\"text/javascript\">                                    window.PLOTLYENV=window.PLOTLYENV || {};                                    if (document.getElementById(\"2445fc8a-68bf-4269-a81e-9c275e46826f\")) {                    Plotly.newPlot(                        \"2445fc8a-68bf-4269-a81e-9c275e46826f\",                        [{\"alignmentgroup\":\"True\",\"hovertemplate\":\"qtd=%{x}<br>genres=%{y}<extra></extra>\",\"legendgroup\":\"\",\"marker\":{\"color\":\"#636efa\",\"pattern\":{\"shape\":\"\"}},\"name\":\"\",\"offsetgroup\":\"\",\"orientation\":\"h\",\"showlegend\":false,\"textposition\":\"auto\",\"x\":[69,63,56,50,48,45,42,41,41,40,39],\"xaxis\":\"x\",\"y\":[\"movie tunes\",\"show tunes\",\"hollywood\",\"orchestral performance\",\"broadway; hollywood; show tunes\",\"disney; movie tunes\",\"sleep\",\"contemporary country; country; country road; modern country rock\",\"gospel\",\"classical soprano\",\"latin; latin hip hop; reggaeton; reggaeton flow; trap latino; tropical\"],\"yaxis\":\"y\",\"type\":\"bar\"}],                        {\"template\":{\"data\":{\"bar\":[{\"error_x\":{\"color\":\"#2a3f5f\"},\"error_y\":{\"color\":\"#2a3f5f\"},\"marker\":{\"line\":{\"color\":\"#E5ECF6\",\"width\":0.5},\"pattern\":{\"fillmode\":\"overlay\",\"size\":10,\"solidity\":0.2}},\"type\":\"bar\"}],\"barpolar\":[{\"marker\":{\"line\":{\"color\":\"#E5ECF6\",\"width\":0.5},\"pattern\":{\"fillmode\":\"overlay\",\"size\":10,\"solidity\":0.2}},\"type\":\"barpolar\"}],\"carpet\":[{\"aaxis\":{\"endlinecolor\":\"#2a3f5f\",\"gridcolor\":\"white\",\"linecolor\":\"white\",\"minorgridcolor\":\"white\",\"startlinecolor\":\"#2a3f5f\"},\"baxis\":{\"endlinecolor\":\"#2a3f5f\",\"gridcolor\":\"white\",\"linecolor\":\"white\",\"minorgridcolor\":\"white\",\"startlinecolor\":\"#2a3f5f\"},\"type\":\"carpet\"}],\"choropleth\":[{\"colorbar\":{\"outlinewidth\":0,\"ticks\":\"\"},\"type\":\"choropleth\"}],\"contour\":[{\"colorbar\":{\"outlinewidth\":0,\"ticks\":\"\"},\"colorscale\":[[0.0,\"#0d0887\"],[0.1111111111111111,\"#46039f\"],[0.2222222222222222,\"#7201a8\"],[0.3333333333333333,\"#9c179e\"],[0.4444444444444444,\"#bd3786\"],[0.5555555555555556,\"#d8576b\"],[0.6666666666666666,\"#ed7953\"],[0.7777777777777778,\"#fb9f3a\"],[0.8888888888888888,\"#fdca26\"],[1.0,\"#f0f921\"]],\"type\":\"contour\"}],\"contourcarpet\":[{\"colorbar\":{\"outlinewidth\":0,\"ticks\":\"\"},\"type\":\"contourcarpet\"}],\"heatmap\":[{\"colorbar\":{\"outlinewidth\":0,\"ticks\":\"\"},\"colorscale\":[[0.0,\"#0d0887\"],[0.1111111111111111,\"#46039f\"],[0.2222222222222222,\"#7201a8\"],[0.3333333333333333,\"#9c179e\"],[0.4444444444444444,\"#bd3786\"],[0.5555555555555556,\"#d8576b\"],[0.6666666666666666,\"#ed7953\"],[0.7777777777777778,\"#fb9f3a\"],[0.8888888888888888,\"#fdca26\"],[1.0,\"#f0f921\"]],\"type\":\"heatmap\"}],\"heatmapgl\":[{\"colorbar\":{\"outlinewidth\":0,\"ticks\":\"\"},\"colorscale\":[[0.0,\"#0d0887\"],[0.1111111111111111,\"#46039f\"],[0.2222222222222222,\"#7201a8\"],[0.3333333333333333,\"#9c179e\"],[0.4444444444444444,\"#bd3786\"],[0.5555555555555556,\"#d8576b\"],[0.6666666666666666,\"#ed7953\"],[0.7777777777777778,\"#fb9f3a\"],[0.8888888888888888,\"#fdca26\"],[1.0,\"#f0f921\"]],\"type\":\"heatmapgl\"}],\"histogram\":[{\"marker\":{\"pattern\":{\"fillmode\":\"overlay\",\"size\":10,\"solidity\":0.2}},\"type\":\"histogram\"}],\"histogram2d\":[{\"colorbar\":{\"outlinewidth\":0,\"ticks\":\"\"},\"colorscale\":[[0.0,\"#0d0887\"],[0.1111111111111111,\"#46039f\"],[0.2222222222222222,\"#7201a8\"],[0.3333333333333333,\"#9c179e\"],[0.4444444444444444,\"#bd3786\"],[0.5555555555555556,\"#d8576b\"],[0.6666666666666666,\"#ed7953\"],[0.7777777777777778,\"#fb9f3a\"],[0.8888888888888888,\"#fdca26\"],[1.0,\"#f0f921\"]],\"type\":\"histogram2d\"}],\"histogram2dcontour\":[{\"colorbar\":{\"outlinewidth\":0,\"ticks\":\"\"},\"colorscale\":[[0.0,\"#0d0887\"],[0.1111111111111111,\"#46039f\"],[0.2222222222222222,\"#7201a8\"],[0.3333333333333333,\"#9c179e\"],[0.4444444444444444,\"#bd3786\"],[0.5555555555555556,\"#d8576b\"],[0.6666666666666666,\"#ed7953\"],[0.7777777777777778,\"#fb9f3a\"],[0.8888888888888888,\"#fdca26\"],[1.0,\"#f0f921\"]],\"type\":\"histogram2dcontour\"}],\"mesh3d\":[{\"colorbar\":{\"outlinewidth\":0,\"ticks\":\"\"},\"type\":\"mesh3d\"}],\"parcoords\":[{\"line\":{\"colorbar\":{\"outlinewidth\":0,\"ticks\":\"\"}},\"type\":\"parcoords\"}],\"pie\":[{\"automargin\":true,\"type\":\"pie\"}],\"scatter\":[{\"marker\":{\"colorbar\":{\"outlinewidth\":0,\"ticks\":\"\"}},\"type\":\"scatter\"}],\"scatter3d\":[{\"line\":{\"colorbar\":{\"outlinewidth\":0,\"ticks\":\"\"}},\"marker\":{\"colorbar\":{\"outlinewidth\":0,\"ticks\":\"\"}},\"type\":\"scatter3d\"}],\"scattercarpet\":[{\"marker\":{\"colorbar\":{\"outlinewidth\":0,\"ticks\":\"\"}},\"type\":\"scattercarpet\"}],\"scattergeo\":[{\"marker\":{\"colorbar\":{\"outlinewidth\":0,\"ticks\":\"\"}},\"type\":\"scattergeo\"}],\"scattergl\":[{\"marker\":{\"colorbar\":{\"outlinewidth\":0,\"ticks\":\"\"}},\"type\":\"scattergl\"}],\"scattermapbox\":[{\"marker\":{\"colorbar\":{\"outlinewidth\":0,\"ticks\":\"\"}},\"type\":\"scattermapbox\"}],\"scatterpolar\":[{\"marker\":{\"colorbar\":{\"outlinewidth\":0,\"ticks\":\"\"}},\"type\":\"scatterpolar\"}],\"scatterpolargl\":[{\"marker\":{\"colorbar\":{\"outlinewidth\":0,\"ticks\":\"\"}},\"type\":\"scatterpolargl\"}],\"scatterternary\":[{\"marker\":{\"colorbar\":{\"outlinewidth\":0,\"ticks\":\"\"}},\"type\":\"scatterternary\"}],\"surface\":[{\"colorbar\":{\"outlinewidth\":0,\"ticks\":\"\"},\"colorscale\":[[0.0,\"#0d0887\"],[0.1111111111111111,\"#46039f\"],[0.2222222222222222,\"#7201a8\"],[0.3333333333333333,\"#9c179e\"],[0.4444444444444444,\"#bd3786\"],[0.5555555555555556,\"#d8576b\"],[0.6666666666666666,\"#ed7953\"],[0.7777777777777778,\"#fb9f3a\"],[0.8888888888888888,\"#fdca26\"],[1.0,\"#f0f921\"]],\"type\":\"surface\"}],\"table\":[{\"cells\":{\"fill\":{\"color\":\"#EBF0F8\"},\"line\":{\"color\":\"white\"}},\"header\":{\"fill\":{\"color\":\"#C8D4E3\"},\"line\":{\"color\":\"white\"}},\"type\":\"table\"}]},\"layout\":{\"annotationdefaults\":{\"arrowcolor\":\"#2a3f5f\",\"arrowhead\":0,\"arrowwidth\":1},\"autotypenumbers\":\"strict\",\"coloraxis\":{\"colorbar\":{\"outlinewidth\":0,\"ticks\":\"\"}},\"colorscale\":{\"diverging\":[[0,\"#8e0152\"],[0.1,\"#c51b7d\"],[0.2,\"#de77ae\"],[0.3,\"#f1b6da\"],[0.4,\"#fde0ef\"],[0.5,\"#f7f7f7\"],[0.6,\"#e6f5d0\"],[0.7,\"#b8e186\"],[0.8,\"#7fbc41\"],[0.9,\"#4d9221\"],[1,\"#276419\"]],\"sequential\":[[0.0,\"#0d0887\"],[0.1111111111111111,\"#46039f\"],[0.2222222222222222,\"#7201a8\"],[0.3333333333333333,\"#9c179e\"],[0.4444444444444444,\"#bd3786\"],[0.5555555555555556,\"#d8576b\"],[0.6666666666666666,\"#ed7953\"],[0.7777777777777778,\"#fb9f3a\"],[0.8888888888888888,\"#fdca26\"],[1.0,\"#f0f921\"]],\"sequentialminus\":[[0.0,\"#0d0887\"],[0.1111111111111111,\"#46039f\"],[0.2222222222222222,\"#7201a8\"],[0.3333333333333333,\"#9c179e\"],[0.4444444444444444,\"#bd3786\"],[0.5555555555555556,\"#d8576b\"],[0.6666666666666666,\"#ed7953\"],[0.7777777777777778,\"#fb9f3a\"],[0.8888888888888888,\"#fdca26\"],[1.0,\"#f0f921\"]]},\"colorway\":[\"#636efa\",\"#EF553B\",\"#00cc96\",\"#ab63fa\",\"#FFA15A\",\"#19d3f3\",\"#FF6692\",\"#B6E880\",\"#FF97FF\",\"#FECB52\"],\"font\":{\"color\":\"#2a3f5f\"},\"geo\":{\"bgcolor\":\"white\",\"lakecolor\":\"white\",\"landcolor\":\"#E5ECF6\",\"showlakes\":true,\"showland\":true,\"subunitcolor\":\"white\"},\"hoverlabel\":{\"align\":\"left\"},\"hovermode\":\"closest\",\"mapbox\":{\"style\":\"light\"},\"paper_bgcolor\":\"white\",\"plot_bgcolor\":\"#E5ECF6\",\"polar\":{\"angularaxis\":{\"gridcolor\":\"white\",\"linecolor\":\"white\",\"ticks\":\"\"},\"bgcolor\":\"#E5ECF6\",\"radialaxis\":{\"gridcolor\":\"white\",\"linecolor\":\"white\",\"ticks\":\"\"}},\"scene\":{\"xaxis\":{\"backgroundcolor\":\"#E5ECF6\",\"gridcolor\":\"white\",\"gridwidth\":2,\"linecolor\":\"white\",\"showbackground\":true,\"ticks\":\"\",\"zerolinecolor\":\"white\"},\"yaxis\":{\"backgroundcolor\":\"#E5ECF6\",\"gridcolor\":\"white\",\"gridwidth\":2,\"linecolor\":\"white\",\"showbackground\":true,\"ticks\":\"\",\"zerolinecolor\":\"white\"},\"zaxis\":{\"backgroundcolor\":\"#E5ECF6\",\"gridcolor\":\"white\",\"gridwidth\":2,\"linecolor\":\"white\",\"showbackground\":true,\"ticks\":\"\",\"zerolinecolor\":\"white\"}},\"shapedefaults\":{\"line\":{\"color\":\"#2a3f5f\"}},\"ternary\":{\"aaxis\":{\"gridcolor\":\"white\",\"linecolor\":\"white\",\"ticks\":\"\"},\"baxis\":{\"gridcolor\":\"white\",\"linecolor\":\"white\",\"ticks\":\"\"},\"bgcolor\":\"#E5ECF6\",\"caxis\":{\"gridcolor\":\"white\",\"linecolor\":\"white\",\"ticks\":\"\"}},\"title\":{\"x\":0.05},\"xaxis\":{\"automargin\":true,\"gridcolor\":\"white\",\"linecolor\":\"white\",\"ticks\":\"\",\"title\":{\"standoff\":15},\"zerolinecolor\":\"white\",\"zerolinewidth\":2},\"yaxis\":{\"automargin\":true,\"gridcolor\":\"white\",\"linecolor\":\"white\",\"ticks\":\"\",\"title\":{\"standoff\":15},\"zerolinecolor\":\"white\",\"zerolinewidth\":2}}},\"xaxis\":{\"anchor\":\"y\",\"domain\":[0.0,1.0],\"title\":{\"text\":\"qtd\"}},\"yaxis\":{\"anchor\":\"x\",\"domain\":[0.0,1.0],\"title\":{\"text\":\"genres\"}},\"legend\":{\"tracegroupgap\":0},\"title\":{\"text\":\"Top 10 G\\u00eaneros\"},\"barmode\":\"relative\"},                        {\"responsive\": true}                    )                };                            </script>        </div>\n",
       "</body>\n",
       "</html>"
      ]
     },
     "metadata": {
      "application/vnd.databricks.v1+output": {
       "addedWidgets": {},
       "arguments": {},
       "data": "<html>\n<head><meta charset=\"utf-8\" /></head>\n<body>\n    <div>            <script src=\"https://cdnjs.cloudflare.com/ajax/libs/mathjax/2.7.5/MathJax.js?config=TeX-AMS-MML_SVG\"></script><script type=\"text/javascript\">if (window.MathJax) {MathJax.Hub.Config({SVG: {font: \"STIX-Web\"}});}</script>                <script type=\"text/javascript\">window.PlotlyConfig = {MathJaxConfig: 'local'};</script>\n        <script src=\"https://cdn.plot.ly/plotly-2.9.0.min.js\"></script>                <div id=\"2445fc8a-68bf-4269-a81e-9c275e46826f\" class=\"plotly-graph-div\" style=\"height:100%; width:100%;\"></div>            <script type=\"text/javascript\">                                    window.PLOTLYENV=window.PLOTLYENV || {};                                    if (document.getElementById(\"2445fc8a-68bf-4269-a81e-9c275e46826f\")) {                    Plotly.newPlot(                        \"2445fc8a-68bf-4269-a81e-9c275e46826f\",                        [{\"alignmentgroup\":\"True\",\"hovertemplate\":\"qtd=%{x}<br>genres=%{y}<extra></extra>\",\"legendgroup\":\"\",\"marker\":{\"color\":\"#636efa\",\"pattern\":{\"shape\":\"\"}},\"name\":\"\",\"offsetgroup\":\"\",\"orientation\":\"h\",\"showlegend\":false,\"textposition\":\"auto\",\"x\":[69,63,56,50,48,45,42,41,41,40,39],\"xaxis\":\"x\",\"y\":[\"movie tunes\",\"show tunes\",\"hollywood\",\"orchestral performance\",\"broadway; hollywood; show tunes\",\"disney; movie tunes\",\"sleep\",\"contemporary country; country; country road; modern country rock\",\"gospel\",\"classical soprano\",\"latin; latin hip hop; reggaeton; reggaeton flow; trap latino; tropical\"],\"yaxis\":\"y\",\"type\":\"bar\"}],                        {\"template\":{\"data\":{\"bar\":[{\"error_x\":{\"color\":\"#2a3f5f\"},\"error_y\":{\"color\":\"#2a3f5f\"},\"marker\":{\"line\":{\"color\":\"#E5ECF6\",\"width\":0.5},\"pattern\":{\"fillmode\":\"overlay\",\"size\":10,\"solidity\":0.2}},\"type\":\"bar\"}],\"barpolar\":[{\"marker\":{\"line\":{\"color\":\"#E5ECF6\",\"width\":0.5},\"pattern\":{\"fillmode\":\"overlay\",\"size\":10,\"solidity\":0.2}},\"type\":\"barpolar\"}],\"carpet\":[{\"aaxis\":{\"endlinecolor\":\"#2a3f5f\",\"gridcolor\":\"white\",\"linecolor\":\"white\",\"minorgridcolor\":\"white\",\"startlinecolor\":\"#2a3f5f\"},\"baxis\":{\"endlinecolor\":\"#2a3f5f\",\"gridcolor\":\"white\",\"linecolor\":\"white\",\"minorgridcolor\":\"white\",\"startlinecolor\":\"#2a3f5f\"},\"type\":\"carpet\"}],\"choropleth\":[{\"colorbar\":{\"outlinewidth\":0,\"ticks\":\"\"},\"type\":\"choropleth\"}],\"contour\":[{\"colorbar\":{\"outlinewidth\":0,\"ticks\":\"\"},\"colorscale\":[[0.0,\"#0d0887\"],[0.1111111111111111,\"#46039f\"],[0.2222222222222222,\"#7201a8\"],[0.3333333333333333,\"#9c179e\"],[0.4444444444444444,\"#bd3786\"],[0.5555555555555556,\"#d8576b\"],[0.6666666666666666,\"#ed7953\"],[0.7777777777777778,\"#fb9f3a\"],[0.8888888888888888,\"#fdca26\"],[1.0,\"#f0f921\"]],\"type\":\"contour\"}],\"contourcarpet\":[{\"colorbar\":{\"outlinewidth\":0,\"ticks\":\"\"},\"type\":\"contourcarpet\"}],\"heatmap\":[{\"colorbar\":{\"outlinewidth\":0,\"ticks\":\"\"},\"colorscale\":[[0.0,\"#0d0887\"],[0.1111111111111111,\"#46039f\"],[0.2222222222222222,\"#7201a8\"],[0.3333333333333333,\"#9c179e\"],[0.4444444444444444,\"#bd3786\"],[0.5555555555555556,\"#d8576b\"],[0.6666666666666666,\"#ed7953\"],[0.7777777777777778,\"#fb9f3a\"],[0.8888888888888888,\"#fdca26\"],[1.0,\"#f0f921\"]],\"type\":\"heatmap\"}],\"heatmapgl\":[{\"colorbar\":{\"outlinewidth\":0,\"ticks\":\"\"},\"colorscale\":[[0.0,\"#0d0887\"],[0.1111111111111111,\"#46039f\"],[0.2222222222222222,\"#7201a8\"],[0.3333333333333333,\"#9c179e\"],[0.4444444444444444,\"#bd3786\"],[0.5555555555555556,\"#d8576b\"],[0.6666666666666666,\"#ed7953\"],[0.7777777777777778,\"#fb9f3a\"],[0.8888888888888888,\"#fdca26\"],[1.0,\"#f0f921\"]],\"type\":\"heatmapgl\"}],\"histogram\":[{\"marker\":{\"pattern\":{\"fillmode\":\"overlay\",\"size\":10,\"solidity\":0.2}},\"type\":\"histogram\"}],\"histogram2d\":[{\"colorbar\":{\"outlinewidth\":0,\"ticks\":\"\"},\"colorscale\":[[0.0,\"#0d0887\"],[0.1111111111111111,\"#46039f\"],[0.2222222222222222,\"#7201a8\"],[0.3333333333333333,\"#9c179e\"],[0.4444444444444444,\"#bd3786\"],[0.5555555555555556,\"#d8576b\"],[0.6666666666666666,\"#ed7953\"],[0.7777777777777778,\"#fb9f3a\"],[0.8888888888888888,\"#fdca26\"],[1.0,\"#f0f921\"]],\"type\":\"histogram2d\"}],\"histogram2dcontour\":[{\"colorbar\":{\"outlinewidth\":0,\"ticks\":\"\"},\"colorscale\":[[0.0,\"#0d0887\"],[0.1111111111111111,\"#46039f\"],[0.2222222222222222,\"#7201a8\"],[0.3333333333333333,\"#9c179e\"],[0.4444444444444444,\"#bd3786\"],[0.5555555555555556,\"#d8576b\"],[0.6666666666666666,\"#ed7953\"],[0.7777777777777778,\"#fb9f3a\"],[0.8888888888888888,\"#fdca26\"],[1.0,\"#f0f921\"]],\"type\":\"histogram2dcontour\"}],\"mesh3d\":[{\"colorbar\":{\"outlinewidth\":0,\"ticks\":\"\"},\"type\":\"mesh3d\"}],\"parcoords\":[{\"line\":{\"colorbar\":{\"outlinewidth\":0,\"ticks\":\"\"}},\"type\":\"parcoords\"}],\"pie\":[{\"automargin\":true,\"type\":\"pie\"}],\"scatter\":[{\"marker\":{\"colorbar\":{\"outlinewidth\":0,\"ticks\":\"\"}},\"type\":\"scatter\"}],\"scatter3d\":[{\"line\":{\"colorbar\":{\"outlinewidth\":0,\"ticks\":\"\"}},\"marker\":{\"colorbar\":{\"outlinewidth\":0,\"ticks\":\"\"}},\"type\":\"scatter3d\"}],\"scattercarpet\":[{\"marker\":{\"colorbar\":{\"outlinewidth\":0,\"ticks\":\"\"}},\"type\":\"scattercarpet\"}],\"scattergeo\":[{\"marker\":{\"colorbar\":{\"outlinewidth\":0,\"ticks\":\"\"}},\"type\":\"scattergeo\"}],\"scattergl\":[{\"marker\":{\"colorbar\":{\"outlinewidth\":0,\"ticks\":\"\"}},\"type\":\"scattergl\"}],\"scattermapbox\":[{\"marker\":{\"colorbar\":{\"outlinewidth\":0,\"ticks\":\"\"}},\"type\":\"scattermapbox\"}],\"scatterpolar\":[{\"marker\":{\"colorbar\":{\"outlinewidth\":0,\"ticks\":\"\"}},\"type\":\"scatterpolar\"}],\"scatterpolargl\":[{\"marker\":{\"colorbar\":{\"outlinewidth\":0,\"ticks\":\"\"}},\"type\":\"scatterpolargl\"}],\"scatterternary\":[{\"marker\":{\"colorbar\":{\"outlinewidth\":0,\"ticks\":\"\"}},\"type\":\"scatterternary\"}],\"surface\":[{\"colorbar\":{\"outlinewidth\":0,\"ticks\":\"\"},\"colorscale\":[[0.0,\"#0d0887\"],[0.1111111111111111,\"#46039f\"],[0.2222222222222222,\"#7201a8\"],[0.3333333333333333,\"#9c179e\"],[0.4444444444444444,\"#bd3786\"],[0.5555555555555556,\"#d8576b\"],[0.6666666666666666,\"#ed7953\"],[0.7777777777777778,\"#fb9f3a\"],[0.8888888888888888,\"#fdca26\"],[1.0,\"#f0f921\"]],\"type\":\"surface\"}],\"table\":[{\"cells\":{\"fill\":{\"color\":\"#EBF0F8\"},\"line\":{\"color\":\"white\"}},\"header\":{\"fill\":{\"color\":\"#C8D4E3\"},\"line\":{\"color\":\"white\"}},\"type\":\"table\"}]},\"layout\":{\"annotationdefaults\":{\"arrowcolor\":\"#2a3f5f\",\"arrowhead\":0,\"arrowwidth\":1},\"autotypenumbers\":\"strict\",\"coloraxis\":{\"colorbar\":{\"outlinewidth\":0,\"ticks\":\"\"}},\"colorscale\":{\"diverging\":[[0,\"#8e0152\"],[0.1,\"#c51b7d\"],[0.2,\"#de77ae\"],[0.3,\"#f1b6da\"],[0.4,\"#fde0ef\"],[0.5,\"#f7f7f7\"],[0.6,\"#e6f5d0\"],[0.7,\"#b8e186\"],[0.8,\"#7fbc41\"],[0.9,\"#4d9221\"],[1,\"#276419\"]],\"sequential\":[[0.0,\"#0d0887\"],[0.1111111111111111,\"#46039f\"],[0.2222222222222222,\"#7201a8\"],[0.3333333333333333,\"#9c179e\"],[0.4444444444444444,\"#bd3786\"],[0.5555555555555556,\"#d8576b\"],[0.6666666666666666,\"#ed7953\"],[0.7777777777777778,\"#fb9f3a\"],[0.8888888888888888,\"#fdca26\"],[1.0,\"#f0f921\"]],\"sequentialminus\":[[0.0,\"#0d0887\"],[0.1111111111111111,\"#46039f\"],[0.2222222222222222,\"#7201a8\"],[0.3333333333333333,\"#9c179e\"],[0.4444444444444444,\"#bd3786\"],[0.5555555555555556,\"#d8576b\"],[0.6666666666666666,\"#ed7953\"],[0.7777777777777778,\"#fb9f3a\"],[0.8888888888888888,\"#fdca26\"],[1.0,\"#f0f921\"]]},\"colorway\":[\"#636efa\",\"#EF553B\",\"#00cc96\",\"#ab63fa\",\"#FFA15A\",\"#19d3f3\",\"#FF6692\",\"#B6E880\",\"#FF97FF\",\"#FECB52\"],\"font\":{\"color\":\"#2a3f5f\"},\"geo\":{\"bgcolor\":\"white\",\"lakecolor\":\"white\",\"landcolor\":\"#E5ECF6\",\"showlakes\":true,\"showland\":true,\"subunitcolor\":\"white\"},\"hoverlabel\":{\"align\":\"left\"},\"hovermode\":\"closest\",\"mapbox\":{\"style\":\"light\"},\"paper_bgcolor\":\"white\",\"plot_bgcolor\":\"#E5ECF6\",\"polar\":{\"angularaxis\":{\"gridcolor\":\"white\",\"linecolor\":\"white\",\"ticks\":\"\"},\"bgcolor\":\"#E5ECF6\",\"radialaxis\":{\"gridcolor\":\"white\",\"linecolor\":\"white\",\"ticks\":\"\"}},\"scene\":{\"xaxis\":{\"backgroundcolor\":\"#E5ECF6\",\"gridcolor\":\"white\",\"gridwidth\":2,\"linecolor\":\"white\",\"showbackground\":true,\"ticks\":\"\",\"zerolinecolor\":\"white\"},\"yaxis\":{\"backgroundcolor\":\"#E5ECF6\",\"gridcolor\":\"white\",\"gridwidth\":2,\"linecolor\":\"white\",\"showbackground\":true,\"ticks\":\"\",\"zerolinecolor\":\"white\"},\"zaxis\":{\"backgroundcolor\":\"#E5ECF6\",\"gridcolor\":\"white\",\"gridwidth\":2,\"linecolor\":\"white\",\"showbackground\":true,\"ticks\":\"\",\"zerolinecolor\":\"white\"}},\"shapedefaults\":{\"line\":{\"color\":\"#2a3f5f\"}},\"ternary\":{\"aaxis\":{\"gridcolor\":\"white\",\"linecolor\":\"white\",\"ticks\":\"\"},\"baxis\":{\"gridcolor\":\"white\",\"linecolor\":\"white\",\"ticks\":\"\"},\"bgcolor\":\"#E5ECF6\",\"caxis\":{\"gridcolor\":\"white\",\"linecolor\":\"white\",\"ticks\":\"\"}},\"title\":{\"x\":0.05},\"xaxis\":{\"automargin\":true,\"gridcolor\":\"white\",\"linecolor\":\"white\",\"ticks\":\"\",\"title\":{\"standoff\":15},\"zerolinecolor\":\"white\",\"zerolinewidth\":2},\"yaxis\":{\"automargin\":true,\"gridcolor\":\"white\",\"linecolor\":\"white\",\"ticks\":\"\",\"title\":{\"standoff\":15},\"zerolinecolor\":\"white\",\"zerolinewidth\":2}}},\"xaxis\":{\"anchor\":\"y\",\"domain\":[0.0,1.0],\"title\":{\"text\":\"qtd\"}},\"yaxis\":{\"anchor\":\"x\",\"domain\":[0.0,1.0],\"title\":{\"text\":\"genres\"}},\"legend\":{\"tracegroupgap\":0},\"title\":{\"text\":\"Top 10 G\\u00eaneros\"},\"barmode\":\"relative\"},                        {\"responsive\": true}                    )                };                            </script>        </div>\n</body>\n</html>",
       "datasetInfos": [],
       "metadata": {},
       "removedWidgets": [],
       "textData": null,
       "type": "htmlSandbox"
      }
     },
     "output_type": "display_data"
    }
   ],
   "source": [
    "plot_title = 'Top 10 Gêneros'\n",
    "top_generos_2.plot.bar(x='qtd', y='genres', title=plot_title) "
   ]
  },
  {
   "cell_type": "code",
   "execution_count": 0,
   "metadata": {
    "application/vnd.databricks.v1+cell": {
     "cellMetadata": {
      "byteLimit": 2048000,
      "rowLimit": 10000
     },
     "inputWidgets": {},
     "nuid": "712aab04-c9c3-4a5d-bfa6-1538558bb5f8",
     "showTitle": false,
     "tableResultSettingsMap": {},
     "title": ""
    }
   },
   "outputs": [
    {
     "output_type": "display_data",
     "data": {
      "text/html": [
       "<style scoped>\n",
       "  .table-result-container {\n",
       "    max-height: 300px;\n",
       "    overflow: auto;\n",
       "  }\n",
       "  table, th, td {\n",
       "    border: 1px solid black;\n",
       "    border-collapse: collapse;\n",
       "  }\n",
       "  th, td {\n",
       "    padding: 5px;\n",
       "  }\n",
       "  th {\n",
       "    text-align: left;\n",
       "  }\n",
       "</style><div class='table-result-container'><table class='table-result'><thead style='background-color: white'><tr><th>genres</th><th>artists</th></tr></thead><tbody><tr><td>show tunes</td><td>Cats 1981 Original London Cast</td></tr><tr><td>broadway; hollywood; show tunes</td><td>'Legally Blonde' Ensemble</td></tr><tr><td>show tunes</td><td>'Legally Blonde' Greek Chorus</td></tr><tr><td>broadway; hollywood; show tunes</td><td>Aaron Tveit</td></tr><tr><td>broadway; hollywood; show tunes</td><td>Adam Pascal</td></tr><tr><td>movie tunes</td><td>Adriana Caselotti</td></tr><tr><td>classical soprano</td><td>Adrianne Pieczonka</td></tr><tr><td>classical soprano</td><td>Agnes Giebel</td></tr><tr><td>gospel</td><td>Albertina Walker</td></tr><tr><td>broadway; hollywood; show tunes</td><td>Alex Brightman</td></tr><tr><td>latin; latin hip hop; reggaeton; reggaeton flow; trap latino; tropical</td><td>Alex Gargolas</td></tr><tr><td>latin; latin hip hop; reggaeton; reggaeton flow; trap latino; tropical</td><td>Alexis y Fido</td></tr><tr><td>broadway; hollywood; show tunes</td><td>Alice Ripley</td></tr><tr><td>movie tunes</td><td>Alice Sixer</td></tr><tr><td>show tunes</td><td>Amanda Bynes</td></tr><tr><td>show tunes</td><td>Amy Spanger</td></tr><tr><td>show tunes</td><td>Andrea Burns</td></tr><tr><td>classical soprano</td><td>Andrea Rost</td></tr><tr><td>orchestral performance</td><td>André Cluytens</td></tr><tr><td>orchestral performance</td><td>André Previn</td></tr><tr><td>show tunes</td><td>Angela Cartwright</td></tr><tr><td>classical soprano</td><td>Anna Tomowa-Sintow</td></tr><tr><td>broadway; hollywood; show tunes</td><td>Annaleigh Ashford</td></tr><tr><td>classical soprano</td><td>Anneliese Rothenberger</td></tr><tr><td>gospel</td><td>Anthony Brown & group therAPy</td></tr><tr><td>movie tunes</td><td>Anthony Gonzalez</td></tr><tr><td>broadway; hollywood; show tunes</td><td>Anthony Rapp</td></tr><tr><td>orchestral performance</td><td>Antoni Wit</td></tr><tr><td>hollywood</td><td>Antonio Banderas</td></tr><tr><td>movie tunes</td><td>Ashley Lilley</td></tr><tr><td>classical soprano</td><td>Astrid Varnay</td></tr><tr><td>show tunes</td><td>Austyn Johnson</td></tr><tr><td>latin; latin hip hop; reggaeton; reggaeton flow; trap latino; tropical</td><td>Baby Rasta</td></tr><tr><td>sleep</td><td>Baby Sleep</td></tr><tr><td>sleep</td><td>Baby Sweet Dream</td></tr><tr><td>broadway; hollywood; show tunes</td><td>Barrett Wilbert Weed</td></tr><tr><td>hollywood</td><td>Barry Bostwick</td></tr><tr><td>disney; movie tunes</td><td>Beaumont</td></tr><tr><td>gospel</td><td>Bebe & Cece Winans</td></tr><tr><td>broadway; hollywood; show tunes</td><td>Bebe Neuwirth</td></tr><tr><td>gospel</td><td>Bebe Winans</td></tr><tr><td>sleep</td><td>Bedtime Baby</td></tr><tr><td>broadway; hollywood; show tunes</td><td>Ben Fankhauser</td></tr><tr><td>show tunes</td><td>Benjamin Schrader</td></tr><tr><td>contemporary country; country; country road; modern country rock</td><td>Bent</td></tr><tr><td>broadway; hollywood; show tunes</td><td>Bernadette Peters</td></tr><tr><td>disney; movie tunes</td><td>Beth Fowler</td></tr><tr><td>movie tunes</td><td>Betty Noyes</td></tr><tr><td>classical soprano</td><td>Bidu Sayão</td></tr><tr><td>contemporary country; country; country road; modern country rock</td><td>Big & Rich</td></tr><tr><td>movie tunes</td><td>Bill Farmer</td></tr><tr><td>disney; movie tunes</td><td>Bill Shirley</td></tr><tr><td>disney; movie tunes</td><td>Bill Thompson</td></tr><tr><td>movie tunes</td><td>Billy Bletcher</td></tr><tr><td>contemporary country; country; country road; modern country rock</td><td>Billy Currington</td></tr><tr><td>broadway; hollywood; show tunes</td><td>Billy Porter</td></tr><tr><td>gospel</td><td>Bishop Paul S. Morton, Sr.</td></tr><tr><td>disney; movie tunes</td><td>Bobby Driscoll</td></tr><tr><td>hollywood</td><td>Bonham</td></tr><tr><td>movie tunes</td><td>Brad Garrett</td></tr><tr><td>disney; movie tunes</td><td>Brad Kane</td></tr><tr><td>hollywood</td><td>Bradley Cooper</td></tr><tr><td>contemporary country; country; country road; modern country rock</td><td>Brett Eldredge</td></tr><tr><td>gospel</td><td>Brian Courtney Wilson</td></tr><tr><td>broadway; hollywood; show tunes</td><td>Brian D'Arcy James</td></tr><tr><td>show tunes</td><td>Brian Sears</td></tr><tr><td>gospel</td><td>Brian Wilson</td></tr><tr><td>hollywood</td><td>Brittany Snow</td></tr><tr><td>movie tunes</td><td>Bruce Adler</td></tr><tr><td>disney; movie tunes</td><td>Bruce Reitherman</td></tr><tr><td>hollywood</td><td>Bruce Willis</td></tr><tr><td>latin; latin hip hop; reggaeton; reggaeton flow; trap latino; tropical</td><td>Brytiago</td></tr><tr><td>contemporary country; country; country road; modern country rock</td><td>Bucky Covington</td></tr><tr><td>movie tunes</td><td>Burke Moses</td></tr><tr><td>sleep</td><td>Calming Sounds</td></tr><tr><td>movie tunes</td><td>Cameron Seely</td></tr><tr><td>disney; movie tunes</td><td>Carmen Twillie</td></tr><tr><td>broadway; hollywood; show tunes</td><td>Caroline O'Connor</td></tr><tr><td>broadway; hollywood; show tunes</td><td>Carrie Fletcher</td></tr><tr><td>latin; latin hip hop; reggaeton; reggaeton flow; trap latino; tropical</td><td>Casa De Leones</td></tr><tr><td>latin; latin hip hop; reggaeton; reggaeton flow; trap latino; tropical</td><td>Casper Magico</td></tr><tr><td>movie tunes</td><td>Cast - The Nightmare Before Christmas</td></tr><tr><td>hollywood</td><td>Cast Of Mamma Mia The Movie</td></tr><tr><td>gospel</td><td>CeCe Winans</td></tr><tr><td>contemporary country; country; country road; modern country rock</td><td>Chase</td></tr><tr><td>contemporary country; country; country road; modern country rock</td><td>Chase Rice</td></tr><tr><td>disney; movie tunes</td><td>Cheryl Freeman</td></tr><tr><td>movie tunes</td><td>Childrens Chorus</td></tr><tr><td>disney; movie tunes</td><td>Chorus</td></tr><tr><td>disney; movie tunes</td><td>Chorus - Aladdin And The King Of Thieves</td></tr><tr><td>disney; movie tunes</td><td>Chorus - Hercules</td></tr><tr><td>disney; movie tunes</td><td>Chorus - Mulan</td></tr><tr><td>contemporary country; country; country road; modern country rock</td><td>Chris Cagle</td></tr><tr><td>contemporary country; country; country road; modern country rock</td><td>Chris Janson</td></tr><tr><td>contemporary country; country; country road; modern country rock</td><td>Chris Young</td></tr><tr><td>hollywood</td><td>Christian Bale</td></tr><tr><td>broadway; hollywood; show tunes</td><td>Christian Borle</td></tr><tr><td>hollywood</td><td>Christine Baranski</td></tr><tr><td>broadway; hollywood; show tunes</td><td>Christopher Fitzgerald</td></tr><tr><td>broadway; hollywood; show tunes</td><td>Christy Altomare</td></tr><tr><td>disney; movie tunes</td><td>Cinderella's Mice Chorus</td></tr><tr><td>hollywood</td><td>Cindy Bullens</td></tr><tr><td>show tunes</td><td>Clark Johnsen</td></tr><tr><td>contemporary country; country; country road; modern country rock</td><td>Clay Walker</td></tr><tr><td>movie tunes</td><td>Cliff Edwards</td></tr><tr><td>contemporary country; country; country road; modern country rock</td><td>Cole Swindell</td></tr><tr><td>hollywood</td><td>Colin Firth</td></tr><tr><td>gospel</td><td>Commissioned</td></tr><tr><td>contemporary country; country; country road; modern country rock</td><td>Corey Smith</td></tr><tr><td>latin; latin hip hop; reggaeton; reggaeton flow; trap latino; tropical</td><td>Cosculluela</td></tr><tr><td>classical soprano</td><td>Cristina Deutekom</td></tr><tr><td>latin; latin hip hop; reggaeton; reggaeton flow; trap latino; tropical</td><td>DJ Luian</td></tr><tr><td>latin; latin hip hop; reggaeton; reggaeton flow; trap latino; tropical</td><td>DJ Nelson</td></tr><tr><td>hollywood</td><td>Dana Fuchs</td></tr><tr><td>broadway; hollywood; show tunes</td><td>Daniel Breaker</td></tr><tr><td>show tunes</td><td>Daniel Everidge</td></tr><tr><td>orchestral performance</td><td>Daniel Harding</td></tr><tr><td>broadway; hollywood; show tunes</td><td>Danny Burstein</td></tr><tr><td>movie tunes</td><td>Danny DeVito</td></tr><tr><td>show tunes</td><td>Daphne Rubin-Vega</td></tr><tr><td>contemporary country; country; country road; modern country rock</td><td>Darryl Worley</td></tr><tr><td>gospel</td><td>Daryl Coley</td></tr><tr><td>disney; movie tunes</td><td>Daughters of Triton</td></tr><tr><td>orchestral performance</td><td>David Lloyd-Jones</td></tr><tr><td>movie tunes</td><td>David Moscow</td></tr><tr><td>disney; movie tunes</td><td>David Ogden Stiers</td></tr><tr><td>latin; latin hip hop; reggaeton; reggaeton flow; trap latino; tropical</td><td>De La Ghetto</td></tr><tr><td>latin; latin hip hop; reggaeton; reggaeton flow; trap latino; tropical</td><td>De Leone</td></tr><tr><td>gospel</td><td>DeWayne Woods</td></tr><tr><td>show tunes</td><td>Debbie Deb</td></tr><tr><td>show tunes</td><td>Debbie Turner</td></tr><tr><td>sleep</td><td>Deep Sleep</td></tr><tr><td>sleep</td><td>Deep Sleep Music Collective</td></tr><tr><td>sleep</td><td>Deep Sleep Music Experience</td></tr><tr><td>show tunes</td><td>Deidre Goodwin</td></tr><tr><td>gospel</td><td>Deitrick Haddon</td></tr><tr><td>show tunes</td><td>Delta Nus</td></tr><tr><td>classical soprano</td><td>Denise Duval</td></tr><tr><td>show tunes</td><td>Denise Faye</td></tr><tr><td>show tunes</td><td>Dequina Moore</td></tr><tr><td>disney; movie tunes</td><td>Dickie Jones</td></tr><tr><td>contemporary country; country; country road; modern country rock</td><td>Dierks Bentley</td></tr><tr><td>movie tunes</td><td>Digby Wolfe</td></tr><tr><td>movie tunes</td><td>Dominic Cooper</td></tr><tr><td>gospel</td><td>Donald Lawrence & The Tri-City Singers</td></tr><tr><td>disney; movie tunes</td><td>Donna Murphy</td></tr><tr><td>gospel</td><td>Donnie McClurkin</td></tr><tr><td>movie tunes</td><td>Dora Luz</td></tr><tr><td>broadway; hollywood; show tunes</td><td>Drew Gehling</td></tr><tr><td>show tunes</td><td>Duane Chase</td></tr><tr><td>show tunes</td><td>Duffy</td></tr><tr><td>contemporary country; country; country road; modern country rock</td><td>Dust</td></tr><tr><td>contemporary country; country; country road; modern country rock</td><td>Dustin Lynch</td></tr><tr><td>contemporary country; country; country road; modern country rock</td><td>Dylan Scott</td></tr><tr><td>contemporary country; country; country road; modern country rock</td><td>Easton Corbin</td></tr><tr><td>classical soprano</td><td>Eileen Farrell</td></tr><tr><td>show tunes</td><td>Ekaterina Chtchelkanova</td></tr><tr><td>classical soprano</td><td>Eleanor Steber</td></tr><tr><td>classical soprano</td><td>Elisabeth Grümmer</td></tr><tr><td>classical soprano</td><td>Elizabeth Harwood</td></tr><tr><td>show tunes</td><td>Elle McLemore</td></tr><tr><td>hollywood</td><td>Emma Stone</td></tr><tr><td>movie tunes</td><td>Ensemble</td></tr><tr><td>contemporary country; country; country road; modern country rock</td><td>Eric</td></tr><tr><td>contemporary country; country; country road; modern country rock</td><td>Eric Church</td></tr><tr><td>classical soprano</td><td>Erna Berger</td></tr><tr><td>disney; movie tunes</td><td>Ernie</td></tr><tr><td>disney; movie tunes</td><td>Ernie Sabella</td></tr><tr><td>orchestral performance</td><td>Eugen Jochum</td></tr><tr><td>classical soprano</td><td>Eva Marton</td></tr><tr><td>hollywood</td><td>Evan Rachel Wood</td></tr><tr><td>hollywood</td><td>Ewan McGregor</td></tr><tr><td>latin; latin hip hop; reggaeton; reggaeton flow; trap latino; tropical</td><td>FLOW</td></tr><tr><td>orchestral performance</td><td>Fabien Gabel</td></tr><tr><td>sleep</td><td>Fan Sounds</td></tr><tr><td>hollywood</td><td>Felicia Day</td></tr><tr><td>movie tunes</td><td>Fess Parker</td></tr><tr><td>gospel</td><td>Forever Jones</td></tr><tr><td>latin; latin hip hop; reggaeton; reggaeton flow; trap latino; tropical</td><td>Franco El Gorilla</td></tr><tr><td>disney; movie tunes</td><td>Frank Churchill</td></tr><tr><td>contemporary country; country; country road; modern country rock</td><td>Frankie Ballard</td></tr><tr><td>orchestral performance</td><td>Franz Welser-Möst</td></tr><tr><td>gospel</td><td>Fred Hammond</td></tr><tr><td>classical soprano</td><td>Galina Vishnevskaya</td></tr><tr><td>contemporary country; country; country road; modern country rock</td><td>Gary Allan</td></tr><tr><td>show tunes</td><td>Gary Beach</td></tr><tr><td>disney; movie tunes</td><td>George Bruns</td></tr><tr><td>movie tunes</td><td>George Givot</td></tr><tr><td>movie tunes</td><td>Gerard Butler</td></tr><tr><td>show tunes</td><td>Gerard Canonico</td></tr><tr><td>orchestral performance</td><td>Giuseppe Sinopoli</td></tr><tr><td>gospel</td><td>Gods Property</td></tr><tr><td>show tunes</td><td>Graham Bowen</td></tr><tr><td>orchestral performance</td><td>Grant Llewellyn</td></tr><tr><td>gospel</td><td>Group Therapy</td></tr><tr><td>hollywood</td><td>Haley Bennett</td></tr><tr><td>movie tunes</td><td>Harry Stockwell</td></tr><tr><td>movie tunes</td><td>Hayley Mills</td></tr><tr><td>show tunes</td><td>Heather Menzies</td></tr><tr><td>disney; movie tunes</td><td>Heidi Mollenhauer</td></tr><tr><td>orchestral performance</td><td>Heinz Rögner</td></tr><tr><td>hollywood</td><td>Helena Bonham Carter</td></tr><tr><td>classical soprano</td><td>Helga Dernesch</td></tr><tr><td>orchestral performance</td><td>Helmuth Rilling</td></tr><tr><td>orchestral performance</td><td>Herbert Blomstedt</td></tr><tr><td>gospel</td><td>Hezekiah Walker</td></tr><tr><td>gospel</td><td>Hezekiah Walker & The Love Fellowship Crusade Choir</td></tr><tr><td>show tunes</td><td>Hilton McRae</td></tr><tr><td>movie tunes</td><td>Howard Ashman</td></tr><tr><td>hollywood</td><td>Hugh Grant</td></tr><tr><td>movie tunes</td><td>Ilene Woods</td></tr><tr><td>classical soprano</td><td>Inge Borkh</td></tr><tr><td>classical soprano</td><td>Irmgard Seefried</td></tr><tr><td>orchestral performance</td><td>István Kertész</td></tr><tr><td>disney; movie tunes</td><td>J. Pat O'Malley</td></tr><tr><td>hollywood</td><td>J. Phoenix</td></tr><tr><td>latin; latin hip hop; reggaeton; reggaeton flow; trap latino; tropical</td><td>Jadiel</td></tr><tr><td>contemporary country; country; country road; modern country rock</td><td>Jake Owen</td></tr><tr><td>movie tunes</td><td>James Baskett</td></tr><tr><td>orchestral performance</td><td>James Conlon</td></tr><tr><td>orchestral performance</td><td>James Judd</td></tr><tr><td>hollywood</td><td>James Marsden</td></tr><tr><td>contemporary country; country; country road; modern country rock</td><td>James Otto</td></tr><tr><td>hollywood</td><td>Jamie Campbell Bower</td></tr><tr><td>classical soprano</td><td>Jane Eaglen</td></tr><tr><td>show tunes</td><td>Janet Dacal</td></tr><tr><td>contemporary country; country; country road; modern country rock</td><td>Jaron And The Long Road To Love</td></tr><tr><td>show tunes</td><td>Jasmine Cephas-Jones</td></tr><tr><td>show tunes</td><td>Jason Michael Snow</td></tr><tr><td>show tunes</td><td>Jason Raize</td></tr><tr><td>hollywood</td><td>Jason Segel</td></tr><tr><td>movie tunes</td><td>Jason Weaver</td></tr><tr><td>orchestral performance</td><td>Jean-François Paillard</td></tr><tr><td>orchestral performance</td><td>Jeffrey Tate</td></tr><tr><td>disney; movie tunes</td><td>Jenifer Lewis</td></tr><tr><td>broadway; hollywood; show tunes</td><td>Jennifer Damiano</td></tr><tr><td>classical soprano</td><td>Jennifer Vyvyan</td></tr><tr><td>movie tunes</td><td>Jeremy Irons</td></tr><tr><td>broadway; hollywood; show tunes</td><td>Jeremy Jordan</td></tr><tr><td>movie tunes</td><td>Jerry Colonna</td></tr><tr><td>movie tunes</td><td>Jesse Corti</td></tr><tr><td>broadway; hollywood; show tunes</td><td>Jessica Keenan Wynn</td></tr><tr><td>broadway; hollywood; show tunes</td><td>Jessie Mueller</td></tr><tr><td>broadway; hollywood; show tunes</td><td>Jewell</td></tr><tr><td>hollywood</td><td>Jim Broadbent</td></tr><tr><td>hollywood</td><td>Jim Bryant</td></tr><tr><td>movie tunes</td><td>Jim Carmichael</td></tr><tr><td>hollywood</td><td>Jim Sturgess</td></tr><tr><td>orchestral performance</td><td>Jiří Bělohlávek</td></tr><tr><td>orchestral performance</td><td>Joann Falletta</td></tr><tr><td>hollywood</td><td>Joaquin Phoenix</td></tr><tr><td>hollywood</td><td>Joe Anderson</td></tr><tr><td>broadway; hollywood; show tunes</td><td>John Gallagher Jr.</td></tr><tr><td>broadway; hollywood; show tunes</td><td>John Gallagher, Jr.</td></tr><tr><td>hollywood</td><td>John Kander</td></tr><tr><td>gospel</td><td>John P Kee & New Life</td></tr><tr><td>gospel</td><td>John P. Kee</td></tr><tr><td>hollywood</td><td>John Travolta</td></tr><tr><td>hollywood</td><td>Johnny Depp</td></tr><tr><td>hollywood</td><td>Johnny Green</td></tr><tr><td>show tunes</td><td>Jon Eidson</td></tr><tr><td>contemporary country; country; country road; modern country rock</td><td>Jon Pardi</td></tr><tr><td>disney; movie tunes</td><td>Jonathan Freeman</td></tr><tr><td>gospel</td><td>Jonathan Nelson</td></tr><tr><td>orchestral performance</td><td>Josef K</td></tr><tr><td>orchestral performance</td><td>Josef Krips</td></tr><tr><td>disney; movie tunes</td><td>Joseph Williams</td></tr><tr><td>contemporary country; country; country road; modern country rock</td><td>Josh Turner</td></tr><tr><td>orchestral performance</td><td>José Serebrier</td></tr><tr><td>latin; latin hip hop; reggaeton; reggaeton flow; trap latino; tropical</td><td>Jowell</td></tr><tr><td>latin; latin hip hop; reggaeton; reggaeton flow; trap latino; tropical</td><td>Jowell & Randy</td></tr><tr><td>hollywood</td><td>Julie Walters</td></tr><tr><td>show tunes</td><td>Justin Bohon</td></tr><tr><td>movie tunes</td><td>Kamehameha Schools Children's Chorus</td></tr><tr><td>broadway; hollywood; show tunes</td><td>Kara Lindsay</td></tr><tr><td>disney; movie tunes</td><td>Karen Dotrice</td></tr><tr><td>classical soprano</td><td>Karita Mattila</td></tr><tr><td>disney; movie tunes</td><td>Kathryn Beaumont</td></tr><tr><td>broadway; hollywood; show tunes</td><td>Keala Settle</td></tr><tr><td>broadway; hollywood; show tunes</td><td>Keenan Wynn</td></tr><tr><td>movie tunes</td><td>Keith David</td></tr><tr><td>latin; latin hip hop; reggaeton; reggaeton flow; trap latino; tropical</td><td>Ken-Y</td></tr><tr><td>latin; latin hip hop; reggaeton; reggaeton flow; trap latino; tropical</td><td>Kendo</td></tr><tr><td>latin; latin hip hop; reggaeton; reggaeton flow; trap latino; tropical</td><td>Kendo Kaponi</td></tr><tr><td>orchestral performance</td><td>Kent Nagano</td></tr><tr><td>show tunes</td><td>Kevin Duda</td></tr><tr><td>broadway; hollywood; show tunes</td><td>Kimiko Glenn</td></tr><tr><td>contemporary country; country; country road; modern country rock</td><td>Kip Moore</td></tr><tr><td>orchestral performance</td><td>Klaus Tennstedt</td></tr><tr><td>gospel</td><td>Kurt Carr & The Kurt Carr Singers</td></tr><tr><td>show tunes</td><td>Kym Karath</td></tr><tr><td>movie tunes</td><td>LaChanze</td></tr><tr><td>gospel</td><td>LaShun Pace</td></tr><tr><td>broadway; hollywood; show tunes</td><td>Laura Dreyfuss</td></tr><tr><td>movie tunes</td><td>Laura Williams</td></tr><tr><td>disney; movie tunes</td><td>Lebo M.</td></tr><tr><td>contemporary country; country; country road; modern country rock</td><td>Lee Brice</td></tr><tr><td>movie tunes</td><td>Leigh Harline</td></tr><tr><td>broadway; hollywood; show tunes</td><td>Len Cariou</td></tr><tr><td>broadway; hollywood; show tunes</td><td>Leo Norbert Butz</td></tr><tr><td>orchestral performance</td><td>Leonard Slatkin</td></tr><tr><td>orchestral performance</td><td>Leopold Stokowski</td></tr><tr><td>show tunes</td><td>Les Misérables-Original London Cast</td></tr><tr><td>broadway; hollywood; show tunes</td><td>Leslie Kritzer</td></tr><tr><td>hollywood</td><td>Levi Stubbs</td></tr><tr><td>show tunes</td><td>Lewis Cleale</td></tr><tr><td>hollywood</td><td>Lily James</td></tr><tr><td>show tunes</td><td>Lin-Manuel Miranda</td></tr><tr><td>show tunes</td><td>Linda Eder</td></tr><tr><td>movie tunes</td><td>Linda Hunt</td></tr><tr><td>classical soprano</td><td>Lisa Otto</td></tr><tr><td>classical soprano</td><td>Lisa della Casa</td></tr><tr><td>movie tunes</td><td>Liz English</td></tr><tr><td>classical soprano</td><td>Ljuba Welitsch</td></tr><tr><td>sleep</td><td>Loopable</td></tr><tr><td>orchestral performance</td><td>Louis Langrée</td></tr><tr><td>sleep</td><td>Lullabies for Deep Meditation</td></tr><tr><td>latin; latin hip hop; reggaeton; reggaeton flow; trap latino; tropical</td><td>Luny Tunes</td></tr><tr><td>latin; latin hip hop; reggaeton; reggaeton flow; trap latino; tropical</td><td>MAGIC!</td></tr><tr><td>movie tunes</td><td>Mack David</td></tr><tr><td>latin; latin hip hop; reggaeton; reggaeton flow; trap latino; tropical</td><td>Magic</td></tr><tr><td>latin; latin hip hop; reggaeton; reggaeton flow; trap latino; tropical</td><td>Magnate Y Valentino</td></tr><tr><td>gospel</td><td>Mali Music</td></tr><tr><td>broadway; hollywood; show tunes</td><td>Mandy Gonzalez</td></tr><tr><td>classical soprano</td><td>Margaret Marshall</td></tr><tr><td>orchestral performance</td><td>Mark Elder</td></tr><tr><td>movie tunes</td><td>Mark Keali'i Ho'omalu</td></tr><tr><td>gospel</td><td>Martha Munizzi</td></tr><tr><td>classical soprano</td><td>Martha Mödl</td></tr><tr><td>hollywood</td><td>Martin Luther</td></tr><tr><td>hollywood</td><td>Martin Luther McCoy</td></tr><tr><td>gospel</td><td>Marvin Sapp</td></tr><tr><td>disney; movie tunes</td><td>Mary Costa</td></tr><tr><td>disney; movie tunes</td><td>Mary Moder</td></tr><tr><td>broadway; hollywood; show tunes</td><td>Matthew Morrison</td></tr><tr><td>orchestral performance</td><td>Maurice Abravanel</td></tr><tr><td>show tunes</td><td>Max Casella</td></tr><tr><td>sleep</td><td>Meditation Awareness</td></tr><tr><td>movie tunes</td><td>Mel Gibson</td></tr><tr><td>gospel</td><td>Men Of Standard</td></tr><tr><td>hollywood</td><td>Meryl Streep</td></tr><tr><td>disney; movie tunes</td><td>Mice Chorus</td></tr><tr><td>orchestral performance</td><td>Michel Plasson</td></tr><tr><td>show tunes</td><td>Michelle Duffy</td></tr><tr><td>show tunes</td><td>Michelle Federer</td></tr><tr><td>hollywood</td><td>Michelle Pfeiffer</td></tr><tr><td>hollywood</td><td>Michelle Williams</td></tr><tr><td>movie tunes</td><td>Mike Douglas</td></tr><tr><td>show tunes</td><td>Mike Faist</td></tr><tr><td>latin; latin hip hop; reggaeton; reggaeton flow; trap latino; tropical</td><td>Miky Woodz</td></tr><tr><td>show tunes</td><td>Miranda!</td></tr><tr><td>classical soprano</td><td>Monika Frimmer</td></tr><tr><td>show tunes</td><td>Mya Harrison</td></tr><tr><td>movie tunes</td><td>Nancy Adams</td></tr><tr><td>hollywood</td><td>Natalie Mendoza</td></tr><tr><td>sleep</td><td>Native American Flute</td></tr><tr><td>sleep</td><td>Native American Meditations</td></tr><tr><td>sleep</td><td>Natural White Noise Relaxation</td></tr><tr><td>movie tunes</td><td>Ned Washington</td></tr><tr><td>sleep</td><td>New Age</td></tr><tr><td>show tunes</td><td>Nicholas Hammond</td></tr><tr><td>show tunes</td><td>Nick Spangler</td></tr><tr><td>show tunes</td><td>Nicolas Colicos</td></tr><tr><td>broadway; hollywood; show tunes</td><td>Norbert Leo Butz</td></tr><tr><td>latin; latin hip hop; reggaeton; reggaeton flow; trap latino; tropical</td><td>Nori</td></tr><tr><td>latin; latin hip hop; reggaeton; reggaeton flow; trap latino; tropical</td><td>Noriel</td></tr><tr><td>latin; latin hip hop; reggaeton; reggaeton flow; trap latino; tropical</td><td>Nova y Jory</td></tr><tr><td>show tunes</td><td>Okieriete Onaodowan</td></tr><tr><td>show tunes</td><td>Olivia Foa'i</td></tr><tr><td>movie tunes</td><td>Oscar Isaac</td></tr><tr><td>orchestral performance</td><td>Osmo Vänskä</td></tr><tr><td>orchestral performance</td><td>Otmar Suitner</td></tr><tr><td>movie tunes</td><td>Paige O'Hara</td></tr><tr><td>disney; movie tunes</td><td>Pat Carroll</td></tr><tr><td>broadway; hollywood; show tunes</td><td>Patti LuPone</td></tr><tr><td>hollywood</td><td>Paul Francis Webster</td></tr><tr><td>movie tunes</td><td>Paul Frees</td></tr><tr><td>disney; movie tunes</td><td>Paul Kandel</td></tr><tr><td>movie tunes</td><td>Pearl Bailey</td></tr><tr><td>orchestral performance</td><td>Peter Maag</td></tr><tr><td>movie tunes</td><td>Phil Harris</td></tr><tr><td>contemporary country; country; country road; modern country rock</td><td>Phil Vassar</td></tr><tr><td>hollywood</td><td>Pierce Brosnan</td></tr><tr><td>latin; latin hip hop; reggaeton; reggaeton flow; trap latino; tropical</td><td>R.K.M & Ken-Y</td></tr><tr><td>broadway; hollywood; show tunes</td><td>Rachel Bay Jones</td></tr><tr><td>show tunes</td><td>Rachel House</td></tr><tr><td>movie tunes</td><td>Rachel McDowall</td></tr><tr><td>orchestral performance</td><td>Rafael Kubelik</td></tr><tr><td>sleep</td><td>Rain Storm Sample Library</td></tr><tr><td>hollywood</td><td>Ralph Fiennes</td></tr><tr><td>latin; latin hip hop; reggaeton; reggaeton flow; trap latino; tropical</td><td>Randy</td></tr><tr><td>orchestral performance</td><td>Raymond Leppard</td></tr><tr><td>hollywood</td><td>Reese Witherspoon</td></tr><tr><td>sleep</td><td>Relajación</td></tr><tr><td>sleep</td><td>Relaxation</td></tr><tr><td>classical soprano</td><td>Reri Grist</td></tr><tr><td>hollywood</td><td>Richard Gere</td></tr><tr><td>hollywood</td><td>Richard O'Brien</td></tr><tr><td>gospel</td><td>Richard Smallwood</td></tr><tr><td>movie tunes</td><td>Richard White</td></tr><tr><td>hollywood</td><td>Rick Moranis</td></tr><tr><td>disney; movie tunes</td><td>Robby Benson</td></tr><tr><td>show tunes</td><td>Robert Billig</td></tr><tr><td>orchestral performance</td><td>Robert Shaw</td></tr><tr><td>classical soprano</td><td>Roberta Peters</td></tr><tr><td>show tunes</td><td>Robin de Jesus</td></tr><tr><td>contemporary country; country; country road; modern country rock</td><td>Rodney Atkins</td></tr><tr><td>disney; movie tunes</td><td>Roger Bart</td></tr><tr><td>show tunes</td><td>Rory O'Malley</td></tr><tr><td>contemporary country; country; country road; modern country rock</td><td>Russell Dickerson</td></tr><tr><td>classical soprano</td><td>Ruth Ziesak</td></tr><tr><td>latin; latin hip hop; reggaeton; reggaeton flow; trap latino; tropical</td><td>Rvssian</td></tr><tr><td>hollywood</td><td>Ryan Gosling</td></tr><tr><td>broadway; hollywood; show tunes</td><td>Ryan McCartan</td></tr><tr><td>classical soprano</td><td>Régine Crespin</td></tr><tr><td>broadway; hollywood; show tunes</td><td>Saigon</td></tr><tr><td>orchestral performance</td><td>Sakari Oramo</td></tr><tr><td>movie tunes</td><td>Sally Dworsky</td></tr><tr><td>show tunes</td><td>Samantha Barks</td></tr><tr><td>sleep</td><td>Sample Rain Library</td></tr><tr><td>movie tunes</td><td>Sandy Duncan, Howard McGillin, Liz Callaway, Dakin Matthews, Adam Wylie, J.D. Daniels, Lex de Azevedo, David Zippel</td></tr><tr><td>hollywood</td><td>Sara Ramirez</td></tr><tr><td>movie tunes</td><td>Scatman Crothers</td></tr><tr><td>show tunes</td><td>Scott Irby-Ranniar</td></tr><tr><td>contemporary country; country; country road; modern country rock</td><td>Scotty</td></tr><tr><td>contemporary country; country; country road; modern country rock</td><td>Scotty McCreery</td></tr><tr><td>orchestral performance</td><td>Semyon Bychkov</td></tr><tr><td>classical soprano</td><td>Sena Jurinac</td></tr><tr><td>show tunes</td><td>Seth Stewart</td></tr><tr><td>movie tunes</td><td>Shelby Flint</td></tr><tr><td>broadway; hollywood; show tunes</td><td>Sherie Rene Scott</td></tr><tr><td>disney; movie tunes</td><td>Ship's Chorus</td></tr><tr><td>disney; movie tunes</td><td>Si and Am</td></tr><tr><td>show tunes</td><td>Sierra Boggess as Ariel</td></tr><tr><td>orchestral performance</td><td>Sir Adrian Boult</td></tr><tr><td>orchestral performance</td><td>Sir Charles Groves</td></tr><tr><td>orchestral performance</td><td>Sir Charles Mackerras</td></tr><tr><td>orchestral performance</td><td>Sir David Willcocks</td></tr><tr><td>orchestral performance</td><td>Sir Georg Solti</td></tr><tr><td>orchestral performance</td><td>Sir Thomas Beecham</td></tr><tr><td>sleep</td><td>Sleep Baby Sleep</td></tr><tr><td>sleep</td><td>Sleep Sound Library</td></tr><tr><td>sleep</td><td>Sleepy Times</td></tr><tr><td>sleep</td><td>Soothing White Noise for Infant Sleeping and Massage, Crying & Colic Relief</td></tr><tr><td>broadway; hollywood; show tunes</td><td>Sophia Anne Caruso</td></tr><tr><td>sleep</td><td>Sound Library XL</td></tr><tr><td>movie tunes</td><td>Stellan Skarsgård</td></tr><tr><td>hollywood</td><td>Stephen Schwartz</td></tr><tr><td>broadway; hollywood; show tunes</td><td>Stephen Sondheim</td></tr><tr><td>movie tunes</td><td>Sterling Holloway</td></tr><tr><td>contemporary country; country; country road; modern country rock</td><td>Steve Holy</td></tr><tr><td>show tunes</td><td>Stig Anderson</td></tr><tr><td>hollywood</td><td>Stockard Channing</td></tr><tr><td>classical soprano</td><td>Susan Gritton</td></tr><tr><td>show tunes</td><td>Susan Misner</td></tr><tr><td>hollywood</td><td>Susan Sarandon</td></tr><tr><td>broadway; hollywood; show tunes</td><td>Sutton Foster</td></tr><tr><td>classical soprano</td><td>Suzanne Danco</td></tr><tr><td>hollywood</td><td>T.V. Carpio</td></tr><tr><td>gospel</td><td>Tamela Mann</td></tr><tr><td>hollywood</td><td>Taron Egerton</td></tr><tr><td>movie tunes</td><td>Tawatha Agee</td></tr><tr><td>latin; latin hip hop; reggaeton; reggaeton flow; trap latino; tropical</td><td>Tempo</td></tr><tr><td>broadway; hollywood; show tunes</td><td>Terrence Mann</td></tr><tr><td>movie tunes</td><td>Terry Gilkyson</td></tr><tr><td>gospel</td><td>The Brooklyn Tabernacle Choir</td></tr><tr><td>gospel</td><td>The Clark Sisters</td></tr><tr><td>disney; movie tunes</td><td>The Disneyland Children's Chorus</td></tr><tr><td>disney; movie tunes</td><td>The Dwarf Chorus</td></tr><tr><td>movie tunes</td><td>The Greatest Showman Ensemble</td></tr><tr><td>disney; movie tunes</td><td>The Jud Conlon Chorus</td></tr><tr><td>contemporary country; country; country road; modern country rock</td><td>The Lost Trailers</td></tr><tr><td>movie tunes</td><td>The Mellomen</td></tr><tr><td>movie tunes</td><td>The Mouseketeers</td></tr><tr><td>sleep</td><td>The Noise</td></tr><tr><td>sleep</td><td>The White Noise</td></tr><tr><td>sleep</td><td>The White Noise Zen & Meditation Sound Lab</td></tr><tr><td>gospel</td><td>The Winans</td></tr><tr><td>sleep</td><td>Therapy?</td></tr><tr><td>contemporary country; country; country road; modern country rock</td><td>Thomas Rhett</td></tr><tr><td>hollywood</td><td>Tim Curry</td></tr><tr><td>sleep</td><td>Tmsoft’s White Noise Sleep Sounds</td></tr><tr><td>show tunes</td><td>Tom Alan Robbins</td></tr><tr><td>movie tunes</td><td>Tom Hulce</td></tr><tr><td>show tunes</td><td>Tom Pierson</td></tr><tr><td>movie tunes</td><td>Tommy Luske</td></tr><tr><td>disney; movie tunes</td><td>Tony Jay</td></tr><tr><td>sleep</td><td>Traditional</td></tr><tr><td>gospel</td><td>Tramaine Hawkins</td></tr><tr><td>latin; latin hip hop; reggaeton; reggaeton flow; trap latino; tropical</td><td>Trebol Clan</td></tr><tr><td>sleep</td><td>Twinkle</td></tr><tr><td>gospel</td><td>VIP Mass Choir</td></tr><tr><td>movie tunes</td><td>Vai Mahina</td></tr><tr><td>classical soprano</td><td>Valerie Masterson</td></tr><tr><td>gospel</td><td>Vanessa Bell Armstrong</td></tr><tr><td>classical soprano</td><td>Varnay</td></tr><tr><td>disney; movie tunes</td><td>Verna Felton</td></tr><tr><td>orchestral performance</td><td>Vernon Handley</td></tr><tr><td>gospel</td><td>Vicki Yohe</td></tr><tr><td>gospel</td><td>Vickie Winans</td></tr><tr><td>movie tunes</td><td>Victor Sweler</td></tr><tr><td>classical soprano</td><td>Violeta Urmana</td></tr><tr><td>latin; latin hip hop; reggaeton; reggaeton flow; trap latino; tropical</td><td>Voltio</td></tr><tr><td>latin; latin hip hop; reggaeton; reggaeton flow; trap latino; tropical</td><td>WOODZ</td></tr><tr><td>gospel</td><td>Walter Hawkins</td></tr><tr><td>sleep</td><td>White Noise</td></tr><tr><td>sleep</td><td>White Noise Babies</td></tr><tr><td>sleep</td><td>White Noise Baby Sleep</td></tr><tr><td>sleep</td><td>White Noise Meditation</td></tr><tr><td>sleep</td><td>White Noise Research</td></tr><tr><td>sleep</td><td>White Noise Sound Garden</td></tr><tr><td>sleep</td><td>White Noise Therapy</td></tr><tr><td>sleep</td><td>White Noise for Babies</td></tr><tr><td>sleep</td><td>White Noise for Deeper Sleep</td></tr><tr><td>sleep</td><td>White! Noise</td></tr><tr><td>orchestral performance</td><td>Willi Boskovsky</td></tr><tr><td>disney; movie tunes</td><td>William Joseph</td></tr><tr><td>gospel</td><td>William McDowell</td></tr><tr><td>orchestral performance</td><td>William Steinberg</td></tr><tr><td>classical soprano</td><td>Wilma Lipp</td></tr><tr><td>latin; latin hip hop; reggaeton; reggaeton flow; trap latino; tropical</td><td>Wisin</td></tr><tr><td>orchestral performance</td><td>Wolfgang Sawallisch</td></tr><tr><td>sleep</td><td>Wonderful Escape</td></tr><tr><td>movie tunes</td><td>Xavier Atencio</td></tr><tr><td>latin; latin hip hop; reggaeton; reggaeton flow; trap latino; tropical</td><td>Yaga & Mackie</td></tr><tr><td>orchestral performance</td><td>Yannick Nézet-Séguin</td></tr><tr><td>classical soprano</td><td>Ying Huang</td></tr><tr><td>latin; latin hip hop; reggaeton; reggaeton flow; trap latino; tropical</td><td>Yomo</td></tr><tr><td>contemporary country; country; country road; modern country rock</td><td>Young Chris</td></tr><tr><td>contemporary country; country; country road; modern country rock</td><td>Zac Brown</td></tr><tr><td>contemporary country; country; country road; modern country rock</td><td>Zac Brown Band</td></tr><tr><td>show tunes</td><td>Ziv Zaifman</td></tr><tr><td>latin; latin hip hop; reggaeton; reggaeton flow; trap latino; tropical</td><td>Ñejo & Dalmata</td></tr><tr><td>latin; latin hip hop; reggaeton; reggaeton flow; trap latino; tropical</td><td>Ñengo Flow</td></tr></tbody></table></div>"
      ]
     },
     "metadata": {
      "application/vnd.databricks.v1+output": {
       "addedWidgets": {},
       "aggData": [],
       "aggError": "",
       "aggOverflow": false,
       "aggSchema": [],
       "aggSeriesLimitReached": false,
       "aggType": "",
       "arguments": {},
       "columnCustomDisplayInfos": {},
       "data": [
        [
         "show tunes",
         "Cats 1981 Original London Cast"
        ],
        [
         "broadway; hollywood; show tunes",
         "'Legally Blonde' Ensemble"
        ],
        [
         "show tunes",
         "'Legally Blonde' Greek Chorus"
        ],
        [
         "broadway; hollywood; show tunes",
         "Aaron Tveit"
        ],
        [
         "broadway; hollywood; show tunes",
         "Adam Pascal"
        ],
        [
         "movie tunes",
         "Adriana Caselotti"
        ],
        [
         "classical soprano",
         "Adrianne Pieczonka"
        ],
        [
         "classical soprano",
         "Agnes Giebel"
        ],
        [
         "gospel",
         "Albertina Walker"
        ],
        [
         "broadway; hollywood; show tunes",
         "Alex Brightman"
        ],
        [
         "latin; latin hip hop; reggaeton; reggaeton flow; trap latino; tropical",
         "Alex Gargolas"
        ],
        [
         "latin; latin hip hop; reggaeton; reggaeton flow; trap latino; tropical",
         "Alexis y Fido"
        ],
        [
         "broadway; hollywood; show tunes",
         "Alice Ripley"
        ],
        [
         "movie tunes",
         "Alice Sixer"
        ],
        [
         "show tunes",
         "Amanda Bynes"
        ],
        [
         "show tunes",
         "Amy Spanger"
        ],
        [
         "show tunes",
         "Andrea Burns"
        ],
        [
         "classical soprano",
         "Andrea Rost"
        ],
        [
         "orchestral performance",
         "André Cluytens"
        ],
        [
         "orchestral performance",
         "André Previn"
        ],
        [
         "show tunes",
         "Angela Cartwright"
        ],
        [
         "classical soprano",
         "Anna Tomowa-Sintow"
        ],
        [
         "broadway; hollywood; show tunes",
         "Annaleigh Ashford"
        ],
        [
         "classical soprano",
         "Anneliese Rothenberger"
        ],
        [
         "gospel",
         "Anthony Brown & group therAPy"
        ],
        [
         "movie tunes",
         "Anthony Gonzalez"
        ],
        [
         "broadway; hollywood; show tunes",
         "Anthony Rapp"
        ],
        [
         "orchestral performance",
         "Antoni Wit"
        ],
        [
         "hollywood",
         "Antonio Banderas"
        ],
        [
         "movie tunes",
         "Ashley Lilley"
        ],
        [
         "classical soprano",
         "Astrid Varnay"
        ],
        [
         "show tunes",
         "Austyn Johnson"
        ],
        [
         "latin; latin hip hop; reggaeton; reggaeton flow; trap latino; tropical",
         "Baby Rasta"
        ],
        [
         "sleep",
         "Baby Sleep"
        ],
        [
         "sleep",
         "Baby Sweet Dream"
        ],
        [
         "broadway; hollywood; show tunes",
         "Barrett Wilbert Weed"
        ],
        [
         "hollywood",
         "Barry Bostwick"
        ],
        [
         "disney; movie tunes",
         "Beaumont"
        ],
        [
         "gospel",
         "Bebe & Cece Winans"
        ],
        [
         "broadway; hollywood; show tunes",
         "Bebe Neuwirth"
        ],
        [
         "gospel",
         "Bebe Winans"
        ],
        [
         "sleep",
         "Bedtime Baby"
        ],
        [
         "broadway; hollywood; show tunes",
         "Ben Fankhauser"
        ],
        [
         "show tunes",
         "Benjamin Schrader"
        ],
        [
         "contemporary country; country; country road; modern country rock",
         "Bent"
        ],
        [
         "broadway; hollywood; show tunes",
         "Bernadette Peters"
        ],
        [
         "disney; movie tunes",
         "Beth Fowler"
        ],
        [
         "movie tunes",
         "Betty Noyes"
        ],
        [
         "classical soprano",
         "Bidu Sayão"
        ],
        [
         "contemporary country; country; country road; modern country rock",
         "Big & Rich"
        ],
        [
         "movie tunes",
         "Bill Farmer"
        ],
        [
         "disney; movie tunes",
         "Bill Shirley"
        ],
        [
         "disney; movie tunes",
         "Bill Thompson"
        ],
        [
         "movie tunes",
         "Billy Bletcher"
        ],
        [
         "contemporary country; country; country road; modern country rock",
         "Billy Currington"
        ],
        [
         "broadway; hollywood; show tunes",
         "Billy Porter"
        ],
        [
         "gospel",
         "Bishop Paul S. Morton, Sr."
        ],
        [
         "disney; movie tunes",
         "Bobby Driscoll"
        ],
        [
         "hollywood",
         "Bonham"
        ],
        [
         "movie tunes",
         "Brad Garrett"
        ],
        [
         "disney; movie tunes",
         "Brad Kane"
        ],
        [
         "hollywood",
         "Bradley Cooper"
        ],
        [
         "contemporary country; country; country road; modern country rock",
         "Brett Eldredge"
        ],
        [
         "gospel",
         "Brian Courtney Wilson"
        ],
        [
         "broadway; hollywood; show tunes",
         "Brian D'Arcy James"
        ],
        [
         "show tunes",
         "Brian Sears"
        ],
        [
         "gospel",
         "Brian Wilson"
        ],
        [
         "hollywood",
         "Brittany Snow"
        ],
        [
         "movie tunes",
         "Bruce Adler"
        ],
        [
         "disney; movie tunes",
         "Bruce Reitherman"
        ],
        [
         "hollywood",
         "Bruce Willis"
        ],
        [
         "latin; latin hip hop; reggaeton; reggaeton flow; trap latino; tropical",
         "Brytiago"
        ],
        [
         "contemporary country; country; country road; modern country rock",
         "Bucky Covington"
        ],
        [
         "movie tunes",
         "Burke Moses"
        ],
        [
         "sleep",
         "Calming Sounds"
        ],
        [
         "movie tunes",
         "Cameron Seely"
        ],
        [
         "disney; movie tunes",
         "Carmen Twillie"
        ],
        [
         "broadway; hollywood; show tunes",
         "Caroline O'Connor"
        ],
        [
         "broadway; hollywood; show tunes",
         "Carrie Fletcher"
        ],
        [
         "latin; latin hip hop; reggaeton; reggaeton flow; trap latino; tropical",
         "Casa De Leones"
        ],
        [
         "latin; latin hip hop; reggaeton; reggaeton flow; trap latino; tropical",
         "Casper Magico"
        ],
        [
         "movie tunes",
         "Cast - The Nightmare Before Christmas"
        ],
        [
         "hollywood",
         "Cast Of Mamma Mia The Movie"
        ],
        [
         "gospel",
         "CeCe Winans"
        ],
        [
         "contemporary country; country; country road; modern country rock",
         "Chase"
        ],
        [
         "contemporary country; country; country road; modern country rock",
         "Chase Rice"
        ],
        [
         "disney; movie tunes",
         "Cheryl Freeman"
        ],
        [
         "movie tunes",
         "Childrens Chorus"
        ],
        [
         "disney; movie tunes",
         "Chorus"
        ],
        [
         "disney; movie tunes",
         "Chorus - Aladdin And The King Of Thieves"
        ],
        [
         "disney; movie tunes",
         "Chorus - Hercules"
        ],
        [
         "disney; movie tunes",
         "Chorus - Mulan"
        ],
        [
         "contemporary country; country; country road; modern country rock",
         "Chris Cagle"
        ],
        [
         "contemporary country; country; country road; modern country rock",
         "Chris Janson"
        ],
        [
         "contemporary country; country; country road; modern country rock",
         "Chris Young"
        ],
        [
         "hollywood",
         "Christian Bale"
        ],
        [
         "broadway; hollywood; show tunes",
         "Christian Borle"
        ],
        [
         "hollywood",
         "Christine Baranski"
        ],
        [
         "broadway; hollywood; show tunes",
         "Christopher Fitzgerald"
        ],
        [
         "broadway; hollywood; show tunes",
         "Christy Altomare"
        ],
        [
         "disney; movie tunes",
         "Cinderella's Mice Chorus"
        ],
        [
         "hollywood",
         "Cindy Bullens"
        ],
        [
         "show tunes",
         "Clark Johnsen"
        ],
        [
         "contemporary country; country; country road; modern country rock",
         "Clay Walker"
        ],
        [
         "movie tunes",
         "Cliff Edwards"
        ],
        [
         "contemporary country; country; country road; modern country rock",
         "Cole Swindell"
        ],
        [
         "hollywood",
         "Colin Firth"
        ],
        [
         "gospel",
         "Commissioned"
        ],
        [
         "contemporary country; country; country road; modern country rock",
         "Corey Smith"
        ],
        [
         "latin; latin hip hop; reggaeton; reggaeton flow; trap latino; tropical",
         "Cosculluela"
        ],
        [
         "classical soprano",
         "Cristina Deutekom"
        ],
        [
         "latin; latin hip hop; reggaeton; reggaeton flow; trap latino; tropical",
         "DJ Luian"
        ],
        [
         "latin; latin hip hop; reggaeton; reggaeton flow; trap latino; tropical",
         "DJ Nelson"
        ],
        [
         "hollywood",
         "Dana Fuchs"
        ],
        [
         "broadway; hollywood; show tunes",
         "Daniel Breaker"
        ],
        [
         "show tunes",
         "Daniel Everidge"
        ],
        [
         "orchestral performance",
         "Daniel Harding"
        ],
        [
         "broadway; hollywood; show tunes",
         "Danny Burstein"
        ],
        [
         "movie tunes",
         "Danny DeVito"
        ],
        [
         "show tunes",
         "Daphne Rubin-Vega"
        ],
        [
         "contemporary country; country; country road; modern country rock",
         "Darryl Worley"
        ],
        [
         "gospel",
         "Daryl Coley"
        ],
        [
         "disney; movie tunes",
         "Daughters of Triton"
        ],
        [
         "orchestral performance",
         "David Lloyd-Jones"
        ],
        [
         "movie tunes",
         "David Moscow"
        ],
        [
         "disney; movie tunes",
         "David Ogden Stiers"
        ],
        [
         "latin; latin hip hop; reggaeton; reggaeton flow; trap latino; tropical",
         "De La Ghetto"
        ],
        [
         "latin; latin hip hop; reggaeton; reggaeton flow; trap latino; tropical",
         "De Leone"
        ],
        [
         "gospel",
         "DeWayne Woods"
        ],
        [
         "show tunes",
         "Debbie Deb"
        ],
        [
         "show tunes",
         "Debbie Turner"
        ],
        [
         "sleep",
         "Deep Sleep"
        ],
        [
         "sleep",
         "Deep Sleep Music Collective"
        ],
        [
         "sleep",
         "Deep Sleep Music Experience"
        ],
        [
         "show tunes",
         "Deidre Goodwin"
        ],
        [
         "gospel",
         "Deitrick Haddon"
        ],
        [
         "show tunes",
         "Delta Nus"
        ],
        [
         "classical soprano",
         "Denise Duval"
        ],
        [
         "show tunes",
         "Denise Faye"
        ],
        [
         "show tunes",
         "Dequina Moore"
        ],
        [
         "disney; movie tunes",
         "Dickie Jones"
        ],
        [
         "contemporary country; country; country road; modern country rock",
         "Dierks Bentley"
        ],
        [
         "movie tunes",
         "Digby Wolfe"
        ],
        [
         "movie tunes",
         "Dominic Cooper"
        ],
        [
         "gospel",
         "Donald Lawrence & The Tri-City Singers"
        ],
        [
         "disney; movie tunes",
         "Donna Murphy"
        ],
        [
         "gospel",
         "Donnie McClurkin"
        ],
        [
         "movie tunes",
         "Dora Luz"
        ],
        [
         "broadway; hollywood; show tunes",
         "Drew Gehling"
        ],
        [
         "show tunes",
         "Duane Chase"
        ],
        [
         "show tunes",
         "Duffy"
        ],
        [
         "contemporary country; country; country road; modern country rock",
         "Dust"
        ],
        [
         "contemporary country; country; country road; modern country rock",
         "Dustin Lynch"
        ],
        [
         "contemporary country; country; country road; modern country rock",
         "Dylan Scott"
        ],
        [
         "contemporary country; country; country road; modern country rock",
         "Easton Corbin"
        ],
        [
         "classical soprano",
         "Eileen Farrell"
        ],
        [
         "show tunes",
         "Ekaterina Chtchelkanova"
        ],
        [
         "classical soprano",
         "Eleanor Steber"
        ],
        [
         "classical soprano",
         "Elisabeth Grümmer"
        ],
        [
         "classical soprano",
         "Elizabeth Harwood"
        ],
        [
         "show tunes",
         "Elle McLemore"
        ],
        [
         "hollywood",
         "Emma Stone"
        ],
        [
         "movie tunes",
         "Ensemble"
        ],
        [
         "contemporary country; country; country road; modern country rock",
         "Eric"
        ],
        [
         "contemporary country; country; country road; modern country rock",
         "Eric Church"
        ],
        [
         "classical soprano",
         "Erna Berger"
        ],
        [
         "disney; movie tunes",
         "Ernie"
        ],
        [
         "disney; movie tunes",
         "Ernie Sabella"
        ],
        [
         "orchestral performance",
         "Eugen Jochum"
        ],
        [
         "classical soprano",
         "Eva Marton"
        ],
        [
         "hollywood",
         "Evan Rachel Wood"
        ],
        [
         "hollywood",
         "Ewan McGregor"
        ],
        [
         "latin; latin hip hop; reggaeton; reggaeton flow; trap latino; tropical",
         "FLOW"
        ],
        [
         "orchestral performance",
         "Fabien Gabel"
        ],
        [
         "sleep",
         "Fan Sounds"
        ],
        [
         "hollywood",
         "Felicia Day"
        ],
        [
         "movie tunes",
         "Fess Parker"
        ],
        [
         "gospel",
         "Forever Jones"
        ],
        [
         "latin; latin hip hop; reggaeton; reggaeton flow; trap latino; tropical",
         "Franco El Gorilla"
        ],
        [
         "disney; movie tunes",
         "Frank Churchill"
        ],
        [
         "contemporary country; country; country road; modern country rock",
         "Frankie Ballard"
        ],
        [
         "orchestral performance",
         "Franz Welser-Möst"
        ],
        [
         "gospel",
         "Fred Hammond"
        ],
        [
         "classical soprano",
         "Galina Vishnevskaya"
        ],
        [
         "contemporary country; country; country road; modern country rock",
         "Gary Allan"
        ],
        [
         "show tunes",
         "Gary Beach"
        ],
        [
         "disney; movie tunes",
         "George Bruns"
        ],
        [
         "movie tunes",
         "George Givot"
        ],
        [
         "movie tunes",
         "Gerard Butler"
        ],
        [
         "show tunes",
         "Gerard Canonico"
        ],
        [
         "orchestral performance",
         "Giuseppe Sinopoli"
        ],
        [
         "gospel",
         "Gods Property"
        ],
        [
         "show tunes",
         "Graham Bowen"
        ],
        [
         "orchestral performance",
         "Grant Llewellyn"
        ],
        [
         "gospel",
         "Group Therapy"
        ],
        [
         "hollywood",
         "Haley Bennett"
        ],
        [
         "movie tunes",
         "Harry Stockwell"
        ],
        [
         "movie tunes",
         "Hayley Mills"
        ],
        [
         "show tunes",
         "Heather Menzies"
        ],
        [
         "disney; movie tunes",
         "Heidi Mollenhauer"
        ],
        [
         "orchestral performance",
         "Heinz Rögner"
        ],
        [
         "hollywood",
         "Helena Bonham Carter"
        ],
        [
         "classical soprano",
         "Helga Dernesch"
        ],
        [
         "orchestral performance",
         "Helmuth Rilling"
        ],
        [
         "orchestral performance",
         "Herbert Blomstedt"
        ],
        [
         "gospel",
         "Hezekiah Walker"
        ],
        [
         "gospel",
         "Hezekiah Walker & The Love Fellowship Crusade Choir"
        ],
        [
         "show tunes",
         "Hilton McRae"
        ],
        [
         "movie tunes",
         "Howard Ashman"
        ],
        [
         "hollywood",
         "Hugh Grant"
        ],
        [
         "movie tunes",
         "Ilene Woods"
        ],
        [
         "classical soprano",
         "Inge Borkh"
        ],
        [
         "classical soprano",
         "Irmgard Seefried"
        ],
        [
         "orchestral performance",
         "István Kertész"
        ],
        [
         "disney; movie tunes",
         "J. Pat O'Malley"
        ],
        [
         "hollywood",
         "J. Phoenix"
        ],
        [
         "latin; latin hip hop; reggaeton; reggaeton flow; trap latino; tropical",
         "Jadiel"
        ],
        [
         "contemporary country; country; country road; modern country rock",
         "Jake Owen"
        ],
        [
         "movie tunes",
         "James Baskett"
        ],
        [
         "orchestral performance",
         "James Conlon"
        ],
        [
         "orchestral performance",
         "James Judd"
        ],
        [
         "hollywood",
         "James Marsden"
        ],
        [
         "contemporary country; country; country road; modern country rock",
         "James Otto"
        ],
        [
         "hollywood",
         "Jamie Campbell Bower"
        ],
        [
         "classical soprano",
         "Jane Eaglen"
        ],
        [
         "show tunes",
         "Janet Dacal"
        ],
        [
         "contemporary country; country; country road; modern country rock",
         "Jaron And The Long Road To Love"
        ],
        [
         "show tunes",
         "Jasmine Cephas-Jones"
        ],
        [
         "show tunes",
         "Jason Michael Snow"
        ],
        [
         "show tunes",
         "Jason Raize"
        ],
        [
         "hollywood",
         "Jason Segel"
        ],
        [
         "movie tunes",
         "Jason Weaver"
        ],
        [
         "orchestral performance",
         "Jean-François Paillard"
        ],
        [
         "orchestral performance",
         "Jeffrey Tate"
        ],
        [
         "disney; movie tunes",
         "Jenifer Lewis"
        ],
        [
         "broadway; hollywood; show tunes",
         "Jennifer Damiano"
        ],
        [
         "classical soprano",
         "Jennifer Vyvyan"
        ],
        [
         "movie tunes",
         "Jeremy Irons"
        ],
        [
         "broadway; hollywood; show tunes",
         "Jeremy Jordan"
        ],
        [
         "movie tunes",
         "Jerry Colonna"
        ],
        [
         "movie tunes",
         "Jesse Corti"
        ],
        [
         "broadway; hollywood; show tunes",
         "Jessica Keenan Wynn"
        ],
        [
         "broadway; hollywood; show tunes",
         "Jessie Mueller"
        ],
        [
         "broadway; hollywood; show tunes",
         "Jewell"
        ],
        [
         "hollywood",
         "Jim Broadbent"
        ],
        [
         "hollywood",
         "Jim Bryant"
        ],
        [
         "movie tunes",
         "Jim Carmichael"
        ],
        [
         "hollywood",
         "Jim Sturgess"
        ],
        [
         "orchestral performance",
         "Jiří Bělohlávek"
        ],
        [
         "orchestral performance",
         "Joann Falletta"
        ],
        [
         "hollywood",
         "Joaquin Phoenix"
        ],
        [
         "hollywood",
         "Joe Anderson"
        ],
        [
         "broadway; hollywood; show tunes",
         "John Gallagher Jr."
        ],
        [
         "broadway; hollywood; show tunes",
         "John Gallagher, Jr."
        ],
        [
         "hollywood",
         "John Kander"
        ],
        [
         "gospel",
         "John P Kee & New Life"
        ],
        [
         "gospel",
         "John P. Kee"
        ],
        [
         "hollywood",
         "John Travolta"
        ],
        [
         "hollywood",
         "Johnny Depp"
        ],
        [
         "hollywood",
         "Johnny Green"
        ],
        [
         "show tunes",
         "Jon Eidson"
        ],
        [
         "contemporary country; country; country road; modern country rock",
         "Jon Pardi"
        ],
        [
         "disney; movie tunes",
         "Jonathan Freeman"
        ],
        [
         "gospel",
         "Jonathan Nelson"
        ],
        [
         "orchestral performance",
         "Josef K"
        ],
        [
         "orchestral performance",
         "Josef Krips"
        ],
        [
         "disney; movie tunes",
         "Joseph Williams"
        ],
        [
         "contemporary country; country; country road; modern country rock",
         "Josh Turner"
        ],
        [
         "orchestral performance",
         "José Serebrier"
        ],
        [
         "latin; latin hip hop; reggaeton; reggaeton flow; trap latino; tropical",
         "Jowell"
        ],
        [
         "latin; latin hip hop; reggaeton; reggaeton flow; trap latino; tropical",
         "Jowell & Randy"
        ],
        [
         "hollywood",
         "Julie Walters"
        ],
        [
         "show tunes",
         "Justin Bohon"
        ],
        [
         "movie tunes",
         "Kamehameha Schools Children's Chorus"
        ],
        [
         "broadway; hollywood; show tunes",
         "Kara Lindsay"
        ],
        [
         "disney; movie tunes",
         "Karen Dotrice"
        ],
        [
         "classical soprano",
         "Karita Mattila"
        ],
        [
         "disney; movie tunes",
         "Kathryn Beaumont"
        ],
        [
         "broadway; hollywood; show tunes",
         "Keala Settle"
        ],
        [
         "broadway; hollywood; show tunes",
         "Keenan Wynn"
        ],
        [
         "movie tunes",
         "Keith David"
        ],
        [
         "latin; latin hip hop; reggaeton; reggaeton flow; trap latino; tropical",
         "Ken-Y"
        ],
        [
         "latin; latin hip hop; reggaeton; reggaeton flow; trap latino; tropical",
         "Kendo"
        ],
        [
         "latin; latin hip hop; reggaeton; reggaeton flow; trap latino; tropical",
         "Kendo Kaponi"
        ],
        [
         "orchestral performance",
         "Kent Nagano"
        ],
        [
         "show tunes",
         "Kevin Duda"
        ],
        [
         "broadway; hollywood; show tunes",
         "Kimiko Glenn"
        ],
        [
         "contemporary country; country; country road; modern country rock",
         "Kip Moore"
        ],
        [
         "orchestral performance",
         "Klaus Tennstedt"
        ],
        [
         "gospel",
         "Kurt Carr & The Kurt Carr Singers"
        ],
        [
         "show tunes",
         "Kym Karath"
        ],
        [
         "movie tunes",
         "LaChanze"
        ],
        [
         "gospel",
         "LaShun Pace"
        ],
        [
         "broadway; hollywood; show tunes",
         "Laura Dreyfuss"
        ],
        [
         "movie tunes",
         "Laura Williams"
        ],
        [
         "disney; movie tunes",
         "Lebo M."
        ],
        [
         "contemporary country; country; country road; modern country rock",
         "Lee Brice"
        ],
        [
         "movie tunes",
         "Leigh Harline"
        ],
        [
         "broadway; hollywood; show tunes",
         "Len Cariou"
        ],
        [
         "broadway; hollywood; show tunes",
         "Leo Norbert Butz"
        ],
        [
         "orchestral performance",
         "Leonard Slatkin"
        ],
        [
         "orchestral performance",
         "Leopold Stokowski"
        ],
        [
         "show tunes",
         "Les Misérables-Original London Cast"
        ],
        [
         "broadway; hollywood; show tunes",
         "Leslie Kritzer"
        ],
        [
         "hollywood",
         "Levi Stubbs"
        ],
        [
         "show tunes",
         "Lewis Cleale"
        ],
        [
         "hollywood",
         "Lily James"
        ],
        [
         "show tunes",
         "Lin-Manuel Miranda"
        ],
        [
         "show tunes",
         "Linda Eder"
        ],
        [
         "movie tunes",
         "Linda Hunt"
        ],
        [
         "classical soprano",
         "Lisa Otto"
        ],
        [
         "classical soprano",
         "Lisa della Casa"
        ],
        [
         "movie tunes",
         "Liz English"
        ],
        [
         "classical soprano",
         "Ljuba Welitsch"
        ],
        [
         "sleep",
         "Loopable"
        ],
        [
         "orchestral performance",
         "Louis Langrée"
        ],
        [
         "sleep",
         "Lullabies for Deep Meditation"
        ],
        [
         "latin; latin hip hop; reggaeton; reggaeton flow; trap latino; tropical",
         "Luny Tunes"
        ],
        [
         "latin; latin hip hop; reggaeton; reggaeton flow; trap latino; tropical",
         "MAGIC!"
        ],
        [
         "movie tunes",
         "Mack David"
        ],
        [
         "latin; latin hip hop; reggaeton; reggaeton flow; trap latino; tropical",
         "Magic"
        ],
        [
         "latin; latin hip hop; reggaeton; reggaeton flow; trap latino; tropical",
         "Magnate Y Valentino"
        ],
        [
         "gospel",
         "Mali Music"
        ],
        [
         "broadway; hollywood; show tunes",
         "Mandy Gonzalez"
        ],
        [
         "classical soprano",
         "Margaret Marshall"
        ],
        [
         "orchestral performance",
         "Mark Elder"
        ],
        [
         "movie tunes",
         "Mark Keali'i Ho'omalu"
        ],
        [
         "gospel",
         "Martha Munizzi"
        ],
        [
         "classical soprano",
         "Martha Mödl"
        ],
        [
         "hollywood",
         "Martin Luther"
        ],
        [
         "hollywood",
         "Martin Luther McCoy"
        ],
        [
         "gospel",
         "Marvin Sapp"
        ],
        [
         "disney; movie tunes",
         "Mary Costa"
        ],
        [
         "disney; movie tunes",
         "Mary Moder"
        ],
        [
         "broadway; hollywood; show tunes",
         "Matthew Morrison"
        ],
        [
         "orchestral performance",
         "Maurice Abravanel"
        ],
        [
         "show tunes",
         "Max Casella"
        ],
        [
         "sleep",
         "Meditation Awareness"
        ],
        [
         "movie tunes",
         "Mel Gibson"
        ],
        [
         "gospel",
         "Men Of Standard"
        ],
        [
         "hollywood",
         "Meryl Streep"
        ],
        [
         "disney; movie tunes",
         "Mice Chorus"
        ],
        [
         "orchestral performance",
         "Michel Plasson"
        ],
        [
         "show tunes",
         "Michelle Duffy"
        ],
        [
         "show tunes",
         "Michelle Federer"
        ],
        [
         "hollywood",
         "Michelle Pfeiffer"
        ],
        [
         "hollywood",
         "Michelle Williams"
        ],
        [
         "movie tunes",
         "Mike Douglas"
        ],
        [
         "show tunes",
         "Mike Faist"
        ],
        [
         "latin; latin hip hop; reggaeton; reggaeton flow; trap latino; tropical",
         "Miky Woodz"
        ],
        [
         "show tunes",
         "Miranda!"
        ],
        [
         "classical soprano",
         "Monika Frimmer"
        ],
        [
         "show tunes",
         "Mya Harrison"
        ],
        [
         "movie tunes",
         "Nancy Adams"
        ],
        [
         "hollywood",
         "Natalie Mendoza"
        ],
        [
         "sleep",
         "Native American Flute"
        ],
        [
         "sleep",
         "Native American Meditations"
        ],
        [
         "sleep",
         "Natural White Noise Relaxation"
        ],
        [
         "movie tunes",
         "Ned Washington"
        ],
        [
         "sleep",
         "New Age"
        ],
        [
         "show tunes",
         "Nicholas Hammond"
        ],
        [
         "show tunes",
         "Nick Spangler"
        ],
        [
         "show tunes",
         "Nicolas Colicos"
        ],
        [
         "broadway; hollywood; show tunes",
         "Norbert Leo Butz"
        ],
        [
         "latin; latin hip hop; reggaeton; reggaeton flow; trap latino; tropical",
         "Nori"
        ],
        [
         "latin; latin hip hop; reggaeton; reggaeton flow; trap latino; tropical",
         "Noriel"
        ],
        [
         "latin; latin hip hop; reggaeton; reggaeton flow; trap latino; tropical",
         "Nova y Jory"
        ],
        [
         "show tunes",
         "Okieriete Onaodowan"
        ],
        [
         "show tunes",
         "Olivia Foa'i"
        ],
        [
         "movie tunes",
         "Oscar Isaac"
        ],
        [
         "orchestral performance",
         "Osmo Vänskä"
        ],
        [
         "orchestral performance",
         "Otmar Suitner"
        ],
        [
         "movie tunes",
         "Paige O'Hara"
        ],
        [
         "disney; movie tunes",
         "Pat Carroll"
        ],
        [
         "broadway; hollywood; show tunes",
         "Patti LuPone"
        ],
        [
         "hollywood",
         "Paul Francis Webster"
        ],
        [
         "movie tunes",
         "Paul Frees"
        ],
        [
         "disney; movie tunes",
         "Paul Kandel"
        ],
        [
         "movie tunes",
         "Pearl Bailey"
        ],
        [
         "orchestral performance",
         "Peter Maag"
        ],
        [
         "movie tunes",
         "Phil Harris"
        ],
        [
         "contemporary country; country; country road; modern country rock",
         "Phil Vassar"
        ],
        [
         "hollywood",
         "Pierce Brosnan"
        ],
        [
         "latin; latin hip hop; reggaeton; reggaeton flow; trap latino; tropical",
         "R.K.M & Ken-Y"
        ],
        [
         "broadway; hollywood; show tunes",
         "Rachel Bay Jones"
        ],
        [
         "show tunes",
         "Rachel House"
        ],
        [
         "movie tunes",
         "Rachel McDowall"
        ],
        [
         "orchestral performance",
         "Rafael Kubelik"
        ],
        [
         "sleep",
         "Rain Storm Sample Library"
        ],
        [
         "hollywood",
         "Ralph Fiennes"
        ],
        [
         "latin; latin hip hop; reggaeton; reggaeton flow; trap latino; tropical",
         "Randy"
        ],
        [
         "orchestral performance",
         "Raymond Leppard"
        ],
        [
         "hollywood",
         "Reese Witherspoon"
        ],
        [
         "sleep",
         "Relajación"
        ],
        [
         "sleep",
         "Relaxation"
        ],
        [
         "classical soprano",
         "Reri Grist"
        ],
        [
         "hollywood",
         "Richard Gere"
        ],
        [
         "hollywood",
         "Richard O'Brien"
        ],
        [
         "gospel",
         "Richard Smallwood"
        ],
        [
         "movie tunes",
         "Richard White"
        ],
        [
         "hollywood",
         "Rick Moranis"
        ],
        [
         "disney; movie tunes",
         "Robby Benson"
        ],
        [
         "show tunes",
         "Robert Billig"
        ],
        [
         "orchestral performance",
         "Robert Shaw"
        ],
        [
         "classical soprano",
         "Roberta Peters"
        ],
        [
         "show tunes",
         "Robin de Jesus"
        ],
        [
         "contemporary country; country; country road; modern country rock",
         "Rodney Atkins"
        ],
        [
         "disney; movie tunes",
         "Roger Bart"
        ],
        [
         "show tunes",
         "Rory O'Malley"
        ],
        [
         "contemporary country; country; country road; modern country rock",
         "Russell Dickerson"
        ],
        [
         "classical soprano",
         "Ruth Ziesak"
        ],
        [
         "latin; latin hip hop; reggaeton; reggaeton flow; trap latino; tropical",
         "Rvssian"
        ],
        [
         "hollywood",
         "Ryan Gosling"
        ],
        [
         "broadway; hollywood; show tunes",
         "Ryan McCartan"
        ],
        [
         "classical soprano",
         "Régine Crespin"
        ],
        [
         "broadway; hollywood; show tunes",
         "Saigon"
        ],
        [
         "orchestral performance",
         "Sakari Oramo"
        ],
        [
         "movie tunes",
         "Sally Dworsky"
        ],
        [
         "show tunes",
         "Samantha Barks"
        ],
        [
         "sleep",
         "Sample Rain Library"
        ],
        [
         "movie tunes",
         "Sandy Duncan, Howard McGillin, Liz Callaway, Dakin Matthews, Adam Wylie, J.D. Daniels, Lex de Azevedo, David Zippel"
        ],
        [
         "hollywood",
         "Sara Ramirez"
        ],
        [
         "movie tunes",
         "Scatman Crothers"
        ],
        [
         "show tunes",
         "Scott Irby-Ranniar"
        ],
        [
         "contemporary country; country; country road; modern country rock",
         "Scotty"
        ],
        [
         "contemporary country; country; country road; modern country rock",
         "Scotty McCreery"
        ],
        [
         "orchestral performance",
         "Semyon Bychkov"
        ],
        [
         "classical soprano",
         "Sena Jurinac"
        ],
        [
         "show tunes",
         "Seth Stewart"
        ],
        [
         "movie tunes",
         "Shelby Flint"
        ],
        [
         "broadway; hollywood; show tunes",
         "Sherie Rene Scott"
        ],
        [
         "disney; movie tunes",
         "Ship's Chorus"
        ],
        [
         "disney; movie tunes",
         "Si and Am"
        ],
        [
         "show tunes",
         "Sierra Boggess as Ariel"
        ],
        [
         "orchestral performance",
         "Sir Adrian Boult"
        ],
        [
         "orchestral performance",
         "Sir Charles Groves"
        ],
        [
         "orchestral performance",
         "Sir Charles Mackerras"
        ],
        [
         "orchestral performance",
         "Sir David Willcocks"
        ],
        [
         "orchestral performance",
         "Sir Georg Solti"
        ],
        [
         "orchestral performance",
         "Sir Thomas Beecham"
        ],
        [
         "sleep",
         "Sleep Baby Sleep"
        ],
        [
         "sleep",
         "Sleep Sound Library"
        ],
        [
         "sleep",
         "Sleepy Times"
        ],
        [
         "sleep",
         "Soothing White Noise for Infant Sleeping and Massage, Crying & Colic Relief"
        ],
        [
         "broadway; hollywood; show tunes",
         "Sophia Anne Caruso"
        ],
        [
         "sleep",
         "Sound Library XL"
        ],
        [
         "movie tunes",
         "Stellan Skarsgård"
        ],
        [
         "hollywood",
         "Stephen Schwartz"
        ],
        [
         "broadway; hollywood; show tunes",
         "Stephen Sondheim"
        ],
        [
         "movie tunes",
         "Sterling Holloway"
        ],
        [
         "contemporary country; country; country road; modern country rock",
         "Steve Holy"
        ],
        [
         "show tunes",
         "Stig Anderson"
        ],
        [
         "hollywood",
         "Stockard Channing"
        ],
        [
         "classical soprano",
         "Susan Gritton"
        ],
        [
         "show tunes",
         "Susan Misner"
        ],
        [
         "hollywood",
         "Susan Sarandon"
        ],
        [
         "broadway; hollywood; show tunes",
         "Sutton Foster"
        ],
        [
         "classical soprano",
         "Suzanne Danco"
        ],
        [
         "hollywood",
         "T.V. Carpio"
        ],
        [
         "gospel",
         "Tamela Mann"
        ],
        [
         "hollywood",
         "Taron Egerton"
        ],
        [
         "movie tunes",
         "Tawatha Agee"
        ],
        [
         "latin; latin hip hop; reggaeton; reggaeton flow; trap latino; tropical",
         "Tempo"
        ],
        [
         "broadway; hollywood; show tunes",
         "Terrence Mann"
        ],
        [
         "movie tunes",
         "Terry Gilkyson"
        ],
        [
         "gospel",
         "The Brooklyn Tabernacle Choir"
        ],
        [
         "gospel",
         "The Clark Sisters"
        ],
        [
         "disney; movie tunes",
         "The Disneyland Children's Chorus"
        ],
        [
         "disney; movie tunes",
         "The Dwarf Chorus"
        ],
        [
         "movie tunes",
         "The Greatest Showman Ensemble"
        ],
        [
         "disney; movie tunes",
         "The Jud Conlon Chorus"
        ],
        [
         "contemporary country; country; country road; modern country rock",
         "The Lost Trailers"
        ],
        [
         "movie tunes",
         "The Mellomen"
        ],
        [
         "movie tunes",
         "The Mouseketeers"
        ],
        [
         "sleep",
         "The Noise"
        ],
        [
         "sleep",
         "The White Noise"
        ],
        [
         "sleep",
         "The White Noise Zen & Meditation Sound Lab"
        ],
        [
         "gospel",
         "The Winans"
        ],
        [
         "sleep",
         "Therapy?"
        ],
        [
         "contemporary country; country; country road; modern country rock",
         "Thomas Rhett"
        ],
        [
         "hollywood",
         "Tim Curry"
        ],
        [
         "sleep",
         "Tmsoft’s White Noise Sleep Sounds"
        ],
        [
         "show tunes",
         "Tom Alan Robbins"
        ],
        [
         "movie tunes",
         "Tom Hulce"
        ],
        [
         "show tunes",
         "Tom Pierson"
        ],
        [
         "movie tunes",
         "Tommy Luske"
        ],
        [
         "disney; movie tunes",
         "Tony Jay"
        ],
        [
         "sleep",
         "Traditional"
        ],
        [
         "gospel",
         "Tramaine Hawkins"
        ],
        [
         "latin; latin hip hop; reggaeton; reggaeton flow; trap latino; tropical",
         "Trebol Clan"
        ],
        [
         "sleep",
         "Twinkle"
        ],
        [
         "gospel",
         "VIP Mass Choir"
        ],
        [
         "movie tunes",
         "Vai Mahina"
        ],
        [
         "classical soprano",
         "Valerie Masterson"
        ],
        [
         "gospel",
         "Vanessa Bell Armstrong"
        ],
        [
         "classical soprano",
         "Varnay"
        ],
        [
         "disney; movie tunes",
         "Verna Felton"
        ],
        [
         "orchestral performance",
         "Vernon Handley"
        ],
        [
         "gospel",
         "Vicki Yohe"
        ],
        [
         "gospel",
         "Vickie Winans"
        ],
        [
         "movie tunes",
         "Victor Sweler"
        ],
        [
         "classical soprano",
         "Violeta Urmana"
        ],
        [
         "latin; latin hip hop; reggaeton; reggaeton flow; trap latino; tropical",
         "Voltio"
        ],
        [
         "latin; latin hip hop; reggaeton; reggaeton flow; trap latino; tropical",
         "WOODZ"
        ],
        [
         "gospel",
         "Walter Hawkins"
        ],
        [
         "sleep",
         "White Noise"
        ],
        [
         "sleep",
         "White Noise Babies"
        ],
        [
         "sleep",
         "White Noise Baby Sleep"
        ],
        [
         "sleep",
         "White Noise Meditation"
        ],
        [
         "sleep",
         "White Noise Research"
        ],
        [
         "sleep",
         "White Noise Sound Garden"
        ],
        [
         "sleep",
         "White Noise Therapy"
        ],
        [
         "sleep",
         "White Noise for Babies"
        ],
        [
         "sleep",
         "White Noise for Deeper Sleep"
        ],
        [
         "sleep",
         "White! Noise"
        ],
        [
         "orchestral performance",
         "Willi Boskovsky"
        ],
        [
         "disney; movie tunes",
         "William Joseph"
        ],
        [
         "gospel",
         "William McDowell"
        ],
        [
         "orchestral performance",
         "William Steinberg"
        ],
        [
         "classical soprano",
         "Wilma Lipp"
        ],
        [
         "latin; latin hip hop; reggaeton; reggaeton flow; trap latino; tropical",
         "Wisin"
        ],
        [
         "orchestral performance",
         "Wolfgang Sawallisch"
        ],
        [
         "sleep",
         "Wonderful Escape"
        ],
        [
         "movie tunes",
         "Xavier Atencio"
        ],
        [
         "latin; latin hip hop; reggaeton; reggaeton flow; trap latino; tropical",
         "Yaga & Mackie"
        ],
        [
         "orchestral performance",
         "Yannick Nézet-Séguin"
        ],
        [
         "classical soprano",
         "Ying Huang"
        ],
        [
         "latin; latin hip hop; reggaeton; reggaeton flow; trap latino; tropical",
         "Yomo"
        ],
        [
         "contemporary country; country; country road; modern country rock",
         "Young Chris"
        ],
        [
         "contemporary country; country; country road; modern country rock",
         "Zac Brown"
        ],
        [
         "contemporary country; country; country road; modern country rock",
         "Zac Brown Band"
        ],
        [
         "show tunes",
         "Ziv Zaifman"
        ],
        [
         "latin; latin hip hop; reggaeton; reggaeton flow; trap latino; tropical",
         "Ñejo & Dalmata"
        ],
        [
         "latin; latin hip hop; reggaeton; reggaeton flow; trap latino; tropical",
         "Ñengo Flow"
        ]
       ],
       "datasetInfos": [],
       "dbfsResultPath": null,
       "isJsonSchema": true,
       "metadata": {},
       "overflow": false,
       "plotOptions": {
        "customPlotOptions": {},
        "displayType": "table",
        "pivotAggregation": null,
        "pivotColumns": null,
        "xColumns": null,
        "yColumns": null
       },
       "removedWidgets": [],
       "schema": [
        {
         "metadata": "{}",
         "name": "genres",
         "type": "\"string\""
        },
        {
         "metadata": "{}",
         "name": "artists",
         "type": "\"string\""
        }
       ],
       "type": "table"
      }
     },
     "output_type": "display_data"
    }
   ],
   "source": [
    "lista_genero =  top_generos_2.genres.unique().to_list()\n",
    "genero_artista = df_Wgenres.loc[df_Wgenres['genres'].isin (lista_genero)]\n",
    "genero_artista = genero_artista[['genres', 'artists' ]]\n",
    "display(genero_artista)"
   ]
  }
 ],
 "metadata": {
  "application/vnd.databricks.v1+notebook": {
   "computePreferences": null,
   "dashboards": [],
   "environmentMetadata": {
    "base_environment": "",
    "client": "1"
   },
   "language": "python",
   "notebookMetadata": {
    "pythonIndentUnit": 4
   },
   "notebookName": "trata-dados-principais",
   "widgets": {}
  }
 },
 "nbformat": 4,
 "nbformat_minor": 0
}
