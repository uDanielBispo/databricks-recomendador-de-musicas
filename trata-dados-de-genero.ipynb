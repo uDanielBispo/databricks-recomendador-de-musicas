{
 "cells": [
  {
   "cell_type": "code",
   "execution_count": 0,
   "metadata": {
    "application/vnd.databricks.v1+cell": {
     "cellMetadata": {
      "byteLimit": 2048000,
      "rowLimit": 10000
     },
     "inputWidgets": {},
     "nuid": "cfd46d7b-7a16-4b0f-af96-2bab150e4b68",
     "showTitle": false,
     "tableResultSettingsMap": {},
     "title": ""
    }
   },
   "outputs": [],
   "source": [
    "data_path = '/FileStore/dados/data_by_genres.csv'"
   ]
  },
  {
   "cell_type": "code",
   "execution_count": 0,
   "metadata": {
    "application/vnd.databricks.v1+cell": {
     "cellMetadata": {
      "byteLimit": 2048000,
      "rowLimit": 10000
     },
     "inputWidgets": {},
     "nuid": "e11f6f84-44d7-46a3-87a7-3db95a95190a",
     "showTitle": false,
     "tableResultSettingsMap": {},
     "title": ""
    }
   },
   "outputs": [
    {
     "output_type": "stream",
     "name": "stdout",
     "output_type": "stream",
     "text": [
      "Out[2]: [FileInfo(path='dbfs:/FileStore/dados/data.csv', name='data.csv', size=29654587, modificationTime=1739827659000),\n FileInfo(path='dbfs:/FileStore/dados/data_by_artist.csv', name='data_by_artist.csv', size=4315607, modificationTime=1739827652000),\n FileInfo(path='dbfs:/FileStore/dados/data_by_genres.csv', name='data_by_genres.csv', size=576456, modificationTime=1739827652000),\n FileInfo(path='dbfs:/FileStore/dados/data_by_year.csv', name='data_by_year.csv', size=21194, modificationTime=1739827653000),\n FileInfo(path='dbfs:/FileStore/dados/data_w_genres.csv', name='data_w_genres.csv', size=5224673, modificationTime=1739827655000)]"
     ]
    }
   ],
   "source": [
    "dbutils.fs.ls('/FileStore/dados/')"
   ]
  },
  {
   "cell_type": "code",
   "execution_count": 0,
   "metadata": {
    "application/vnd.databricks.v1+cell": {
     "cellMetadata": {
      "byteLimit": 2048000,
      "rowLimit": 10000
     },
     "inputWidgets": {},
     "nuid": "62e1e06e-a001-4966-aa17-0fbc27e629d1",
     "showTitle": false,
     "tableResultSettingsMap": {},
     "title": ""
    }
   },
   "outputs": [],
   "source": [
    "df_data_artists = spark.read.csv(data_path, sep=',', inferSchema=True, header=True)"
   ]
  },
  {
   "cell_type": "code",
   "execution_count": 0,
   "metadata": {
    "application/vnd.databricks.v1+cell": {
     "cellMetadata": {
      "byteLimit": 2048000,
      "rowLimit": 10000
     },
     "inputWidgets": {},
     "nuid": "6a7ed2c1-a48d-471f-8d01-026a60ce86b0",
     "showTitle": false,
     "tableResultSettingsMap": {},
     "title": ""
    }
   },
   "outputs": [],
   "source": [
    "df_data_artists = df_data_artists.pandas_api()"
   ]
  },
  {
   "cell_type": "code",
   "execution_count": 0,
   "metadata": {
    "application/vnd.databricks.v1+cell": {
     "cellMetadata": {
      "byteLimit": 2048000,
      "rowLimit": 10000
     },
     "inputWidgets": {},
     "nuid": "5fdba589-d332-46a6-9f83-de3b93ed5f2c",
     "showTitle": false,
     "tableResultSettingsMap": {},
     "title": ""
    }
   },
   "outputs": [
    {
     "output_type": "display_data",
     "data": {
      "text/html": [
       "<style scoped>\n",
       "  .table-result-container {\n",
       "    max-height: 300px;\n",
       "    overflow: auto;\n",
       "  }\n",
       "  table, th, td {\n",
       "    border: 1px solid black;\n",
       "    border-collapse: collapse;\n",
       "  }\n",
       "  th, td {\n",
       "    padding: 5px;\n",
       "  }\n",
       "  th {\n",
       "    text-align: left;\n",
       "  }\n",
       "</style><div class='table-result-container'><table class='table-result'><thead style='background-color: white'><tr><th>mode</th><th>genres</th><th>acousticness</th><th>danceability</th><th>duration_ms</th><th>energy</th><th>instrumentalness</th><th>liveness</th><th>loudness</th><th>speechiness</th><th>tempo</th><th>valence</th><th>popularity</th><th>key</th></tr></thead><tbody><tr><td>1</td><td>21st century classical</td><td>0.9793333333333332</td><td>0.16288333333333335</td><td>160297.66666666663</td><td>0.07131666666666665</td><td>0.60683367</td><td>0.3616</td><td>-31.514333333333337</td><td>0.04056666666666667</td><td>75.3365</td><td>0.10378333333333334</td><td>27.83333333333333</td><td>6</td></tr><tr><td>1</td><td>432hz</td><td>0.49478</td><td>0.2993333333333333</td><td>1048887.333333333</td><td>0.4506783333333333</td><td>0.4777616666666668</td><td>0.131</td><td>-16.854</td><td>0.07681666666666667</td><td>120.28566666666666</td><td>0.22175</td><td>52.5</td><td>5</td></tr><tr><td>1</td><td>8-bit</td><td>0.762</td><td>0.7120000000000001</td><td>115177.0</td><td>0.818</td><td>0.8759999999999999</td><td>0.126</td><td>-9.18</td><td>0.047</td><td>133.444</td><td>0.975</td><td>48.0</td><td>7</td></tr><tr><td>1</td><td>[]</td><td>0.6514170195595453</td><td>0.5290925603549332</td><td>232880.8902503945</td><td>0.4191460727353524</td><td>0.2053091895111363</td><td>0.21869585415040735</td><td>-12.288964675489455</td><td>0.10787155868681396</td><td>112.8573524318416</td><td>0.5136042963588958</td><td>20.859882191849056</td><td>7</td></tr><tr><td>1</td><td>a cappella</td><td>0.676557304985755</td><td>0.5389612464387464</td><td>190628.5408867521</td><td>0.3164335701566952</td><td>0.003003441440420227</td><td>0.1722541371082621</td><td>-12.479387421652426</td><td>0.08285143981481483</td><td>112.1103620014245</td><td>0.44824865455840457</td><td>45.82007122507122</td><td>7</td></tr></tbody></table></div>"
      ]
     },
     "metadata": {
      "application/vnd.databricks.v1+output": {
       "addedWidgets": {},
       "aggData": [],
       "aggError": "",
       "aggOverflow": false,
       "aggSchema": [],
       "aggSeriesLimitReached": false,
       "aggType": "",
       "arguments": {},
       "columnCustomDisplayInfos": {},
       "data": [
        [
         1,
         "21st century classical",
         0.9793333333333332,
         0.16288333333333335,
         160297.66666666663,
         0.07131666666666665,
         0.60683367,
         0.3616,
         -31.514333333333337,
         0.04056666666666667,
         75.3365,
         0.10378333333333334,
         27.83333333333333,
         6
        ],
        [
         1,
         "432hz",
         0.49478,
         0.2993333333333333,
         1048887.333333333,
         0.4506783333333333,
         0.4777616666666668,
         0.131,
         -16.854,
         0.07681666666666667,
         120.28566666666666,
         0.22175,
         52.5,
         5
        ],
        [
         1,
         "8-bit",
         0.762,
         0.7120000000000001,
         115177.0,
         0.818,
         0.8759999999999999,
         0.126,
         -9.18,
         0.047,
         133.444,
         0.975,
         48.0,
         7
        ],
        [
         1,
         "[]",
         0.6514170195595453,
         0.5290925603549332,
         232880.8902503945,
         0.4191460727353524,
         0.2053091895111363,
         0.21869585415040735,
         -12.288964675489455,
         0.10787155868681396,
         112.8573524318416,
         0.5136042963588958,
         20.859882191849056,
         7
        ],
        [
         1,
         "a cappella",
         0.676557304985755,
         0.5389612464387464,
         190628.5408867521,
         0.3164335701566952,
         0.003003441440420227,
         0.1722541371082621,
         -12.479387421652426,
         0.08285143981481483,
         112.1103620014245,
         0.44824865455840457,
         45.82007122507122,
         7
        ]
       ],
       "datasetInfos": [],
       "dbfsResultPath": null,
       "isJsonSchema": true,
       "metadata": {},
       "overflow": false,
       "plotOptions": {
        "customPlotOptions": {},
        "displayType": "table",
        "pivotAggregation": null,
        "pivotColumns": null,
        "xColumns": null,
        "yColumns": null
       },
       "removedWidgets": [],
       "schema": [
        {
         "metadata": "{}",
         "name": "mode",
         "type": "\"integer\""
        },
        {
         "metadata": "{}",
         "name": "genres",
         "type": "\"string\""
        },
        {
         "metadata": "{}",
         "name": "acousticness",
         "type": "\"double\""
        },
        {
         "metadata": "{}",
         "name": "danceability",
         "type": "\"double\""
        },
        {
         "metadata": "{}",
         "name": "duration_ms",
         "type": "\"double\""
        },
        {
         "metadata": "{}",
         "name": "energy",
         "type": "\"double\""
        },
        {
         "metadata": "{}",
         "name": "instrumentalness",
         "type": "\"double\""
        },
        {
         "metadata": "{}",
         "name": "liveness",
         "type": "\"double\""
        },
        {
         "metadata": "{}",
         "name": "loudness",
         "type": "\"double\""
        },
        {
         "metadata": "{}",
         "name": "speechiness",
         "type": "\"double\""
        },
        {
         "metadata": "{}",
         "name": "tempo",
         "type": "\"double\""
        },
        {
         "metadata": "{}",
         "name": "valence",
         "type": "\"double\""
        },
        {
         "metadata": "{}",
         "name": "popularity",
         "type": "\"double\""
        },
        {
         "metadata": "{}",
         "name": "key",
         "type": "\"integer\""
        }
       ],
       "type": "table"
      }
     },
     "output_type": "display_data"
    }
   ],
   "source": [
    "display(df_data_artists.head())"
   ]
  },
  {
   "cell_type": "code",
   "execution_count": 0,
   "metadata": {
    "application/vnd.databricks.v1+cell": {
     "cellMetadata": {
      "byteLimit": 2048000,
      "rowLimit": 10000
     },
     "inputWidgets": {},
     "nuid": "54f6ef19-7a3a-497f-b19f-7b33722af2be",
     "showTitle": false,
     "tableResultSettingsMap": {},
     "title": ""
    }
   },
   "outputs": [],
   "source": [
    "df_data_artists.to_parquet('dbfs:/FileStore/dados_tratados/data_genres.parquet')"
   ]
  }
 ],
 "metadata": {
  "application/vnd.databricks.v1+notebook": {
   "computePreferences": null,
   "dashboards": [],
   "environmentMetadata": {
    "base_environment": "",
    "client": "1"
   },
   "language": "python",
   "notebookMetadata": {
    "pythonIndentUnit": 4
   },
   "notebookName": "trata-dados-de-genero",
   "widgets": {}
  }
 },
 "nbformat": 4,
 "nbformat_minor": 0
}
